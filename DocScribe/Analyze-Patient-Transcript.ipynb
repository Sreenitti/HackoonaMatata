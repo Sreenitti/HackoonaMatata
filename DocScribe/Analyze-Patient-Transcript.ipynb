{
 "cells": [
  {
   "cell_type": "code",
   "execution_count": 3,
   "id": "cef0e238",
   "metadata": {},
   "outputs": [
    {
     "name": "stdout",
     "output_type": "stream",
     "text": [
      "Collecting git+https://github.com/huggingface/peft.git (from -r ../req.txt (line 6))\n",
      "  Cloning https://github.com/huggingface/peft.git to /private/var/folders/_7/czvh6_055p51yd63hjnyqwz00000gn/T/pip-req-build-7b98ipww\n",
      "  Running command git clone --filter=blob:none --quiet https://github.com/huggingface/peft.git /private/var/folders/_7/czvh6_055p51yd63hjnyqwz00000gn/T/pip-req-build-7b98ipww\n",
      "  Resolved https://github.com/huggingface/peft.git to commit 78daa4cf7624ec9c2c38fe73b0317b61428ca26b\n",
      "  Installing build dependencies ... \u001b[?25ldone\n",
      "\u001b[?25h  Getting requirements to build wheel ... \u001b[?25ldone\n",
      "\u001b[?25h  Preparing metadata (pyproject.toml) ... \u001b[?25ldone\n",
      "\u001b[?25hCollecting git+https://github.com/huggingface/transformers.git (from -r ../req.txt (line 7))\n",
      "  Cloning https://github.com/huggingface/transformers.git to /private/var/folders/_7/czvh6_055p51yd63hjnyqwz00000gn/T/pip-req-build-4fjwd4tj\n",
      "  Running command git clone --filter=blob:none --quiet https://github.com/huggingface/transformers.git /private/var/folders/_7/czvh6_055p51yd63hjnyqwz00000gn/T/pip-req-build-4fjwd4tj\n",
      "  Resolved https://github.com/huggingface/transformers.git to commit 7e1413d16ab34dbfbdb0019735f7fa33a57c658f\n",
      "  Installing build dependencies ... \u001b[?25ldone\n",
      "\u001b[?25h  Getting requirements to build wheel ... \u001b[?25ldone\n",
      "\u001b[?25h  Preparing metadata (pyproject.toml) ... \u001b[?25ldone\n",
      "\u001b[?25hRequirement already satisfied: accelerate in /Users/sreenitti/anaconda3/lib/python3.11/site-packages (from -r ../req.txt (line 1)) (0.28.0)\n",
      "Requirement already satisfied: appdirs==1.4.4 in /Users/sreenitti/anaconda3/lib/python3.11/site-packages (from -r ../req.txt (line 2)) (1.4.4)\n",
      "Collecting bitsandbytes==0.37.2 (from -r ../req.txt (line 3))\n",
      "  Using cached bitsandbytes-0.37.2-py3-none-any.whl.metadata (7.7 kB)\n",
      "Collecting datasets==2.10.1 (from -r ../req.txt (line 4))\n",
      "  Using cached datasets-2.10.1-py3-none-any.whl.metadata (20 kB)\n",
      "Collecting fire==0.5.0 (from -r ../req.txt (line 5))\n",
      "  Using cached fire-0.5.0-py2.py3-none-any.whl\n",
      "Requirement already satisfied: torch==2.2.1 in /Users/sreenitti/anaconda3/lib/python3.11/site-packages (from -r ../req.txt (line 8)) (2.2.1)\n",
      "Collecting sentencepiece==0.1.97 (from -r ../req.txt (line 9))\n",
      "  Using cached sentencepiece-0.1.97.tar.gz (524 kB)\n",
      "  Preparing metadata (setup.py) ... \u001b[?25ldone\n",
      "\u001b[?25hCollecting tensorboardX==2.6 (from -r ../req.txt (line 10))\n",
      "  Using cached tensorboardX-2.6-py2.py3-none-any.whl.metadata (5.4 kB)\n",
      "Collecting gradio==3.34.0 (from -r ../req.txt (line 11))\n",
      "  Using cached gradio-3.34.0-py3-none-any.whl.metadata (15 kB)\n",
      "Requirement already satisfied: seaborn==0.12.2 in /Users/sreenitti/anaconda3/lib/python3.11/site-packages (from -r ../req.txt (line 12)) (0.12.2)\n",
      "Requirement already satisfied: ipykernel in /Users/sreenitti/anaconda3/lib/python3.11/site-packages (from -r ../req.txt (line 13)) (6.25.0)\n",
      "Requirement already satisfied: ipywidgets in /Users/sreenitti/anaconda3/lib/python3.11/site-packages (from -r ../req.txt (line 14)) (8.0.4)\n",
      "Collecting tensorboard==2.15 (from -r ../req.txt (line 15))\n",
      "  Using cached tensorboard-2.15.0-py3-none-any.whl.metadata (1.7 kB)\n",
      "Collecting langchain==0.0.312 (from -r ../req.txt (line 16))\n",
      "  Using cached langchain-0.0.312-py3-none-any.whl.metadata (15 kB)\n",
      "Collecting sentence_transformers==2.2.2 (from -r ../req.txt (line 17))\n",
      "  Using cached sentence_transformers-2.2.2-py3-none-any.whl\n",
      "Collecting unstructured==0.6.2 (from -r ../req.txt (line 18))\n",
      "  Using cached unstructured-0.6.2-py3-none-any.whl.metadata (18 kB)\n",
      "Collecting pdfminer.six==20221105 (from -r ../req.txt (line 19))\n",
      "  Using cached pdfminer.six-20221105-py3-none-any.whl.metadata (4.0 kB)\n",
      "Collecting qdrant-client==1.1.6 (from -r ../req.txt (line 20))\n",
      "  Using cached qdrant_client-1.1.6-py3-none-any.whl.metadata (7.3 kB)\n",
      "Requirement already satisfied: numpy>=1.17 in /Users/sreenitti/anaconda3/lib/python3.11/site-packages (from datasets==2.10.1->-r ../req.txt (line 4)) (1.26.4)\n",
      "Requirement already satisfied: pyarrow>=6.0.0 in /Users/sreenitti/anaconda3/lib/python3.11/site-packages (from datasets==2.10.1->-r ../req.txt (line 4)) (11.0.0)\n",
      "Requirement already satisfied: dill<0.3.7,>=0.3.0 in /Users/sreenitti/anaconda3/lib/python3.11/site-packages (from datasets==2.10.1->-r ../req.txt (line 4)) (0.3.6)\n",
      "Requirement already satisfied: pandas in /Users/sreenitti/anaconda3/lib/python3.11/site-packages (from datasets==2.10.1->-r ../req.txt (line 4)) (1.5.1)\n",
      "Requirement already satisfied: requests>=2.19.0 in /Users/sreenitti/anaconda3/lib/python3.11/site-packages (from datasets==2.10.1->-r ../req.txt (line 4)) (2.31.0)\n",
      "Requirement already satisfied: tqdm>=4.62.1 in /Users/sreenitti/anaconda3/lib/python3.11/site-packages (from datasets==2.10.1->-r ../req.txt (line 4)) (4.66.2)\n",
      "Requirement already satisfied: xxhash in /Users/sreenitti/anaconda3/lib/python3.11/site-packages (from datasets==2.10.1->-r ../req.txt (line 4)) (2.0.2)\n",
      "Requirement already satisfied: multiprocess in /Users/sreenitti/anaconda3/lib/python3.11/site-packages (from datasets==2.10.1->-r ../req.txt (line 4)) (0.70.14)\n",
      "Requirement already satisfied: fsspec>=2021.11.1 in /Users/sreenitti/anaconda3/lib/python3.11/site-packages (from fsspec[http]>=2021.11.1->datasets==2.10.1->-r ../req.txt (line 4)) (2024.3.1)\n",
      "Requirement already satisfied: aiohttp in /Users/sreenitti/anaconda3/lib/python3.11/site-packages (from datasets==2.10.1->-r ../req.txt (line 4)) (3.8.5)\n",
      "Requirement already satisfied: huggingface-hub<1.0.0,>=0.2.0 in /Users/sreenitti/anaconda3/lib/python3.11/site-packages (from datasets==2.10.1->-r ../req.txt (line 4)) (0.21.4)\n",
      "Requirement already satisfied: packaging in /Users/sreenitti/anaconda3/lib/python3.11/site-packages (from datasets==2.10.1->-r ../req.txt (line 4)) (23.2)\n",
      "Requirement already satisfied: responses<0.19 in /Users/sreenitti/anaconda3/lib/python3.11/site-packages (from datasets==2.10.1->-r ../req.txt (line 4)) (0.13.3)\n",
      "Requirement already satisfied: pyyaml>=5.1 in /Users/sreenitti/anaconda3/lib/python3.11/site-packages (from datasets==2.10.1->-r ../req.txt (line 4)) (6.0)\n",
      "Requirement already satisfied: six in /Users/sreenitti/anaconda3/lib/python3.11/site-packages (from fire==0.5.0->-r ../req.txt (line 5)) (1.16.0)\n",
      "Requirement already satisfied: termcolor in /Users/sreenitti/anaconda3/lib/python3.11/site-packages (from fire==0.5.0->-r ../req.txt (line 5)) (2.3.0)\n",
      "Requirement already satisfied: filelock in /Users/sreenitti/anaconda3/lib/python3.11/site-packages (from torch==2.2.1->-r ../req.txt (line 8)) (3.9.0)\n",
      "Requirement already satisfied: typing-extensions>=4.8.0 in /Users/sreenitti/anaconda3/lib/python3.11/site-packages (from torch==2.2.1->-r ../req.txt (line 8)) (4.9.0)\n",
      "Requirement already satisfied: sympy in /Users/sreenitti/anaconda3/lib/python3.11/site-packages (from torch==2.2.1->-r ../req.txt (line 8)) (1.11.1)\n",
      "Requirement already satisfied: networkx in /Users/sreenitti/anaconda3/lib/python3.11/site-packages (from torch==2.2.1->-r ../req.txt (line 8)) (3.1)\n",
      "Requirement already satisfied: jinja2 in /Users/sreenitti/anaconda3/lib/python3.11/site-packages (from torch==2.2.1->-r ../req.txt (line 8)) (3.1.2)\n",
      "Collecting protobuf<4,>=3.8.0 (from tensorboardX==2.6->-r ../req.txt (line 10))\n",
      "  Using cached protobuf-3.20.3-py2.py3-none-any.whl.metadata (720 bytes)\n",
      "Requirement already satisfied: aiofiles in /Users/sreenitti/anaconda3/lib/python3.11/site-packages (from gradio==3.34.0->-r ../req.txt (line 11)) (22.1.0)\n",
      "Requirement already satisfied: altair>=4.2.0 in /Users/sreenitti/anaconda3/lib/python3.11/site-packages (from gradio==3.34.0->-r ../req.txt (line 11)) (5.2.0)\n",
      "Requirement already satisfied: fastapi in /Users/sreenitti/anaconda3/lib/python3.11/site-packages (from gradio==3.34.0->-r ../req.txt (line 11)) (0.110.0)\n",
      "Requirement already satisfied: ffmpy in /Users/sreenitti/anaconda3/lib/python3.11/site-packages (from gradio==3.34.0->-r ../req.txt (line 11)) (0.3.2)\n",
      "Requirement already satisfied: gradio-client>=0.2.6 in /Users/sreenitti/anaconda3/lib/python3.11/site-packages (from gradio==3.34.0->-r ../req.txt (line 11)) (0.13.0)\n",
      "Requirement already satisfied: httpx in /Users/sreenitti/anaconda3/lib/python3.11/site-packages (from gradio==3.34.0->-r ../req.txt (line 11)) (0.27.0)\n",
      "Requirement already satisfied: markdown-it-py>=2.0.0 in /Users/sreenitti/anaconda3/lib/python3.11/site-packages (from markdown-it-py[linkify]>=2.0.0->gradio==3.34.0->-r ../req.txt (line 11)) (2.2.0)\n",
      "Requirement already satisfied: markupsafe in /Users/sreenitti/anaconda3/lib/python3.11/site-packages (from gradio==3.34.0->-r ../req.txt (line 11)) (2.1.1)\n",
      "Requirement already satisfied: matplotlib in /Users/sreenitti/anaconda3/lib/python3.11/site-packages (from gradio==3.34.0->-r ../req.txt (line 11)) (3.7.2)\n",
      "Requirement already satisfied: mdit-py-plugins<=0.3.3 in /Users/sreenitti/anaconda3/lib/python3.11/site-packages (from gradio==3.34.0->-r ../req.txt (line 11)) (0.3.0)\n",
      "Requirement already satisfied: orjson in /Users/sreenitti/anaconda3/lib/python3.11/site-packages (from gradio==3.34.0->-r ../req.txt (line 11)) (3.9.15)\n",
      "Requirement already satisfied: pillow in /Users/sreenitti/anaconda3/lib/python3.11/site-packages (from gradio==3.34.0->-r ../req.txt (line 11)) (9.4.0)\n",
      "Requirement already satisfied: pydantic in /Users/sreenitti/anaconda3/lib/python3.11/site-packages (from gradio==3.34.0->-r ../req.txt (line 11)) (2.6.4)\n",
      "Requirement already satisfied: pydub in /Users/sreenitti/anaconda3/lib/python3.11/site-packages (from gradio==3.34.0->-r ../req.txt (line 11)) (0.25.1)\n",
      "Requirement already satisfied: pygments>=2.12.0 in /Users/sreenitti/anaconda3/lib/python3.11/site-packages (from gradio==3.34.0->-r ../req.txt (line 11)) (2.15.1)\n",
      "Requirement already satisfied: python-multipart in /Users/sreenitti/anaconda3/lib/python3.11/site-packages (from gradio==3.34.0->-r ../req.txt (line 11)) (0.0.9)\n",
      "Requirement already satisfied: semantic-version in /Users/sreenitti/anaconda3/lib/python3.11/site-packages (from gradio==3.34.0->-r ../req.txt (line 11)) (2.10.0)\n",
      "Requirement already satisfied: uvicorn>=0.14.0 in /Users/sreenitti/anaconda3/lib/python3.11/site-packages (from gradio==3.34.0->-r ../req.txt (line 11)) (0.29.0)\n",
      "Requirement already satisfied: websockets>=10.0 in /Users/sreenitti/anaconda3/lib/python3.11/site-packages (from gradio==3.34.0->-r ../req.txt (line 11)) (11.0.3)\n",
      "Requirement already satisfied: absl-py>=0.4 in /Users/sreenitti/anaconda3/lib/python3.11/site-packages (from tensorboard==2.15->-r ../req.txt (line 15)) (2.0.0)\n",
      "Requirement already satisfied: grpcio>=1.48.2 in /Users/sreenitti/anaconda3/lib/python3.11/site-packages (from tensorboard==2.15->-r ../req.txt (line 15)) (1.62.1)\n",
      "Requirement already satisfied: google-auth<3,>=1.6.3 in /Users/sreenitti/anaconda3/lib/python3.11/site-packages (from tensorboard==2.15->-r ../req.txt (line 15)) (2.23.3)\n",
      "Requirement already satisfied: google-auth-oauthlib<2,>=0.5 in /Users/sreenitti/anaconda3/lib/python3.11/site-packages (from tensorboard==2.15->-r ../req.txt (line 15)) (1.0.0)\n",
      "Requirement already satisfied: markdown>=2.6.8 in /Users/sreenitti/anaconda3/lib/python3.11/site-packages (from tensorboard==2.15->-r ../req.txt (line 15)) (3.4.1)\n"
     ]
    },
    {
     "name": "stdout",
     "output_type": "stream",
     "text": [
      "Requirement already satisfied: setuptools>=41.0.0 in /Users/sreenitti/anaconda3/lib/python3.11/site-packages (from tensorboard==2.15->-r ../req.txt (line 15)) (68.0.0)\n",
      "Requirement already satisfied: tensorboard-data-server<0.8.0,>=0.7.0 in /Users/sreenitti/anaconda3/lib/python3.11/site-packages (from tensorboard==2.15->-r ../req.txt (line 15)) (0.7.1)\n",
      "Requirement already satisfied: werkzeug>=1.0.1 in /Users/sreenitti/anaconda3/lib/python3.11/site-packages (from tensorboard==2.15->-r ../req.txt (line 15)) (2.2.3)\n",
      "Requirement already satisfied: SQLAlchemy<3,>=1.4 in /Users/sreenitti/anaconda3/lib/python3.11/site-packages (from langchain==0.0.312->-r ../req.txt (line 16)) (1.4.39)\n",
      "Requirement already satisfied: anyio<4.0 in /Users/sreenitti/anaconda3/lib/python3.11/site-packages (from langchain==0.0.312->-r ../req.txt (line 16)) (3.5.0)\n",
      "Requirement already satisfied: dataclasses-json<0.7,>=0.5.7 in /Users/sreenitti/anaconda3/lib/python3.11/site-packages (from langchain==0.0.312->-r ../req.txt (line 16)) (0.6.4)\n",
      "Requirement already satisfied: jsonpatch<2.0,>=1.33 in /Users/sreenitti/anaconda3/lib/python3.11/site-packages (from langchain==0.0.312->-r ../req.txt (line 16)) (1.33)\n",
      "Collecting langsmith<0.1.0,>=0.0.43 (from langchain==0.0.312->-r ../req.txt (line 16))\n",
      "  Using cached langsmith-0.0.92-py3-none-any.whl.metadata (9.9 kB)\n",
      "Requirement already satisfied: tenacity<9.0.0,>=8.1.0 in /Users/sreenitti/anaconda3/lib/python3.11/site-packages (from langchain==0.0.312->-r ../req.txt (line 16)) (8.2.2)\n",
      "Collecting torchvision (from sentence_transformers==2.2.2->-r ../req.txt (line 17))\n",
      "  Using cached torchvision-0.17.1-cp311-cp311-macosx_11_0_arm64.whl.metadata (6.6 kB)\n",
      "Requirement already satisfied: scikit-learn in /Users/sreenitti/anaconda3/lib/python3.11/site-packages (from sentence_transformers==2.2.2->-r ../req.txt (line 17)) (1.3.2)\n",
      "Requirement already satisfied: scipy in /Users/sreenitti/anaconda3/lib/python3.11/site-packages (from sentence_transformers==2.2.2->-r ../req.txt (line 17)) (1.11.1)\n",
      "Requirement already satisfied: nltk in /Users/sreenitti/anaconda3/lib/python3.11/site-packages (from sentence_transformers==2.2.2->-r ../req.txt (line 17)) (3.8.1)\n",
      "Collecting argilla (from unstructured==0.6.2->-r ../req.txt (line 18))\n",
      "  Using cached argilla-1.26.0-py3-none-any.whl.metadata (17 kB)\n",
      "Requirement already satisfied: lxml in /Users/sreenitti/anaconda3/lib/python3.11/site-packages (from unstructured==0.6.2->-r ../req.txt (line 18)) (5.1.0)\n",
      "Collecting msg-parser (from unstructured==0.6.2->-r ../req.txt (line 18))\n",
      "  Using cached msg_parser-1.2.0-py2.py3-none-any.whl.metadata (3.0 kB)\n",
      "Requirement already satisfied: openpyxl in /Users/sreenitti/anaconda3/lib/python3.11/site-packages (from unstructured==0.6.2->-r ../req.txt (line 18)) (3.0.10)\n",
      "Collecting pypandoc (from unstructured==0.6.2->-r ../req.txt (line 18))\n",
      "  Using cached pypandoc-1.13-py3-none-any.whl.metadata (16 kB)\n",
      "Collecting python-docx (from unstructured==0.6.2->-r ../req.txt (line 18))\n",
      "  Using cached python_docx-1.1.0-py3-none-any.whl.metadata (2.0 kB)\n",
      "Collecting python-pptx (from unstructured==0.6.2->-r ../req.txt (line 18))\n",
      "  Using cached python_pptx-0.6.23-py3-none-any.whl.metadata (18 kB)\n",
      "Requirement already satisfied: python-magic in /Users/sreenitti/anaconda3/lib/python3.11/site-packages (from unstructured==0.6.2->-r ../req.txt (line 18)) (0.4.27)\n",
      "Requirement already satisfied: certifi>=2022.12.07 in /Users/sreenitti/anaconda3/lib/python3.11/site-packages (from unstructured==0.6.2->-r ../req.txt (line 18)) (2024.2.2)\n",
      "Requirement already satisfied: charset-normalizer>=2.0.0 in /Users/sreenitti/anaconda3/lib/python3.11/site-packages (from pdfminer.six==20221105->-r ../req.txt (line 19)) (3.3.2)\n",
      "Requirement already satisfied: cryptography>=36.0.0 in /Users/sreenitti/anaconda3/lib/python3.11/site-packages (from pdfminer.six==20221105->-r ../req.txt (line 19)) (41.0.3)\n",
      "Requirement already satisfied: grpcio-tools>=1.41.0 in /Users/sreenitti/anaconda3/lib/python3.11/site-packages (from qdrant-client==1.1.6->-r ../req.txt (line 20)) (1.62.1)\n",
      "Collecting pydantic (from gradio==3.34.0->-r ../req.txt (line 11))\n",
      "  Using cached pydantic-1.10.14-cp311-cp311-macosx_11_0_arm64.whl.metadata (150 kB)\n",
      "Requirement already satisfied: urllib3<2.0.0,>=1.26.14 in /Users/sreenitti/anaconda3/lib/python3.11/site-packages (from qdrant-client==1.1.6->-r ../req.txt (line 20)) (1.26.18)\n",
      "Requirement already satisfied: psutil in /Users/sreenitti/anaconda3/lib/python3.11/site-packages (from accelerate->-r ../req.txt (line 1)) (5.9.0)\n",
      "Requirement already satisfied: safetensors>=0.3.1 in /Users/sreenitti/anaconda3/lib/python3.11/site-packages (from accelerate->-r ../req.txt (line 1)) (0.4.2)\n",
      "Requirement already satisfied: regex!=2019.12.17 in /Users/sreenitti/anaconda3/lib/python3.11/site-packages (from transformers==4.40.0.dev0->-r ../req.txt (line 7)) (2023.12.25)\n",
      "Requirement already satisfied: tokenizers<0.19,>=0.14 in /Users/sreenitti/anaconda3/lib/python3.11/site-packages (from transformers==4.40.0.dev0->-r ../req.txt (line 7)) (0.15.2)\n",
      "Requirement already satisfied: appnope in /Users/sreenitti/anaconda3/lib/python3.11/site-packages (from ipykernel->-r ../req.txt (line 13)) (0.1.2)\n",
      "Requirement already satisfied: comm>=0.1.1 in /Users/sreenitti/anaconda3/lib/python3.11/site-packages (from ipykernel->-r ../req.txt (line 13)) (0.1.2)\n",
      "Requirement already satisfied: debugpy>=1.6.5 in /Users/sreenitti/anaconda3/lib/python3.11/site-packages (from ipykernel->-r ../req.txt (line 13)) (1.6.7)\n",
      "Requirement already satisfied: ipython>=7.23.1 in /Users/sreenitti/anaconda3/lib/python3.11/site-packages (from ipykernel->-r ../req.txt (line 13)) (8.15.0)\n",
      "Requirement already satisfied: jupyter-client>=6.1.12 in /Users/sreenitti/anaconda3/lib/python3.11/site-packages (from ipykernel->-r ../req.txt (line 13)) (7.4.9)\n",
      "Requirement already satisfied: jupyter-core!=5.0.*,>=4.12 in /Users/sreenitti/anaconda3/lib/python3.11/site-packages (from ipykernel->-r ../req.txt (line 13)) (5.3.0)\n",
      "Requirement already satisfied: matplotlib-inline>=0.1 in /Users/sreenitti/anaconda3/lib/python3.11/site-packages (from ipykernel->-r ../req.txt (line 13)) (0.1.6)\n",
      "Requirement already satisfied: nest-asyncio in /Users/sreenitti/anaconda3/lib/python3.11/site-packages (from ipykernel->-r ../req.txt (line 13)) (1.5.6)\n",
      "Requirement already satisfied: pyzmq>=20 in /Users/sreenitti/anaconda3/lib/python3.11/site-packages (from ipykernel->-r ../req.txt (line 13)) (23.2.0)\n",
      "Requirement already satisfied: tornado>=6.1 in /Users/sreenitti/anaconda3/lib/python3.11/site-packages (from ipykernel->-r ../req.txt (line 13)) (6.3.2)\n",
      "Requirement already satisfied: traitlets>=5.4.0 in /Users/sreenitti/anaconda3/lib/python3.11/site-packages (from ipykernel->-r ../req.txt (line 13)) (5.7.1)\n",
      "Requirement already satisfied: widgetsnbextension~=4.0 in /Users/sreenitti/anaconda3/lib/python3.11/site-packages (from ipywidgets->-r ../req.txt (line 14)) (4.0.5)\n",
      "Requirement already satisfied: jupyterlab-widgets~=3.0 in /Users/sreenitti/anaconda3/lib/python3.11/site-packages (from ipywidgets->-r ../req.txt (line 14)) (3.0.5)\n",
      "Requirement already satisfied: attrs>=17.3.0 in /Users/sreenitti/anaconda3/lib/python3.11/site-packages (from aiohttp->datasets==2.10.1->-r ../req.txt (line 4)) (22.1.0)\n",
      "Requirement already satisfied: multidict<7.0,>=4.5 in /Users/sreenitti/anaconda3/lib/python3.11/site-packages (from aiohttp->datasets==2.10.1->-r ../req.txt (line 4)) (6.0.2)\n",
      "Requirement already satisfied: async-timeout<5.0,>=4.0.0a3 in /Users/sreenitti/anaconda3/lib/python3.11/site-packages (from aiohttp->datasets==2.10.1->-r ../req.txt (line 4)) (4.0.2)\n",
      "Requirement already satisfied: yarl<2.0,>=1.0 in /Users/sreenitti/anaconda3/lib/python3.11/site-packages (from aiohttp->datasets==2.10.1->-r ../req.txt (line 4)) (1.8.1)\n",
      "Requirement already satisfied: frozenlist>=1.1.1 in /Users/sreenitti/anaconda3/lib/python3.11/site-packages (from aiohttp->datasets==2.10.1->-r ../req.txt (line 4)) (1.3.3)\n",
      "Requirement already satisfied: aiosignal>=1.1.2 in /Users/sreenitti/anaconda3/lib/python3.11/site-packages (from aiohttp->datasets==2.10.1->-r ../req.txt (line 4)) (1.2.0)\n",
      "Requirement already satisfied: jsonschema>=3.0 in /Users/sreenitti/anaconda3/lib/python3.11/site-packages (from altair>=4.2.0->gradio==3.34.0->-r ../req.txt (line 11)) (4.17.3)\n"
     ]
    },
    {
     "name": "stdout",
     "output_type": "stream",
     "text": [
      "Requirement already satisfied: toolz in /Users/sreenitti/anaconda3/lib/python3.11/site-packages (from altair>=4.2.0->gradio==3.34.0->-r ../req.txt (line 11)) (0.12.0)\n",
      "Requirement already satisfied: idna>=2.8 in /Users/sreenitti/anaconda3/lib/python3.11/site-packages (from anyio<4.0->langchain==0.0.312->-r ../req.txt (line 16)) (3.6)\n",
      "Requirement already satisfied: sniffio>=1.1 in /Users/sreenitti/anaconda3/lib/python3.11/site-packages (from anyio<4.0->langchain==0.0.312->-r ../req.txt (line 16)) (1.2.0)\n",
      "Requirement already satisfied: cffi>=1.12 in /Users/sreenitti/anaconda3/lib/python3.11/site-packages (from cryptography>=36.0.0->pdfminer.six==20221105->-r ../req.txt (line 19)) (1.15.1)\n",
      "Requirement already satisfied: marshmallow<4.0.0,>=3.18.0 in /Users/sreenitti/anaconda3/lib/python3.11/site-packages (from dataclasses-json<0.7,>=0.5.7->langchain==0.0.312->-r ../req.txt (line 16)) (3.20.2)\n",
      "Requirement already satisfied: typing-inspect<1,>=0.4.0 in /Users/sreenitti/anaconda3/lib/python3.11/site-packages (from dataclasses-json<0.7,>=0.5.7->langchain==0.0.312->-r ../req.txt (line 16)) (0.9.0)\n",
      "Requirement already satisfied: cachetools<6.0,>=2.0.0 in /Users/sreenitti/anaconda3/lib/python3.11/site-packages (from google-auth<3,>=1.6.3->tensorboard==2.15->-r ../req.txt (line 15)) (5.3.1)\n",
      "Requirement already satisfied: pyasn1-modules>=0.2.1 in /Users/sreenitti/anaconda3/lib/python3.11/site-packages (from google-auth<3,>=1.6.3->tensorboard==2.15->-r ../req.txt (line 15)) (0.2.8)\n",
      "Requirement already satisfied: rsa<5,>=3.1.4 in /Users/sreenitti/anaconda3/lib/python3.11/site-packages (from google-auth<3,>=1.6.3->tensorboard==2.15->-r ../req.txt (line 15)) (4.9)\n",
      "Requirement already satisfied: requests-oauthlib>=0.7.0 in /Users/sreenitti/anaconda3/lib/python3.11/site-packages (from google-auth-oauthlib<2,>=0.5->tensorboard==2.15->-r ../req.txt (line 15)) (1.3.1)\n",
      "INFO: pip is looking at multiple versions of grpcio-tools to determine which version is compatible with other requirements. This could take a while.\n",
      "Collecting grpcio-tools>=1.41.0 (from qdrant-client==1.1.6->-r ../req.txt (line 20))\n",
      "  Using cached grpcio_tools-1.62.0-cp311-cp311-macosx_10_10_universal2.whl.metadata (6.2 kB)\n",
      "  Using cached grpcio_tools-1.60.1-cp311-cp311-macosx_10_10_universal2.whl.metadata (6.2 kB)\n",
      "  Using cached grpcio_tools-1.60.0-cp311-cp311-macosx_10_10_universal2.whl.metadata (6.2 kB)\n",
      "  Using cached grpcio_tools-1.59.3-cp311-cp311-macosx_10_10_universal2.whl.metadata (6.2 kB)\n",
      "  Using cached grpcio_tools-1.59.2-cp311-cp311-macosx_10_10_universal2.whl.metadata (6.2 kB)\n",
      "  Using cached grpcio_tools-1.59.0-cp311-cp311-macosx_10_10_universal2.whl.metadata (6.2 kB)\n",
      "  Using cached grpcio_tools-1.58.0-cp311-cp311-macosx_10_10_universal2.whl.metadata (6.2 kB)\n",
      "INFO: pip is still looking at multiple versions of grpcio-tools to determine which version is compatible with other requirements. This could take a while.\n",
      "  Using cached grpcio_tools-1.57.0-cp311-cp311-macosx_10_10_universal2.whl.metadata (6.2 kB)\n",
      "  Using cached grpcio_tools-1.56.2-cp311-cp311-macosx_10_10_universal2.whl.metadata (6.2 kB)\n",
      "  Using cached grpcio_tools-1.56.0-cp311-cp311-macosx_10_10_universal2.whl.metadata (6.2 kB)\n",
      "  Using cached grpcio_tools-1.55.3-cp311-cp311-macosx_10_10_universal2.whl.metadata (6.2 kB)\n",
      "  Using cached grpcio_tools-1.54.3-cp311-cp311-macosx_10_10_universal2.whl.metadata (6.2 kB)\n",
      "INFO: This is taking longer than usual. You might need to provide the dependency resolver with stricter constraints to reduce runtime. See https://pip.pypa.io/warnings/backtracking for guidance. If you want to abort this run, press Ctrl + C.\n",
      "  Using cached grpcio_tools-1.54.2-cp311-cp311-macosx_10_10_universal2.whl.metadata (6.2 kB)\n",
      "  Using cached grpcio_tools-1.54.0-cp311-cp311-macosx_10_10_universal2.whl.metadata (6.2 kB)\n",
      "  Using cached grpcio_tools-1.53.2-cp311-cp311-macosx_10_10_universal2.whl.metadata (6.0 kB)\n",
      "  Using cached grpcio_tools-1.53.1-cp311-cp311-macosx_10_10_universal2.whl.metadata (6.0 kB)\n",
      "  Using cached grpcio_tools-1.53.0-cp311-cp311-macosx_10_10_universal2.whl.metadata (6.0 kB)\n",
      "  Using cached grpcio_tools-1.51.3-cp311-cp311-macosx_10_10_universal2.whl.metadata (6.0 kB)\n",
      "  Using cached grpcio-tools-1.51.1.tar.gz (2.3 MB)\n",
      "  Preparing metadata (setup.py) ... \u001b[?25ldone\n",
      "\u001b[?25h  Using cached grpcio-tools-1.50.0.tar.gz (2.3 MB)\n",
      "  Preparing metadata (setup.py) ... \u001b[?25ldone\n",
      "\u001b[?25h  Using cached grpcio-tools-1.49.1.tar.gz (2.3 MB)\n",
      "  Preparing metadata (setup.py) ... \u001b[?25ldone\n",
      "\u001b[?25h  Using cached grpcio-tools-1.48.2.tar.gz (2.2 MB)\n",
      "  Preparing metadata (setup.py) ... \u001b[?25ldone\n",
      "\u001b[?25hRequirement already satisfied: httpcore==1.* in /Users/sreenitti/anaconda3/lib/python3.11/site-packages (from httpx->gradio==3.34.0->-r ../req.txt (line 11)) (1.0.4)\n",
      "Requirement already satisfied: h11<0.15,>=0.13 in /Users/sreenitti/anaconda3/lib/python3.11/site-packages (from httpcore==1.*->httpx->gradio==3.34.0->-r ../req.txt (line 11)) (0.14.0)\n",
      "Requirement already satisfied: h2<5,>=3 in /Users/sreenitti/anaconda3/lib/python3.11/site-packages (from httpx[http2]>=0.14.0->qdrant-client==1.1.6->-r ../req.txt (line 20)) (4.1.0)\n",
      "Requirement already satisfied: backcall in /Users/sreenitti/anaconda3/lib/python3.11/site-packages (from ipython>=7.23.1->ipykernel->-r ../req.txt (line 13)) (0.2.0)\n",
      "Requirement already satisfied: decorator in /Users/sreenitti/anaconda3/lib/python3.11/site-packages (from ipython>=7.23.1->ipykernel->-r ../req.txt (line 13)) (5.1.1)\n",
      "Requirement already satisfied: jedi>=0.16 in /Users/sreenitti/anaconda3/lib/python3.11/site-packages (from ipython>=7.23.1->ipykernel->-r ../req.txt (line 13)) (0.18.1)\n",
      "Requirement already satisfied: pickleshare in /Users/sreenitti/anaconda3/lib/python3.11/site-packages (from ipython>=7.23.1->ipykernel->-r ../req.txt (line 13)) (0.7.5)\n",
      "Requirement already satisfied: prompt-toolkit!=3.0.37,<3.1.0,>=3.0.30 in /Users/sreenitti/anaconda3/lib/python3.11/site-packages (from ipython>=7.23.1->ipykernel->-r ../req.txt (line 13)) (3.0.36)\n",
      "Requirement already satisfied: stack-data in /Users/sreenitti/anaconda3/lib/python3.11/site-packages (from ipython>=7.23.1->ipykernel->-r ../req.txt (line 13)) (0.2.0)\n",
      "Requirement already satisfied: pexpect>4.3 in /Users/sreenitti/anaconda3/lib/python3.11/site-packages (from ipython>=7.23.1->ipykernel->-r ../req.txt (line 13)) (4.8.0)\n",
      "Requirement already satisfied: jsonpointer>=1.9 in /Users/sreenitti/anaconda3/lib/python3.11/site-packages (from jsonpatch<2.0,>=1.33->langchain==0.0.312->-r ../req.txt (line 16)) (2.1)\n",
      "Requirement already satisfied: entrypoints in /Users/sreenitti/anaconda3/lib/python3.11/site-packages (from jupyter-client>=6.1.12->ipykernel->-r ../req.txt (line 13)) (0.4)\n",
      "Requirement already satisfied: python-dateutil>=2.8.2 in /Users/sreenitti/anaconda3/lib/python3.11/site-packages (from jupyter-client>=6.1.12->ipykernel->-r ../req.txt (line 13)) (2.8.2)\n",
      "Requirement already satisfied: platformdirs>=2.5 in /Users/sreenitti/anaconda3/lib/python3.11/site-packages (from jupyter-core!=5.0.*,>=4.12->ipykernel->-r ../req.txt (line 13)) (3.10.0)\n",
      "Requirement already satisfied: mdurl~=0.1 in /Users/sreenitti/anaconda3/lib/python3.11/site-packages (from markdown-it-py>=2.0.0->markdown-it-py[linkify]>=2.0.0->gradio==3.34.0->-r ../req.txt (line 11)) (0.1.0)\n",
      "Requirement already satisfied: linkify-it-py<3,>=1 in /Users/sreenitti/anaconda3/lib/python3.11/site-packages (from markdown-it-py[linkify]>=2.0.0->gradio==3.34.0->-r ../req.txt (line 11)) (2.0.0)\n",
      "Requirement already satisfied: contourpy>=1.0.1 in /Users/sreenitti/anaconda3/lib/python3.11/site-packages (from matplotlib->gradio==3.34.0->-r ../req.txt (line 11)) (1.0.5)\n",
      "Requirement already satisfied: cycler>=0.10 in /Users/sreenitti/anaconda3/lib/python3.11/site-packages (from matplotlib->gradio==3.34.0->-r ../req.txt (line 11)) (0.11.0)\n",
      "Requirement already satisfied: fonttools>=4.22.0 in /Users/sreenitti/anaconda3/lib/python3.11/site-packages (from matplotlib->gradio==3.34.0->-r ../req.txt (line 11)) (4.25.0)\n",
      "Requirement already satisfied: kiwisolver>=1.0.1 in /Users/sreenitti/anaconda3/lib/python3.11/site-packages (from matplotlib->gradio==3.34.0->-r ../req.txt (line 11)) (1.4.4)\n",
      "Requirement already satisfied: pyparsing<3.1,>=2.3.1 in /Users/sreenitti/anaconda3/lib/python3.11/site-packages (from matplotlib->gradio==3.34.0->-r ../req.txt (line 11)) (3.0.9)\n",
      "Requirement already satisfied: pytz>=2020.1 in /Users/sreenitti/anaconda3/lib/python3.11/site-packages (from pandas->datasets==2.10.1->-r ../req.txt (line 4)) (2023.3.post1)\n"
     ]
    },
    {
     "name": "stdout",
     "output_type": "stream",
     "text": [
      "Requirement already satisfied: click>=7.0 in /Users/sreenitti/anaconda3/lib/python3.11/site-packages (from uvicorn>=0.14.0->gradio==3.34.0->-r ../req.txt (line 11)) (8.1.7)\n",
      "INFO: pip is looking at multiple versions of argilla to determine which version is compatible with other requirements. This could take a while.\n",
      "Collecting argilla (from unstructured==0.6.2->-r ../req.txt (line 18))\n",
      "  Using cached argilla-1.25.0-py3-none-any.whl.metadata (17 kB)\n",
      "  Using cached argilla-1.24.0-py3-none-any.whl.metadata (24 kB)\n",
      "  Using cached argilla-1.23.1-py3-none-any.whl.metadata (25 kB)\n",
      "  Using cached argilla-1.23.0-py3-none-any.whl.metadata (25 kB)\n",
      "  Using cached argilla-1.22.0-py3-none-any.whl.metadata (25 kB)\n",
      "  Using cached argilla-1.21.0-py3-none-any.whl.metadata (25 kB)\n",
      "  Using cached argilla-1.20.0-py3-none-any.whl.metadata (16 kB)\n",
      "INFO: pip is still looking at multiple versions of argilla to determine which version is compatible with other requirements. This could take a while.\n",
      "  Using cached argilla-1.19.0-py3-none-any.whl.metadata (16 kB)\n",
      "  Using cached argilla-1.18.0-py3-none-any.whl.metadata (15 kB)\n",
      "  Using cached argilla-1.17.0-py3-none-any.whl.metadata (15 kB)\n",
      "  Using cached argilla-1.16.0-py3-none-any.whl.metadata (15 kB)\n",
      "  Using cached argilla-1.15.1-py3-none-any.whl.metadata (14 kB)\n",
      "INFO: This is taking longer than usual. You might need to provide the dependency resolver with stricter constraints to reduce runtime. See https://pip.pypa.io/warnings/backtracking for guidance. If you want to abort this run, press Ctrl + C.\n",
      "  Using cached argilla-1.15.0-py3-none-any.whl.metadata (14 kB)\n",
      "  Using cached argilla-1.14.1-py3-none-any.whl.metadata (14 kB)\n",
      "  Using cached argilla-1.14.0-py3-none-any.whl.metadata (14 kB)\n",
      "  Using cached argilla-1.13.3-py3-none-any.whl.metadata (14 kB)\n",
      "  Using cached argilla-1.13.2-py3-none-any.whl.metadata (14 kB)\n",
      "  Using cached argilla-1.13.1-py3-none-any.whl.metadata (14 kB)\n",
      "  Using cached argilla-1.13.0-py3-none-any.whl.metadata (14 kB)\n",
      "  Using cached argilla-1.12.1-py3-none-any.whl.metadata (13 kB)\n",
      "  Using cached argilla-1.12.0-py3-none-any.whl.metadata (14 kB)\n",
      "  Using cached argilla-1.11.0-py3-none-any.whl.metadata (13 kB)\n",
      "  Using cached argilla-1.10.0-py3-none-any.whl.metadata (13 kB)\n",
      "  Using cached argilla-1.9.0-py3-none-any.whl.metadata (12 kB)\n",
      "  Using cached argilla-1.8.0-py3-none-any.whl.metadata (11 kB)\n",
      "  Using cached argilla-1.7.0-py3-none-any.whl.metadata (11 kB)\n",
      "  Using cached argilla-1.6.0-py3-none-any.whl.metadata (13 kB)\n",
      "  Using cached argilla-1.5.1-py3-none-any.whl.metadata (13 kB)\n",
      "  Using cached argilla-1.5.0-py3-none-any.whl.metadata (13 kB)\n",
      "  Using cached argilla-1.4.1-py3-none-any.whl.metadata (13 kB)\n",
      "  Using cached argilla-1.4.0-py3-none-any.whl.metadata (13 kB)\n",
      "  Using cached argilla-1.3.2-py3-none-any.whl.metadata (15 kB)\n",
      "  Using cached argilla-1.3.1-py3-none-any.whl.metadata (15 kB)\n",
      "  Using cached argilla-1.3.0-py3-none-any.whl.metadata (15 kB)\n",
      "  Using cached argilla-1.2.2-py3-none-any.whl.metadata (14 kB)\n",
      "  Using cached argilla-1.2.1-py3-none-any.whl.metadata (14 kB)\n",
      "  Using cached argilla-1.2.0-py3-none-any.whl.metadata (14 kB)\n",
      "  Using cached argilla-1.1.1-py3-none-any.whl.metadata (14 kB)\n",
      "  Using cached argilla-1.1.0-py3-none-any.whl.metadata (14 kB)\n",
      "  Using cached argilla-1.0.1-py3-none-any.whl.metadata (13 kB)\n",
      "  Using cached argilla-1.0.0-py3-none-any.whl.metadata (13 kB)\n",
      "  Using cached argilla-0.0.1-py3-none-any.whl.metadata (182 bytes)\n",
      "Requirement already satisfied: starlette<0.37.0,>=0.36.3 in /Users/sreenitti/anaconda3/lib/python3.11/site-packages (from fastapi->gradio==3.34.0->-r ../req.txt (line 11)) (0.36.3)\n",
      "Collecting olefile>=0.46 (from msg-parser->unstructured==0.6.2->-r ../req.txt (line 18))\n",
      "  Using cached olefile-0.47-py2.py3-none-any.whl.metadata (9.7 kB)\n",
      "Requirement already satisfied: joblib in /Users/sreenitti/anaconda3/lib/python3.11/site-packages (from nltk->sentence_transformers==2.2.2->-r ../req.txt (line 17)) (1.3.2)\n",
      "Requirement already satisfied: et_xmlfile in /Users/sreenitti/anaconda3/lib/python3.11/site-packages (from openpyxl->unstructured==0.6.2->-r ../req.txt (line 18)) (1.1.0)\n",
      "Collecting XlsxWriter>=0.5.7 (from python-pptx->unstructured==0.6.2->-r ../req.txt (line 18))\n",
      "  Using cached XlsxWriter-3.2.0-py3-none-any.whl.metadata (2.6 kB)\n",
      "Requirement already satisfied: threadpoolctl>=2.0.0 in /Users/sreenitti/anaconda3/lib/python3.11/site-packages (from scikit-learn->sentence_transformers==2.2.2->-r ../req.txt (line 17)) (2.2.0)\n",
      "Requirement already satisfied: mpmath>=0.19 in /Users/sreenitti/anaconda3/lib/python3.11/site-packages (from sympy->torch==2.2.1->-r ../req.txt (line 8)) (1.3.0)\n",
      "Requirement already satisfied: pycparser in /Users/sreenitti/anaconda3/lib/python3.11/site-packages (from cffi>=1.12->cryptography>=36.0.0->pdfminer.six==20221105->-r ../req.txt (line 19)) (2.21)\n",
      "Requirement already satisfied: hyperframe<7,>=6.0 in /Users/sreenitti/anaconda3/lib/python3.11/site-packages (from h2<5,>=3->httpx[http2]>=0.14.0->qdrant-client==1.1.6->-r ../req.txt (line 20)) (6.0.1)\n",
      "Requirement already satisfied: hpack<5,>=4.0 in /Users/sreenitti/anaconda3/lib/python3.11/site-packages (from h2<5,>=3->httpx[http2]>=0.14.0->qdrant-client==1.1.6->-r ../req.txt (line 20)) (4.0.0)\n",
      "Requirement already satisfied: parso<0.9.0,>=0.8.0 in /Users/sreenitti/anaconda3/lib/python3.11/site-packages (from jedi>=0.16->ipython>=7.23.1->ipykernel->-r ../req.txt (line 13)) (0.8.3)\n",
      "Requirement already satisfied: pyrsistent!=0.17.0,!=0.17.1,!=0.17.2,>=0.14.0 in /Users/sreenitti/anaconda3/lib/python3.11/site-packages (from jsonschema>=3.0->altair>=4.2.0->gradio==3.34.0->-r ../req.txt (line 11)) (0.18.0)\n",
      "Requirement already satisfied: uc-micro-py in /Users/sreenitti/anaconda3/lib/python3.11/site-packages (from linkify-it-py<3,>=1->markdown-it-py[linkify]>=2.0.0->gradio==3.34.0->-r ../req.txt (line 11)) (1.0.1)\n",
      "Requirement already satisfied: ptyprocess>=0.5 in /Users/sreenitti/anaconda3/lib/python3.11/site-packages (from pexpect>4.3->ipython>=7.23.1->ipykernel->-r ../req.txt (line 13)) (0.7.0)\n",
      "Requirement already satisfied: wcwidth in /Users/sreenitti/anaconda3/lib/python3.11/site-packages (from prompt-toolkit!=3.0.37,<3.1.0,>=3.0.30->ipython>=7.23.1->ipykernel->-r ../req.txt (line 13)) (0.2.5)\n",
      "Requirement already satisfied: pyasn1<0.5.0,>=0.4.6 in /Users/sreenitti/anaconda3/lib/python3.11/site-packages (from pyasn1-modules>=0.2.1->google-auth<3,>=1.6.3->tensorboard==2.15->-r ../req.txt (line 15)) (0.4.8)\n",
      "Requirement already satisfied: oauthlib>=3.0.0 in /Users/sreenitti/anaconda3/lib/python3.11/site-packages (from requests-oauthlib>=0.7.0->google-auth-oauthlib<2,>=0.5->tensorboard==2.15->-r ../req.txt (line 15)) (3.2.2)\n",
      "Requirement already satisfied: mypy-extensions>=0.3.0 in /Users/sreenitti/anaconda3/lib/python3.11/site-packages (from typing-inspect<1,>=0.4.0->dataclasses-json<0.7,>=0.5.7->langchain==0.0.312->-r ../req.txt (line 16)) (1.0.0)\n",
      "Requirement already satisfied: executing in /Users/sreenitti/anaconda3/lib/python3.11/site-packages (from stack-data->ipython>=7.23.1->ipykernel->-r ../req.txt (line 13)) (0.8.3)\n",
      "Requirement already satisfied: asttokens in /Users/sreenitti/anaconda3/lib/python3.11/site-packages (from stack-data->ipython>=7.23.1->ipykernel->-r ../req.txt (line 13)) (2.0.5)\n",
      "Requirement already satisfied: pure-eval in /Users/sreenitti/anaconda3/lib/python3.11/site-packages (from stack-data->ipython>=7.23.1->ipykernel->-r ../req.txt (line 13)) (0.2.2)\n",
      "Using cached bitsandbytes-0.37.2-py3-none-any.whl (84.2 MB)\n",
      "Using cached datasets-2.10.1-py3-none-any.whl (469 kB)\n",
      "Using cached tensorboardX-2.6-py2.py3-none-any.whl (114 kB)\n",
      "Using cached gradio-3.34.0-py3-none-any.whl (20.0 MB)\n",
      "Using cached tensorboard-2.15.0-py3-none-any.whl (5.6 MB)\n",
      "Using cached langchain-0.0.312-py3-none-any.whl (1.8 MB)\n",
      "Using cached unstructured-0.6.2-py3-none-any.whl (1.3 MB)\n",
      "Using cached pdfminer.six-20221105-py3-none-any.whl (5.6 MB)\n",
      "Using cached qdrant_client-1.1.6-py3-none-any.whl (126 kB)\n",
      "Using cached langsmith-0.0.92-py3-none-any.whl (56 kB)\n",
      "Using cached protobuf-3.20.3-py2.py3-none-any.whl (162 kB)\n",
      "Using cached pydantic-1.10.14-cp311-cp311-macosx_11_0_arm64.whl (2.5 MB)\n",
      "Using cached argilla-0.0.1-py3-none-any.whl (1.0 kB)\n",
      "Using cached msg_parser-1.2.0-py2.py3-none-any.whl (101 kB)\n",
      "Using cached pypandoc-1.13-py3-none-any.whl (21 kB)\n",
      "Using cached python_docx-1.1.0-py3-none-any.whl (239 kB)\n",
      "Using cached python_pptx-0.6.23-py3-none-any.whl (471 kB)\n",
      "Using cached torchvision-0.17.1-cp311-cp311-macosx_11_0_arm64.whl (1.6 MB)\n",
      "Using cached olefile-0.47-py2.py3-none-any.whl (114 kB)\n"
     ]
    },
    {
     "name": "stdout",
     "output_type": "stream",
     "text": [
      "Using cached XlsxWriter-3.2.0-py3-none-any.whl (159 kB)\n",
      "Building wheels for collected packages: sentencepiece, grpcio-tools\n",
      "  Building wheel for sentencepiece (setup.py) ... \u001b[?25lerror\n",
      "  \u001b[1;31merror\u001b[0m: \u001b[1msubprocess-exited-with-error\u001b[0m\n",
      "  \n",
      "  \u001b[31m×\u001b[0m \u001b[32mpython setup.py bdist_wheel\u001b[0m did not run successfully.\n",
      "  \u001b[31m│\u001b[0m exit code: \u001b[1;36m1\u001b[0m\n",
      "  \u001b[31m╰─>\u001b[0m \u001b[31m[84 lines of output]\u001b[0m\n",
      "  \u001b[31m   \u001b[0m running bdist_wheel\n",
      "  \u001b[31m   \u001b[0m running build\n",
      "  \u001b[31m   \u001b[0m running build_py\n",
      "  \u001b[31m   \u001b[0m creating build\n",
      "  \u001b[31m   \u001b[0m creating build/lib.macosx-11.1-arm64-cpython-311\n",
      "  \u001b[31m   \u001b[0m creating build/lib.macosx-11.1-arm64-cpython-311/sentencepiece\n",
      "  \u001b[31m   \u001b[0m copying src/sentencepiece/__init__.py -> build/lib.macosx-11.1-arm64-cpython-311/sentencepiece\n",
      "  \u001b[31m   \u001b[0m copying src/sentencepiece/_version.py -> build/lib.macosx-11.1-arm64-cpython-311/sentencepiece\n",
      "  \u001b[31m   \u001b[0m copying src/sentencepiece/sentencepiece_model_pb2.py -> build/lib.macosx-11.1-arm64-cpython-311/sentencepiece\n",
      "  \u001b[31m   \u001b[0m copying src/sentencepiece/sentencepiece_pb2.py -> build/lib.macosx-11.1-arm64-cpython-311/sentencepiece\n",
      "  \u001b[31m   \u001b[0m running build_ext\n",
      "  \u001b[31m   \u001b[0m Package sentencepiece was not found in the pkg-config search path.\n",
      "  \u001b[31m   \u001b[0m Perhaps you should add the directory containing `sentencepiece.pc'\n",
      "  \u001b[31m   \u001b[0m to the PKG_CONFIG_PATH environment variable\n",
      "  \u001b[31m   \u001b[0m No package 'sentencepiece' found\n",
      "  \u001b[31m   \u001b[0m Cloning into 'sentencepiece'...\n",
      "  \u001b[31m   \u001b[0m Note: switching to '58f256cf6f01bb86e6fa634a5cc560de5bd1667d'.\n",
      "  \u001b[31m   \u001b[0m \n",
      "  \u001b[31m   \u001b[0m You are in 'detached HEAD' state. You can look around, make experimental\n",
      "  \u001b[31m   \u001b[0m changes and commit them, and you can discard any commits you make in this\n",
      "  \u001b[31m   \u001b[0m state without impacting any branches by switching back to a branch.\n",
      "  \u001b[31m   \u001b[0m \n",
      "  \u001b[31m   \u001b[0m If you want to create a new branch to retain commits you create, you may\n",
      "  \u001b[31m   \u001b[0m do so (now or later) by using -c with the switch command. Example:\n",
      "  \u001b[31m   \u001b[0m \n",
      "  \u001b[31m   \u001b[0m   git switch -c <new-branch-name>\n",
      "  \u001b[31m   \u001b[0m \n",
      "  \u001b[31m   \u001b[0m Or undo this operation with:\n",
      "  \u001b[31m   \u001b[0m \n",
      "  \u001b[31m   \u001b[0m   git switch -\n",
      "  \u001b[31m   \u001b[0m \n",
      "  \u001b[31m   \u001b[0m Turn off this advice by setting config variable advice.detachedHead to false\n",
      "  \u001b[31m   \u001b[0m \n",
      "  \u001b[31m   \u001b[0m ./build_bundled.sh: line 19: cmake: command not found\n",
      "  \u001b[31m   \u001b[0m ./build_bundled.sh: line 20: nproc: command not found\n",
      "  \u001b[31m   \u001b[0m ./build_bundled.sh: line 20: cmake: command not found\n",
      "  \u001b[31m   \u001b[0m Traceback (most recent call last):\n",
      "  \u001b[31m   \u001b[0m   File \"<string>\", line 2, in <module>\n",
      "  \u001b[31m   \u001b[0m   File \"<pip-setuptools-caller>\", line 34, in <module>\n",
      "  \u001b[31m   \u001b[0m   File \"/private/var/folders/_7/czvh6_055p51yd63hjnyqwz00000gn/T/pip-install-g06mmhum/sentencepiece_0ff3eb17b0fc4cf6a458c56467e0874f/setup.py\", line 136, in <module>\n",
      "  \u001b[31m   \u001b[0m     setup(\n",
      "  \u001b[31m   \u001b[0m   File \"/Users/sreenitti/anaconda3/lib/python3.11/site-packages/setuptools/__init__.py\", line 107, in setup\n",
      "  \u001b[31m   \u001b[0m     return distutils.core.setup(**attrs)\n",
      "  \u001b[31m   \u001b[0m            ^^^^^^^^^^^^^^^^^^^^^^^^^^^^^\n",
      "  \u001b[31m   \u001b[0m   File \"/Users/sreenitti/anaconda3/lib/python3.11/site-packages/setuptools/_distutils/core.py\", line 185, in setup\n",
      "  \u001b[31m   \u001b[0m     return run_commands(dist)\n",
      "  \u001b[31m   \u001b[0m            ^^^^^^^^^^^^^^^^^^\n",
      "  \u001b[31m   \u001b[0m   File \"/Users/sreenitti/anaconda3/lib/python3.11/site-packages/setuptools/_distutils/core.py\", line 201, in run_commands\n",
      "  \u001b[31m   \u001b[0m     dist.run_commands()\n",
      "  \u001b[31m   \u001b[0m   File \"/Users/sreenitti/anaconda3/lib/python3.11/site-packages/setuptools/_distutils/dist.py\", line 969, in run_commands\n",
      "  \u001b[31m   \u001b[0m     self.run_command(cmd)\n",
      "  \u001b[31m   \u001b[0m   File \"/Users/sreenitti/anaconda3/lib/python3.11/site-packages/setuptools/dist.py\", line 1234, in run_command\n",
      "  \u001b[31m   \u001b[0m     super().run_command(command)\n",
      "  \u001b[31m   \u001b[0m   File \"/Users/sreenitti/anaconda3/lib/python3.11/site-packages/setuptools/_distutils/dist.py\", line 988, in run_command\n",
      "  \u001b[31m   \u001b[0m     cmd_obj.run()\n",
      "  \u001b[31m   \u001b[0m   File \"/Users/sreenitti/anaconda3/lib/python3.11/site-packages/wheel/bdist_wheel.py\", line 325, in run\n",
      "  \u001b[31m   \u001b[0m     self.run_command(\"build\")\n",
      "  \u001b[31m   \u001b[0m   File \"/Users/sreenitti/anaconda3/lib/python3.11/site-packages/setuptools/_distutils/cmd.py\", line 318, in run_command\n",
      "  \u001b[31m   \u001b[0m     self.distribution.run_command(command)\n",
      "  \u001b[31m   \u001b[0m   File \"/Users/sreenitti/anaconda3/lib/python3.11/site-packages/setuptools/dist.py\", line 1234, in run_command\n",
      "  \u001b[31m   \u001b[0m     super().run_command(command)\n",
      "  \u001b[31m   \u001b[0m   File \"/Users/sreenitti/anaconda3/lib/python3.11/site-packages/setuptools/_distutils/dist.py\", line 988, in run_command\n",
      "  \u001b[31m   \u001b[0m     cmd_obj.run()\n",
      "  \u001b[31m   \u001b[0m   File \"/Users/sreenitti/anaconda3/lib/python3.11/site-packages/setuptools/_distutils/command/build.py\", line 131, in run\n",
      "  \u001b[31m   \u001b[0m     self.run_command(cmd_name)\n",
      "  \u001b[31m   \u001b[0m   File \"/Users/sreenitti/anaconda3/lib/python3.11/site-packages/setuptools/_distutils/cmd.py\", line 318, in run_command\n",
      "  \u001b[31m   \u001b[0m     self.distribution.run_command(command)\n",
      "  \u001b[31m   \u001b[0m   File \"/Users/sreenitti/anaconda3/lib/python3.11/site-packages/setuptools/dist.py\", line 1234, in run_command\n",
      "  \u001b[31m   \u001b[0m     super().run_command(command)\n",
      "  \u001b[31m   \u001b[0m   File \"/Users/sreenitti/anaconda3/lib/python3.11/site-packages/setuptools/_distutils/dist.py\", line 988, in run_command\n",
      "  \u001b[31m   \u001b[0m     cmd_obj.run()\n",
      "  \u001b[31m   \u001b[0m   File \"/Users/sreenitti/anaconda3/lib/python3.11/site-packages/setuptools/command/build_ext.py\", line 84, in run\n",
      "  \u001b[31m   \u001b[0m     _build_ext.run(self)\n",
      "  \u001b[31m   \u001b[0m   File \"/Users/sreenitti/anaconda3/lib/python3.11/site-packages/setuptools/_distutils/command/build_ext.py\", line 345, in run\n",
      "  \u001b[31m   \u001b[0m     self.build_extensions()\n",
      "  \u001b[31m   \u001b[0m   File \"/Users/sreenitti/anaconda3/lib/python3.11/site-packages/setuptools/_distutils/command/build_ext.py\", line 467, in build_extensions\n",
      "  \u001b[31m   \u001b[0m     self._build_extensions_serial()\n",
      "  \u001b[31m   \u001b[0m   File \"/Users/sreenitti/anaconda3/lib/python3.11/site-packages/setuptools/_distutils/command/build_ext.py\", line 493, in _build_extensions_serial\n",
      "  \u001b[31m   \u001b[0m     self.build_extension(ext)\n",
      "  \u001b[31m   \u001b[0m   File \"/private/var/folders/_7/czvh6_055p51yd63hjnyqwz00000gn/T/pip-install-g06mmhum/sentencepiece_0ff3eb17b0fc4cf6a458c56467e0874f/setup.py\", line 89, in build_extension\n",
      "  \u001b[31m   \u001b[0m     subprocess.check_call(['./build_bundled.sh', __version__])\n",
      "  \u001b[31m   \u001b[0m   File \"/Users/sreenitti/anaconda3/lib/python3.11/subprocess.py\", line 413, in check_call\n",
      "  \u001b[31m   \u001b[0m     raise CalledProcessError(retcode, cmd)\n",
      "  \u001b[31m   \u001b[0m subprocess.CalledProcessError: Command '['./build_bundled.sh', '0.1.97']' returned non-zero exit status 127.\n",
      "  \u001b[31m   \u001b[0m \u001b[31m[end of output]\u001b[0m\n",
      "  \n",
      "  \u001b[1;35mnote\u001b[0m: This error originates from a subprocess, and is likely not a problem with pip.\n",
      "\u001b[31m  ERROR: Failed building wheel for sentencepiece\u001b[0m\u001b[31m\n",
      "\u001b[0m\u001b[?25h  Running setup.py clean for sentencepiece\n",
      "  Building wheel for grpcio-tools (setup.py) ... \u001b[?25lerror\n",
      "  \u001b[1;31merror\u001b[0m: \u001b[1msubprocess-exited-with-error\u001b[0m\n",
      "  \n",
      "  \u001b[31m×\u001b[0m \u001b[32mpython setup.py bdist_wheel\u001b[0m did not run successfully.\n",
      "  \u001b[31m│\u001b[0m exit code: \u001b[1;36m1\u001b[0m\n",
      "  \u001b[31m╰─>\u001b[0m \u001b[31m[295 lines of output]\u001b[0m\n",
      "  \u001b[31m   \u001b[0m /private/var/folders/_7/czvh6_055p51yd63hjnyqwz00000gn/T/pip-install-g06mmhum/grpcio-tools_75895977d2dc464684b1d34e01457bb7/setup.py:30: DeprecationWarning: pkg_resources is deprecated as an API. See https://setuptools.pypa.io/en/latest/pkg_resources.html\n",
      "  \u001b[31m   \u001b[0m   import pkg_resources\n",
      "  \u001b[31m   \u001b[0m running bdist_wheel\n",
      "  \u001b[31m   \u001b[0m running build\n",
      "  \u001b[31m   \u001b[0m running build_py\n",
      "  \u001b[31m   \u001b[0m creating build\n",
      "  \u001b[31m   \u001b[0m creating build/lib.macosx-11.1-arm64-cpython-311\n",
      "  \u001b[31m   \u001b[0m creating build/lib.macosx-11.1-arm64-cpython-311/grpc_tools\n",
      "  \u001b[31m   \u001b[0m copying grpc_tools/command.py -> build/lib.macosx-11.1-arm64-cpython-311/grpc_tools\n",
      "  \u001b[31m   \u001b[0m copying grpc_tools/__init__.py -> build/lib.macosx-11.1-arm64-cpython-311/grpc_tools\n",
      "  \u001b[31m   \u001b[0m copying grpc_tools/protoc.py -> build/lib.macosx-11.1-arm64-cpython-311/grpc_tools\n",
      "  \u001b[31m   \u001b[0m creating build/lib.macosx-11.1-arm64-cpython-311/grpc_tools/_proto\n",
      "  \u001b[31m   \u001b[0m creating build/lib.macosx-11.1-arm64-cpython-311/grpc_tools/_proto/google\n",
      "  \u001b[31m   \u001b[0m creating build/lib.macosx-11.1-arm64-cpython-311/grpc_tools/_proto/google/protobuf\n",
      "  \u001b[31m   \u001b[0m copying grpc_tools/_proto/google/protobuf/wrappers.proto -> build/lib.macosx-11.1-arm64-cpython-311/grpc_tools/_proto/google/protobuf\n",
      "  \u001b[31m   \u001b[0m copying grpc_tools/_proto/google/protobuf/type.proto -> build/lib.macosx-11.1-arm64-cpython-311/grpc_tools/_proto/google/protobuf\n",
      "  \u001b[31m   \u001b[0m copying grpc_tools/_proto/google/protobuf/timestamp.proto -> build/lib.macosx-11.1-arm64-cpython-311/grpc_tools/_proto/google/protobuf\n",
      "  \u001b[31m   \u001b[0m copying grpc_tools/_proto/google/protobuf/struct.proto -> build/lib.macosx-11.1-arm64-cpython-311/grpc_tools/_proto/google/protobuf\n",
      "  \u001b[31m   \u001b[0m copying grpc_tools/_proto/google/protobuf/source_context.proto -> build/lib.macosx-11.1-arm64-cpython-311/grpc_tools/_proto/google/protobuf\n",
      "  \u001b[31m   \u001b[0m copying grpc_tools/_proto/google/protobuf/field_mask.proto -> build/lib.macosx-11.1-arm64-cpython-311/grpc_tools/_proto/google/protobuf\n",
      "  \u001b[31m   \u001b[0m copying grpc_tools/_proto/google/protobuf/empty.proto -> build/lib.macosx-11.1-arm64-cpython-311/grpc_tools/_proto/google/protobuf\n",
      "  \u001b[31m   \u001b[0m copying grpc_tools/_proto/google/protobuf/duration.proto -> build/lib.macosx-11.1-arm64-cpython-311/grpc_tools/_proto/google/protobuf\n",
      "  \u001b[31m   \u001b[0m copying grpc_tools/_proto/google/protobuf/descriptor.proto -> build/lib.macosx-11.1-arm64-cpython-311/grpc_tools/_proto/google/protobuf\n",
      "  \u001b[31m   \u001b[0m creating build/lib.macosx-11.1-arm64-cpython-311/grpc_tools/_proto/google/protobuf/compiler\n",
      "  \u001b[31m   \u001b[0m copying grpc_tools/_proto/google/protobuf/compiler/plugin.proto -> build/lib.macosx-11.1-arm64-cpython-311/grpc_tools/_proto/google/protobuf/compiler\n",
      "  \u001b[31m   \u001b[0m copying grpc_tools/_proto/google/protobuf/api.proto -> build/lib.macosx-11.1-arm64-cpython-311/grpc_tools/_proto/google/protobuf\n",
      "  \u001b[31m   \u001b[0m copying grpc_tools/_proto/google/protobuf/any.proto -> build/lib.macosx-11.1-arm64-cpython-311/grpc_tools/_proto/google/protobuf\n",
      "  \u001b[31m   \u001b[0m running build_ext\n",
      "  \u001b[31m   \u001b[0m building 'grpc_tools._protoc_compiler' extension\n",
      "  \u001b[31m   \u001b[0m creating build/temp.macosx-11.1-arm64-cpython-311\n",
      "  \u001b[31m   \u001b[0m creating build/temp.macosx-11.1-arm64-cpython-311/grpc_root\n",
      "  \u001b[31m   \u001b[0m creating build/temp.macosx-11.1-arm64-cpython-311/grpc_root/src\n",
      "  \u001b[31m   \u001b[0m creating build/temp.macosx-11.1-arm64-cpython-311/grpc_root/src/compiler\n",
      "  \u001b[31m   \u001b[0m creating build/temp.macosx-11.1-arm64-cpython-311/grpc_tools\n",
      "  \u001b[31m   \u001b[0m creating build/temp.macosx-11.1-arm64-cpython-311/third_party\n",
      "  \u001b[31m   \u001b[0m creating build/temp.macosx-11.1-arm64-cpython-311/third_party/protobuf\n",
      "  \u001b[31m   \u001b[0m creating build/temp.macosx-11.1-arm64-cpython-311/third_party/protobuf/src\n",
      "  \u001b[31m   \u001b[0m creating build/temp.macosx-11.1-arm64-cpython-311/third_party/protobuf/src/google\n",
      "  \u001b[31m   \u001b[0m creating build/temp.macosx-11.1-arm64-cpython-311/third_party/protobuf/src/google/protobuf\n",
      "  \u001b[31m   \u001b[0m creating build/temp.macosx-11.1-arm64-cpython-311/third_party/protobuf/src/google/protobuf/compiler\n",
      "  \u001b[31m   \u001b[0m creating build/temp.macosx-11.1-arm64-cpython-311/third_party/protobuf/src/google/protobuf/compiler/cpp\n",
      "  \u001b[31m   \u001b[0m creating build/temp.macosx-11.1-arm64-cpython-311/third_party/protobuf/src/google/protobuf/compiler/csharp\n",
      "  \u001b[31m   \u001b[0m creating build/temp.macosx-11.1-arm64-cpython-311/third_party/protobuf/src/google/protobuf/compiler/java\n",
      "  \u001b[31m   \u001b[0m creating build/temp.macosx-11.1-arm64-cpython-311/third_party/protobuf/src/google/protobuf/compiler/js\n",
      "  \u001b[31m   \u001b[0m creating build/temp.macosx-11.1-arm64-cpython-311/third_party/protobuf/src/google/protobuf/compiler/objectivec\n",
      "  \u001b[31m   \u001b[0m creating build/temp.macosx-11.1-arm64-cpython-311/third_party/protobuf/src/google/protobuf/compiler/php\n",
      "  \u001b[31m   \u001b[0m creating build/temp.macosx-11.1-arm64-cpython-311/third_party/protobuf/src/google/protobuf/compiler/python\n",
      "  \u001b[31m   \u001b[0m creating build/temp.macosx-11.1-arm64-cpython-311/third_party/protobuf/src/google/protobuf/compiler/ruby\n",
      "  \u001b[31m   \u001b[0m creating build/temp.macosx-11.1-arm64-cpython-311/third_party/protobuf/src/google/protobuf/io\n",
      "  \u001b[31m   \u001b[0m creating build/temp.macosx-11.1-arm64-cpython-311/third_party/protobuf/src/google/protobuf/stubs\n",
      "  \u001b[31m   \u001b[0m creating build/temp.macosx-11.1-arm64-cpython-311/third_party/protobuf/src/google/protobuf/util\n",
      "  \u001b[31m   \u001b[0m creating build/temp.macosx-11.1-arm64-cpython-311/third_party/protobuf/src/google/protobuf/util/internal\n",
      "  \u001b[31m   \u001b[0m clang -DNDEBUG -fwrapv -O2 -Wall -fPIC -O2 -isystem /Users/sreenitti/anaconda3/include -arch arm64 -fPIC -O2 -isystem /Users/sreenitti/anaconda3/include -arch arm64 -DHAVE_PTHREAD=1 -I. -Igrpc_root -Igrpc_root/include -Ithird_party/protobuf/src -I/Users/sreenitti/anaconda3/include/python3.11 -c grpc_root/src/compiler/python_generator.cc -o build/temp.macosx-11.1-arm64-cpython-311/grpc_root/src/compiler/python_generator.o -std=c++14 -fno-wrapv -frtti\n",
      "  \u001b[31m   \u001b[0m clang -DNDEBUG -fwrapv -O2 -Wall -fPIC -O2 -isystem /Users/sreenitti/anaconda3/include -arch arm64 -fPIC -O2 -isystem /Users/sreenitti/anaconda3/include -arch arm64 -DHAVE_PTHREAD=1 -I. -Igrpc_root -Igrpc_root/include -Ithird_party/protobuf/src -I/Users/sreenitti/anaconda3/include/python3.11 -c third_party/protobuf/src/google/protobuf/api.pb.cc -o build/temp.macosx-11.1-arm64-cpython-311/third_party/protobuf/src/google/protobuf/api.pb.o -std=c++14 -fno-wrapv -frtti\n",
      "  \u001b[31m   \u001b[0m clang -DNDEBUG -fwrapv -O2 -Wall -fPIC -O2 -isystem /Users/sreenitti/anaconda3/include -arch arm64 -fPIC -O2 -isystem /Users/sreenitti/anaconda3/include -arch arm64 -DHAVE_PTHREAD=1 -I. -Igrpc_root -Igrpc_root/include -Ithird_party/protobuf/src -I/Users/sreenitti/anaconda3/include/python3.11 -c third_party/protobuf/src/google/protobuf/compiler/cpp/cpp_enum_field.cc -o build/temp.macosx-11.1-arm64-cpython-311/third_party/protobuf/src/google/protobuf/compiler/cpp/cpp_enum_field.o -std=c++14 -fno-wrapv -frtti\n",
      "  \u001b[31m   \u001b[0m clang -DNDEBUG -fwrapv -O2 -Wall -fPIC -O2 -isystem /Users/sreenitti/anaconda3/include -arch arm64 -fPIC -O2 -isystem /Users/sreenitti/anaconda3/include -arch arm64 -DHAVE_PTHREAD=1 -I. -Igrpc_root -Igrpc_root/include -Ithird_party/protobuf/src -I/Users/sreenitti/anaconda3/include/python3.11 -c third_party/protobuf/src/google/protobuf/compiler/cpp/cpp_map_field.cc -o build/temp.macosx-11.1-arm64-cpython-311/third_party/protobuf/src/google/protobuf/compiler/cpp/cpp_map_field.o -std=c++14 -fno-wrapv -frtti\n",
      "  \u001b[31m   \u001b[0m clang -DNDEBUG -fwrapv -O2 -Wall -fPIC -O2 -isystem /Users/sreenitti/anaconda3/include -arch arm64 -fPIC -O2 -isystem /Users/sreenitti/anaconda3/include -arch arm64 -DHAVE_PTHREAD=1 -I. -Igrpc_root -Igrpc_root/include -Ithird_party/protobuf/src -I/Users/sreenitti/anaconda3/include/python3.11 -c third_party/protobuf/src/google/protobuf/compiler/cpp/cpp_service.cc -o build/temp.macosx-11.1-arm64-cpython-311/third_party/protobuf/src/google/protobuf/compiler/cpp/cpp_service.o -std=c++14 -fno-wrapv -frtti\n",
      "  \u001b[31m   \u001b[0m clang -DNDEBUG -fwrapv -O2 -Wall -fPIC -O2 -isystem /Users/sreenitti/anaconda3/include -arch arm64 -fPIC -O2 -isystem /Users/sreenitti/anaconda3/include -arch arm64 -DHAVE_PTHREAD=1 -I. -Igrpc_root -Igrpc_root/include -Ithird_party/protobuf/src -I/Users/sreenitti/anaconda3/include/python3.11 -c third_party/protobuf/src/google/protobuf/compiler/csharp/csharp_generator.cc -o build/temp.macosx-11.1-arm64-cpython-311/third_party/protobuf/src/google/protobuf/compiler/csharp/csharp_generator.o -std=c++14 -fno-wrapv -frtti\n",
      "  \u001b[31m   \u001b[0m clang -DNDEBUG -fwrapv -O2 -Wall -fPIC -O2 -isystem /Users/sreenitti/anaconda3/include -arch arm64 -fPIC -O2 -isystem /Users/sreenitti/anaconda3/include -arch arm64 -DHAVE_PTHREAD=1 -I. -Igrpc_root -Igrpc_root/include -Ithird_party/protobuf/src -I/Users/sreenitti/anaconda3/include/python3.11 -c third_party/protobuf/src/google/protobuf/compiler/csharp/csharp_reflection_class.cc -o build/temp.macosx-11.1-arm64-cpython-311/third_party/protobuf/src/google/protobuf/compiler/csharp/csharp_reflection_class.o -std=c++14 -fno-wrapv -frtti\n",
      "  \u001b[31m   \u001b[0m clang -DNDEBUG -fwrapv -O2 -Wall -fPIC -O2 -isystem /Users/sreenitti/anaconda3/include -arch arm64 -fPIC -O2 -isystem /Users/sreenitti/anaconda3/include -arch arm64 -DHAVE_PTHREAD=1 -I. -Igrpc_root -Igrpc_root/include -Ithird_party/protobuf/src -I/Users/sreenitti/anaconda3/include/python3.11 -c third_party/protobuf/src/google/protobuf/compiler/importer.cc -o build/temp.macosx-11.1-arm64-cpython-311/third_party/protobuf/src/google/protobuf/compiler/importer.o -std=c++14 -fno-wrapv -frtti\n",
      "  \u001b[31m   \u001b[0m clang -DNDEBUG -fwrapv -O2 -Wall -fPIC -O2 -isystem /Users/sreenitti/anaconda3/include -arch arm64 -fPIC -O2 -isystem /Users/sreenitti/anaconda3/include -arch arm64 -DHAVE_PTHREAD=1 -I. -Igrpc_root -Igrpc_root/include -Ithird_party/protobuf/src -I/Users/sreenitti/anaconda3/include/python3.11 -c third_party/protobuf/src/google/protobuf/compiler/csharp/csharp_helpers.cc -o build/temp.macosx-11.1-arm64-cpython-311/third_party/protobuf/src/google/protobuf/compiler/csharp/csharp_helpers.o -std=c++14 -fno-wrapv -frtti\n",
      "  \u001b[31m   \u001b[0m clang -DNDEBUG -fwrapv -O2 -Wall -fPIC -O2 -isystem /Users/sreenitti/anaconda3/include -arch arm64 -fPIC -O2 -isystem /Users/sreenitti/anaconda3/include -arch arm64 -DHAVE_PTHREAD=1 -I. -Igrpc_root -Igrpc_root/include -Ithird_party/protobuf/src -I/Users/sreenitti/anaconda3/include/python3.11 -c third_party/protobuf/src/google/protobuf/compiler/csharp/csharp_repeated_enum_field.cc -o build/temp.macosx-11.1-arm64-cpython-311/third_party/protobuf/src/google/protobuf/compiler/csharp/csharp_repeated_enum_field.o -std=c++14 -fno-wrapv -frtti\n",
      "  \u001b[31m   \u001b[0m clang -DNDEBUG -fwrapv -O2 -Wall -fPIC -O2 -isystem /Users/sreenitti/anaconda3/include -arch arm64 -fPIC -O2 -isystem /Users/sreenitti/anaconda3/include -arch arm64 -DHAVE_PTHREAD=1 -I. -Igrpc_root -Igrpc_root/include -Ithird_party/protobuf/src -I/Users/sreenitti/anaconda3/include/python3.11 -c third_party/protobuf/src/google/protobuf/arena.cc -o build/temp.macosx-11.1-arm64-cpython-311/third_party/protobuf/src/google/protobuf/arena.o -std=c++14 -fno-wrapv -frtti\n",
      "  \u001b[31m   \u001b[0m clang -DNDEBUG -fwrapv -O2 -Wall -fPIC -O2 -isystem /Users/sreenitti/anaconda3/include -arch arm64 -fPIC -O2 -isystem /Users/sreenitti/anaconda3/include -arch arm64 -DHAVE_PTHREAD=1 -I. -Igrpc_root -Igrpc_root/include -Ithird_party/protobuf/src -I/Users/sreenitti/anaconda3/include/python3.11 -c third_party/protobuf/src/google/protobuf/compiler/java/java_context.cc -o build/temp.macosx-11.1-arm64-cpython-311/third_party/protobuf/src/google/protobuf/compiler/java/java_context.o -std=c++14 -fno-wrapv -frtti\n",
      "  \u001b[31m   \u001b[0m clang -DNDEBUG -fwrapv -O2 -Wall -fPIC -O2 -isystem /Users/sreenitti/anaconda3/include -arch arm64 -fPIC -O2 -isystem /Users/sreenitti/anaconda3/include -arch arm64 -DHAVE_PTHREAD=1 -I. -Igrpc_root -Igrpc_root/include -Ithird_party/protobuf/src -I/Users/sreenitti/anaconda3/include/python3.11 -c third_party/protobuf/src/google/protobuf/compiler/cpp/cpp_string_field.cc -o build/temp.macosx-11.1-arm64-cpython-311/third_party/protobuf/src/google/protobuf/compiler/cpp/cpp_string_field.o -std=c++14 -fno-wrapv -frtti\n",
      "  \u001b[31m   \u001b[0m clang -DNDEBUG -fwrapv -O2 -Wall -fPIC -O2 -isystem /Users/sreenitti/anaconda3/include -arch arm64 -fPIC -O2 -isystem /Users/sreenitti/anaconda3/include -arch arm64 -DHAVE_PTHREAD=1 -I. -Igrpc_root -Igrpc_root/include -Ithird_party/protobuf/src -I/Users/sreenitti/anaconda3/include/python3.11 -c third_party/protobuf/src/google/protobuf/compiler/cpp/cpp_extension.cc -o build/temp.macosx-11.1-arm64-cpython-311/third_party/protobuf/src/google/protobuf/compiler/cpp/cpp_extension.o -std=c++14 -fno-wrapv -frtti\n",
      "  \u001b[31m   \u001b[0m clang -DNDEBUG -fwrapv -O2 -Wall -fPIC -O2 -isystem /Users/sreenitti/anaconda3/include -arch arm64 -fPIC -O2 -isystem /Users/sreenitti/anaconda3/include -arch arm64 -DHAVE_PTHREAD=1 -I. -Igrpc_root -Igrpc_root/include -Ithird_party/protobuf/src -I/Users/sreenitti/anaconda3/include/python3.11 -c third_party/protobuf/src/google/protobuf/compiler/cpp/cpp_message.cc -o build/temp.macosx-11.1-arm64-cpython-311/third_party/protobuf/src/google/protobuf/compiler/cpp/cpp_message.o -std=c++14 -fno-wrapv -frtti\n",
      "  \u001b[31m   \u001b[0m clang -DNDEBUG -fwrapv -O2 -Wall -fPIC -O2 -isystem /Users/sreenitti/anaconda3/include -arch arm64 -fPIC -O2 -isystem /Users/sreenitti/anaconda3/include -arch arm64 -DHAVE_PTHREAD=1 -I. -Igrpc_root -Igrpc_root/include -Ithird_party/protobuf/src -I/Users/sreenitti/anaconda3/include/python3.11 -c third_party/protobuf/src/google/protobuf/arenastring.cc -o build/temp.macosx-11.1-arm64-cpython-311/third_party/protobuf/src/google/protobuf/arenastring.o -std=c++14 -fno-wrapv -frtti\n",
      "  \u001b[31m   \u001b[0m clang -DNDEBUG -fwrapv -O2 -Wall -fPIC -O2 -isystem /Users/sreenitti/anaconda3/include -arch arm64 -fPIC -O2 -isystem /Users/sreenitti/anaconda3/include -arch arm64 -DHAVE_PTHREAD=1 -I. -Igrpc_root -Igrpc_root/include -Ithird_party/protobuf/src -I/Users/sreenitti/anaconda3/include/python3.11 -c third_party/protobuf/src/google/protobuf/compiler/csharp/csharp_repeated_message_field.cc -o build/temp.macosx-11.1-arm64-cpython-311/third_party/protobuf/src/google/protobuf/compiler/csharp/csharp_repeated_message_field.o -std=c++14 -fno-wrapv -frtti\n",
      "  \u001b[31m   \u001b[0m clang -DNDEBUG -fwrapv -O2 -Wall -fPIC -O2 -isystem /Users/sreenitti/anaconda3/include -arch arm64 -fPIC -O2 -isystem /Users/sreenitti/anaconda3/include -arch arm64 -DHAVE_PTHREAD=1 -I. -Igrpc_root -Igrpc_root/include -Ithird_party/protobuf/src -I/Users/sreenitti/anaconda3/include/python3.11 -c third_party/protobuf/src/google/protobuf/compiler/csharp/csharp_map_field.cc -o build/temp.macosx-11.1-arm64-cpython-311/third_party/protobuf/src/google/protobuf/compiler/csharp/csharp_map_field.o -std=c++14 -fno-wrapv -frtti\n",
      "  \u001b[31m   \u001b[0m clang -DNDEBUG -fwrapv -O2 -Wall -fPIC -O2 -isystem /Users/sreenitti/anaconda3/include -arch arm64 -fPIC -O2 -isystem /Users/sreenitti/anaconda3/include -arch arm64 -DHAVE_PTHREAD=1 -I. -Igrpc_root -Igrpc_root/include -Ithird_party/protobuf/src -I/Users/sreenitti/anaconda3/include/python3.11 -c third_party/protobuf/src/google/protobuf/compiler/java/java_doc_comment.cc -o build/temp.macosx-11.1-arm64-cpython-311/third_party/protobuf/src/google/protobuf/compiler/java/java_doc_comment.o -std=c++14 -fno-wrapv -frtti\n",
      "  \u001b[31m   \u001b[0m clang -DNDEBUG -fwrapv -O2 -Wall -fPIC -O2 -isystem /Users/sreenitti/anaconda3/include -arch arm64 -fPIC -O2 -isystem /Users/sreenitti/anaconda3/include -arch arm64 -DHAVE_PTHREAD=1 -I. -Igrpc_root -Igrpc_root/include -Ithird_party/protobuf/src -I/Users/sreenitti/anaconda3/include/python3.11 -c third_party/protobuf/src/google/protobuf/compiler/code_generator.cc -o build/temp.macosx-11.1-arm64-cpython-311/third_party/protobuf/src/google/protobuf/compiler/code_generator.o -std=c++14 -fno-wrapv -frtti\n",
      "  \u001b[31m   \u001b[0m clang -DNDEBUG -fwrapv -O2 -Wall -fPIC -O2 -isystem /Users/sreenitti/anaconda3/include -arch arm64 -fPIC -O2 -isystem /Users/sreenitti/anaconda3/include -arch arm64 -DHAVE_PTHREAD=1 -I. -Igrpc_root -Igrpc_root/include -Ithird_party/protobuf/src -I/Users/sreenitti/anaconda3/include/python3.11 -c third_party/protobuf/src/google/protobuf/compiler/cpp/cpp_field.cc -o build/temp.macosx-11.1-arm64-cpython-311/third_party/protobuf/src/google/protobuf/compiler/cpp/cpp_field.o -std=c++14 -fno-wrapv -frtti\n",
      "  \u001b[31m   \u001b[0m clang -DNDEBUG -fwrapv -O2 -Wall -fPIC -O2 -isystem /Users/sreenitti/anaconda3/include -arch arm64 -fPIC -O2 -isystem /Users/sreenitti/anaconda3/include -arch arm64 -DHAVE_PTHREAD=1 -I. -Igrpc_root -Igrpc_root/include -Ithird_party/protobuf/src -I/Users/sreenitti/anaconda3/include/python3.11 -c third_party/protobuf/src/google/protobuf/compiler/csharp/csharp_doc_comment.cc -o build/temp.macosx-11.1-arm64-cpython-311/third_party/protobuf/src/google/protobuf/compiler/csharp/csharp_doc_comment.o -std=c++14 -fno-wrapv -frtti\n",
      "  \u001b[31m   \u001b[0m clang -DNDEBUG -fwrapv -O2 -Wall -fPIC -O2 -isystem /Users/sreenitti/anaconda3/include -arch arm64 -fPIC -O2 -isystem /Users/sreenitti/anaconda3/include -arch arm64 -DHAVE_PTHREAD=1 -I. -Igrpc_root -Igrpc_root/include -Ithird_party/protobuf/src -I/Users/sreenitti/anaconda3/include/python3.11 -c grpc_tools/_protoc_compiler.cpp -o build/temp.macosx-11.1-arm64-cpython-311/grpc_tools/_protoc_compiler.o -std=c++14 -fno-wrapv -frtti\n",
      "  \u001b[31m   \u001b[0m clang -DNDEBUG -fwrapv -O2 -Wall -fPIC -O2 -isystem /Users/sreenitti/anaconda3/include -arch arm64 -fPIC -O2 -isystem /Users/sreenitti/anaconda3/include -arch arm64 -DHAVE_PTHREAD=1 -I. -Igrpc_root -Igrpc_root/include -Ithird_party/protobuf/src -I/Users/sreenitti/anaconda3/include/python3.11 -c third_party/protobuf/src/google/protobuf/compiler/csharp/csharp_repeated_primitive_field.cc -o build/temp.macosx-11.1-arm64-cpython-311/third_party/protobuf/src/google/protobuf/compiler/csharp/csharp_repeated_primitive_field.o -std=c++14 -fno-wrapv -frtti\n",
      "  \u001b[31m   \u001b[0m clang -DNDEBUG -fwrapv -O2 -Wall -fPIC -O2 -isystem /Users/sreenitti/anaconda3/include -arch arm64 -fPIC -O2 -isystem /Users/sreenitti/anaconda3/include -arch arm64 -DHAVE_PTHREAD=1 -I. -Igrpc_root -Igrpc_root/include -Ithird_party/protobuf/src -I/Users/sreenitti/anaconda3/include/python3.11 -c third_party/protobuf/src/google/protobuf/compiler/csharp/csharp_message.cc -o build/temp.macosx-11.1-arm64-cpython-311/third_party/protobuf/src/google/protobuf/compiler/csharp/csharp_message.o -std=c++14 -fno-wrapv -frtti\n",
      "  \u001b[31m   \u001b[0m grpc_tools/_protoc_compiler.cpp:8356:5: error: member access into incomplete type 'PyFrameObject' (aka '_frame')\n",
      "  \u001b[31m   \u001b[0m     __Pyx_PyFrame_SetLineNumber(py_frame, py_line);\n",
      "  \u001b[31m   \u001b[0m     ^\n",
      "  \u001b[31m   \u001b[0m grpc_tools/_protoc_compiler.cpp:652:62: note: expanded from macro '__Pyx_PyFrame_SetLineNumber'\n",
      "  \u001b[31m   \u001b[0m   #define __Pyx_PyFrame_SetLineNumber(frame, lineno)  (frame)->f_lineno = (lineno)\n",
      "  \u001b[31m   \u001b[0m                                                              ^\n",
      "  \u001b[31m   \u001b[0m /Users/sreenitti/anaconda3/include/python3.11/pytypedefs.h:22:16: note: forward declaration of '_frame'\n",
      "  \u001b[31m   \u001b[0m typedef struct _frame PyFrameObject;\n",
      "  \u001b[31m   \u001b[0m                ^\n",
      "  \u001b[31m   \u001b[0m grpc_tools/_protoc_compiler.cpp:9155:23: error: no member named 'exc_type' in '_err_stackitem'\n",
      "  \u001b[31m   \u001b[0m     while ((exc_info->exc_type == NULL || exc_info->exc_type == Py_None) &&\n",
      "  \u001b[31m   \u001b[0m             ~~~~~~~~  ^\n",
      "  \u001b[31m   \u001b[0m grpc_tools/_protoc_compiler.cpp:9155:53: error: no member named 'exc_type' in '_err_stackitem'\n",
      "  \u001b[31m   \u001b[0m     while ((exc_info->exc_type == NULL || exc_info->exc_type == Py_None) &&\n",
      "  \u001b[31m   \u001b[0m                                           ~~~~~~~~  ^\n",
      "  \u001b[31m   \u001b[0m grpc_tools/_protoc_compiler.cpp:9169:23: error: no member named 'exc_type' in '_err_stackitem'\n",
      "  \u001b[31m   \u001b[0m     *type = exc_info->exc_type;\n",
      "  \u001b[31m   \u001b[0m             ~~~~~~~~  ^\n",
      "  \u001b[31m   \u001b[0m grpc_tools/_protoc_compiler.cpp:9171:21: error: no member named 'exc_traceback' in '_err_stackitem'\n",
      "  \u001b[31m   \u001b[0m     *tb = exc_info->exc_traceback;\n",
      "  \u001b[31m   \u001b[0m           ~~~~~~~~  ^\n",
      "  \u001b[31m   \u001b[0m grpc_tools/_protoc_compiler.cpp:9185:26: error: no member named 'exc_type' in '_err_stackitem'\n",
      "  \u001b[31m   \u001b[0m     tmp_type = exc_info->exc_type;\n",
      "  \u001b[31m   \u001b[0m                ~~~~~~~~  ^\n",
      "  \u001b[31m   \u001b[0m grpc_tools/_protoc_compiler.cpp:9187:24: error: no member named 'exc_traceback' in '_err_stackitem'\n",
      "  \u001b[31m   \u001b[0m     tmp_tb = exc_info->exc_traceback;\n",
      "  \u001b[31m   \u001b[0m              ~~~~~~~~  ^\n",
      "  \u001b[31m   \u001b[0m grpc_tools/_protoc_compiler.cpp:9188:15: error: no member named 'exc_type' in '_err_stackitem'\n",
      "  \u001b[31m   \u001b[0m     exc_info->exc_type = type;\n",
      "  \u001b[31m   \u001b[0m     ~~~~~~~~  ^\n",
      "  \u001b[31m   \u001b[0m grpc_tools/_protoc_compiler.cpp:9190:15: error: no member named 'exc_traceback' in '_err_stackitem'\n",
      "  \u001b[31m   \u001b[0m     exc_info->exc_traceback = tb;\n",
      "  \u001b[31m   \u001b[0m     ~~~~~~~~  ^\n",
      "  \u001b[31m   \u001b[0m grpc_tools/_protoc_compiler.cpp:9211:26: error: no member named 'exc_type' in '_err_stackitem'\n",
      "  \u001b[31m   \u001b[0m     tmp_type = exc_info->exc_type;\n",
      "  \u001b[31m   \u001b[0m                ~~~~~~~~  ^\n",
      "  \u001b[31m   \u001b[0m grpc_tools/_protoc_compiler.cpp:9213:24: error: no member named 'exc_traceback' in '_err_stackitem'\n",
      "  \u001b[31m   \u001b[0m     tmp_tb = exc_info->exc_traceback;\n",
      "  \u001b[31m   \u001b[0m              ~~~~~~~~  ^\n",
      "  \u001b[31m   \u001b[0m grpc_tools/_protoc_compiler.cpp:9214:15: error: no member named 'exc_type' in '_err_stackitem'\n",
      "  \u001b[31m   \u001b[0m     exc_info->exc_type = *type;\n",
      "  \u001b[31m   \u001b[0m     ~~~~~~~~  ^\n",
      "  \u001b[31m   \u001b[0m grpc_tools/_protoc_compiler.cpp:9216:15: error: no member named 'exc_traceback' in '_err_stackitem'\n",
      "  \u001b[31m   \u001b[0m     exc_info->exc_traceback = *tb;\n",
      "  \u001b[31m   \u001b[0m     ~~~~~~~~  ^\n",
      "  \u001b[31m   \u001b[0m grpc_tools/_protoc_compiler.cpp:9440:20: error: no member named 'exc_type' in '_err_stackitem'\n",
      "  \u001b[31m   \u001b[0m     t = exc_state->exc_type;\n",
      "  \u001b[31m   \u001b[0m         ~~~~~~~~~  ^\n",
      "  \u001b[31m   \u001b[0m grpc_tools/_protoc_compiler.cpp:9442:21: error: no member named 'exc_traceback' in '_err_stackitem'\n",
      "  \u001b[31m   \u001b[0m     tb = exc_state->exc_traceback;\n",
      "  \u001b[31m   \u001b[0m          ~~~~~~~~~  ^\n",
      "  \u001b[31m   \u001b[0m grpc_tools/_protoc_compiler.cpp:9443:16: error: no member named 'exc_type' in '_err_stackitem'\n",
      "  \u001b[31m   \u001b[0m     exc_state->exc_type = NULL;\n",
      "  \u001b[31m   \u001b[0m     ~~~~~~~~~  ^\n",
      "  \u001b[31m   \u001b[0m grpc_tools/_protoc_compiler.cpp:9445:16: error: no member named 'exc_traceback' in '_err_stackitem'\n",
      "  \u001b[31m   \u001b[0m     exc_state->exc_traceback = NULL;\n",
      "  \u001b[31m   \u001b[0m     ~~~~~~~~~  ^\n",
      "  \u001b[31m   \u001b[0m grpc_tools/_protoc_compiler.cpp:9522:20: error: no member named 'exc_type' in '_err_stackitem'\n",
      "  \u001b[31m   \u001b[0m     if (exc_state->exc_type) {\n",
      "  \u001b[31m   \u001b[0m         ~~~~~~~~~  ^\n",
      "  \u001b[31m   \u001b[0m grpc_tools/_protoc_compiler.cpp:9525:24: error: no member named 'exc_traceback' in '_err_stackitem'\n",
      "  \u001b[31m   \u001b[0m         if (exc_state->exc_traceback) {\n",
      "  \u001b[31m   \u001b[0m             ~~~~~~~~~  ^\n",
      "  \u001b[31m   \u001b[0m fatal error: too many errors emitted, stopping now [-ferror-limit=]\n",
      "  \u001b[31m   \u001b[0m 20 errors generated.\n",
      "  \u001b[31m   \u001b[0m clang -DNDEBUG -fwrapv -O2 -Wall -fPIC -O2 -isystem /Users/sreenitti/anaconda3/include -arch arm64 -fPIC -O2 -isystem /Users/sreenitti/anaconda3/include -arch arm64 -DHAVE_PTHREAD=1 -I. -Igrpc_root -Igrpc_root/include -Ithird_party/protobuf/src -I/Users/sreenitti/anaconda3/include/python3.11 -c third_party/protobuf/src/google/protobuf/compiler/java/java_enum_lite.cc -o build/temp.macosx-11.1-arm64-cpython-311/third_party/protobuf/src/google/protobuf/compiler/java/java_enum_lite.o -std=c++14 -fno-wrapv -frtti\n",
      "  \u001b[31m   \u001b[0m clang -DNDEBUG -fwrapv -O2 -Wall -fPIC -O2 -isystem /Users/sreenitti/anaconda3/include -arch arm64 -fPIC -O2 -isystem /Users/sreenitti/anaconda3/include -arch arm64 -DHAVE_PTHREAD=1 -I. -Igrpc_root -Igrpc_root/include -Ithird_party/protobuf/src -I/Users/sreenitti/anaconda3/include/python3.11 -c third_party/protobuf/src/google/protobuf/compiler/java/java_enum.cc -o build/temp.macosx-11.1-arm64-cpython-311/third_party/protobuf/src/google/protobuf/compiler/java/java_enum.o -std=c++14 -fno-wrapv -frtti\n",
      "  \u001b[31m   \u001b[0m clang -DNDEBUG -fwrapv -O2 -Wall -fPIC -O2 -isystem /Users/sreenitti/anaconda3/include -arch arm64 -fPIC -O2 -isystem /Users/sreenitti/anaconda3/include -arch arm64 -DHAVE_PTHREAD=1 -I. -Igrpc_root -Igrpc_root/include -Ithird_party/protobuf/src -I/Users/sreenitti/anaconda3/include/python3.11 -c third_party/protobuf/src/google/protobuf/compiler/csharp/csharp_enum.cc -o build/temp.macosx-11.1-arm64-cpython-311/third_party/protobuf/src/google/protobuf/compiler/csharp/csharp_enum.o -std=c++14 -fno-wrapv -frtti\n",
      "  \u001b[31m   \u001b[0m clang -DNDEBUG -fwrapv -O2 -Wall -fPIC -O2 -isystem /Users/sreenitti/anaconda3/include -arch arm64 -fPIC -O2 -isystem /Users/sreenitti/anaconda3/include -arch arm64 -DHAVE_PTHREAD=1 -I. -Igrpc_root -Igrpc_root/include -Ithird_party/protobuf/src -I/Users/sreenitti/anaconda3/include/python3.11 -c third_party/protobuf/src/google/protobuf/compiler/command_line_interface.cc -o build/temp.macosx-11.1-arm64-cpython-311/third_party/protobuf/src/google/protobuf/compiler/command_line_interface.o -std=c++14 -fno-wrapv -frtti\n",
      "  \u001b[31m   \u001b[0m clang -DNDEBUG -fwrapv -O2 -Wall -fPIC -O2 -isystem /Users/sreenitti/anaconda3/include -arch arm64 -fPIC -O2 -isystem /Users/sreenitti/anaconda3/include -arch arm64 -DHAVE_PTHREAD=1 -I. -Igrpc_root -Igrpc_root/include -Ithird_party/protobuf/src -I/Users/sreenitti/anaconda3/include/python3.11 -c third_party/protobuf/src/google/protobuf/compiler/csharp/csharp_source_generator_base.cc -o build/temp.macosx-11.1-arm64-cpython-311/third_party/protobuf/src/google/protobuf/compiler/csharp/csharp_source_generator_base.o -std=c++14 -fno-wrapv -frtti\n",
      "  \u001b[31m   \u001b[0m clang -DNDEBUG -fwrapv -O2 -Wall -fPIC -O2 -isystem /Users/sreenitti/anaconda3/include -arch arm64 -fPIC -O2 -isystem /Users/sreenitti/anaconda3/include -arch arm64 -DHAVE_PTHREAD=1 -I. -Igrpc_root -Igrpc_root/include -Ithird_party/protobuf/src -I/Users/sreenitti/anaconda3/include/python3.11 -c third_party/protobuf/src/google/protobuf/compiler/cpp/cpp_file.cc -o build/temp.macosx-11.1-arm64-cpython-311/third_party/protobuf/src/google/protobuf/compiler/cpp/cpp_file.o -std=c++14 -fno-wrapv -frtti\n",
      "  \u001b[31m   \u001b[0m clang -DNDEBUG -fwrapv -O2 -Wall -fPIC -O2 -isystem /Users/sreenitti/anaconda3/include -arch arm64 -fPIC -O2 -isystem /Users/sreenitti/anaconda3/include -arch arm64 -DHAVE_PTHREAD=1 -I. -Igrpc_root -Igrpc_root/include -Ithird_party/protobuf/src -I/Users/sreenitti/anaconda3/include/python3.11 -c third_party/protobuf/src/google/protobuf/compiler/csharp/csharp_enum_field.cc -o build/temp.macosx-11.1-arm64-cpython-311/third_party/protobuf/src/google/protobuf/compiler/csharp/csharp_enum_field.o -std=c++14 -fno-wrapv -frtti\n",
      "  \u001b[31m   \u001b[0m clang -DNDEBUG -fwrapv -O2 -Wall -fPIC -O2 -isystem /Users/sreenitti/anaconda3/include -arch arm64 -fPIC -O2 -isystem /Users/sreenitti/anaconda3/include -arch arm64 -DHAVE_PTHREAD=1 -I. -Igrpc_root -Igrpc_root/include -Ithird_party/protobuf/src -I/Users/sreenitti/anaconda3/include/python3.11 -c third_party/protobuf/src/google/protobuf/compiler/csharp/csharp_message_field.cc -o build/temp.macosx-11.1-arm64-cpython-311/third_party/protobuf/src/google/protobuf/compiler/csharp/csharp_message_field.o -std=c++14 -fno-wrapv -frtti\n",
      "  \u001b[31m   \u001b[0m clang -DNDEBUG -fwrapv -O2 -Wall -fPIC -O2 -isystem /Users/sreenitti/anaconda3/include -arch arm64 -fPIC -O2 -isystem /Users/sreenitti/anaconda3/include -arch arm64 -DHAVE_PTHREAD=1 -I. -Igrpc_root -Igrpc_root/include -Ithird_party/protobuf/src -I/Users/sreenitti/anaconda3/include/python3.11 -c third_party/protobuf/src/google/protobuf/compiler/java/java_extension.cc -o build/temp.macosx-11.1-arm64-cpython-311/third_party/protobuf/src/google/protobuf/compiler/java/java_extension.o -std=c++14 -fno-wrapv -frtti\n",
      "  \u001b[31m   \u001b[0m clang -DNDEBUG -fwrapv -O2 -Wall -fPIC -O2 -isystem /Users/sreenitti/anaconda3/include -arch arm64 -fPIC -O2 -isystem /Users/sreenitti/anaconda3/include -arch arm64 -DHAVE_PTHREAD=1 -I. -Igrpc_root -Igrpc_root/include -Ithird_party/protobuf/src -I/Users/sreenitti/anaconda3/include/python3.11 -c third_party/protobuf/src/google/protobuf/compiler/java/java_enum_field.cc -o build/temp.macosx-11.1-arm64-cpython-311/third_party/protobuf/src/google/protobuf/compiler/java/java_enum_field.o -std=c++14 -fno-wrapv -frtti\n",
      "  \u001b[31m   \u001b[0m clang -DNDEBUG -fwrapv -O2 -Wall -fPIC -O2 -isystem /Users/sreenitti/anaconda3/include -arch arm64 -fPIC -O2 -isystem /Users/sreenitti/anaconda3/include -arch arm64 -DHAVE_PTHREAD=1 -I. -Igrpc_root -Igrpc_root/include -Ithird_party/protobuf/src -I/Users/sreenitti/anaconda3/include/python3.11 -c third_party/protobuf/src/google/protobuf/compiler/csharp/csharp_wrapper_field.cc -o build/temp.macosx-11.1-arm64-cpython-311/third_party/protobuf/src/google/protobuf/compiler/csharp/csharp_wrapper_field.o -std=c++14 -fno-wrapv -frtti\n",
      "  \u001b[31m   \u001b[0m clang -DNDEBUG -fwrapv -O2 -Wall -fPIC -O2 -isystem /Users/sreenitti/anaconda3/include -arch arm64 -fPIC -O2 -isystem /Users/sreenitti/anaconda3/include -arch arm64 -DHAVE_PTHREAD=1 -I. -Igrpc_root -Igrpc_root/include -Ithird_party/protobuf/src -I/Users/sreenitti/anaconda3/include/python3.11 -c third_party/protobuf/src/google/protobuf/compiler/csharp/csharp_field_base.cc -o build/temp.macosx-11.1-arm64-cpython-311/third_party/protobuf/src/google/protobuf/compiler/csharp/csharp_field_base.o -std=c++14 -fno-wrapv -frtti\n",
      "  \u001b[31m   \u001b[0m clang -DNDEBUG -fwrapv -O2 -Wall -fPIC -O2 -isystem /Users/sreenitti/anaconda3/include -arch arm64 -fPIC -O2 -isystem /Users/sreenitti/anaconda3/include -arch arm64 -DHAVE_PTHREAD=1 -I. -Igrpc_root -Igrpc_root/include -Ithird_party/protobuf/src -I/Users/sreenitti/anaconda3/include/python3.11 -c third_party/protobuf/src/google/protobuf/compiler/csharp/csharp_primitive_field.cc -o build/temp.macosx-11.1-arm64-cpython-311/third_party/protobuf/src/google/protobuf/compiler/csharp/csharp_primitive_field.o -std=c++14 -fno-wrapv -frtti\n",
      "  \u001b[31m   \u001b[0m clang -DNDEBUG -fwrapv -O2 -Wall -fPIC -O2 -isystem /Users/sreenitti/anaconda3/include -arch arm64 -fPIC -O2 -isystem /Users/sreenitti/anaconda3/include -arch arm64 -DHAVE_PTHREAD=1 -I. -Igrpc_root -Igrpc_root/include -Ithird_party/protobuf/src -I/Users/sreenitti/anaconda3/include/python3.11 -c third_party/protobuf/src/google/protobuf/compiler/java/java_extension_lite.cc -o build/temp.macosx-11.1-arm64-cpython-311/third_party/protobuf/src/google/protobuf/compiler/java/java_extension_lite.o -std=c++14 -fno-wrapv -frtti\n",
      "  \u001b[31m   \u001b[0m clang -DNDEBUG -fwrapv -O2 -Wall -fPIC -O2 -isystem /Users/sreenitti/anaconda3/include -arch arm64 -fPIC -O2 -isystem /Users/sreenitti/anaconda3/include -arch arm64 -DHAVE_PTHREAD=1 -I. -Igrpc_root -Igrpc_root/include -Ithird_party/protobuf/src -I/Users/sreenitti/anaconda3/include/python3.11 -c third_party/protobuf/src/google/protobuf/compiler/java/java_generator_factory.cc -o build/temp.macosx-11.1-arm64-cpython-311/third_party/protobuf/src/google/protobuf/compiler/java/java_generator_factory.o -std=c++14 -fno-wrapv -frtti\n",
      "  \u001b[31m   \u001b[0m clang -DNDEBUG -fwrapv -O2 -Wall -fPIC -O2 -isystem /Users/sreenitti/anaconda3/include -arch arm64 -fPIC -O2 -isystem /Users/sreenitti/anaconda3/include -arch arm64 -DHAVE_PTHREAD=1 -I. -Igrpc_root -Igrpc_root/include -Ithird_party/protobuf/src -I/Users/sreenitti/anaconda3/include/python3.11 -c third_party/protobuf/src/google/protobuf/compiler/java/java_enum_field_lite.cc -o build/temp.macosx-11.1-arm64-cpython-311/third_party/protobuf/src/google/protobuf/compiler/java/java_enum_field_lite.o -std=c++14 -fno-wrapv -frtti\n",
      "  \u001b[31m   \u001b[0m clang -DNDEBUG -fwrapv -O2 -Wall -fPIC -O2 -isystem /Users/sreenitti/anaconda3/include -arch arm64 -fPIC -O2 -isystem /Users/sreenitti/anaconda3/include -arch arm64 -DHAVE_PTHREAD=1 -I. -Igrpc_root -Igrpc_root/include -Ithird_party/protobuf/src -I/Users/sreenitti/anaconda3/include/python3.11 -c third_party/protobuf/src/google/protobuf/compiler/java/java_message_builder.cc -o build/temp.macosx-11.1-arm64-cpython-311/third_party/protobuf/src/google/protobuf/compiler/java/java_message_builder.o -std=c++14 -fno-wrapv -frtti\n",
      "  \u001b[31m   \u001b[0m clang -DNDEBUG -fwrapv -O2 -Wall -fPIC -O2 -isystem /Users/sreenitti/anaconda3/include -arch arm64 -fPIC -O2 -isystem /Users/sreenitti/anaconda3/include -arch arm64 -DHAVE_PTHREAD=1 -I. -Igrpc_root -Igrpc_root/include -Ithird_party/protobuf/src -I/Users/sreenitti/anaconda3/include/python3.11 -c third_party/protobuf/src/google/protobuf/compiler/cpp/cpp_enum.cc -o build/temp.macosx-11.1-arm64-cpython-311/third_party/protobuf/src/google/protobuf/compiler/cpp/cpp_enum.o -std=c++14 -fno-wrapv -frtti\n",
      "  \u001b[31m   \u001b[0m clang -DNDEBUG -fwrapv -O2 -Wall -fPIC -O2 -isystem /Users/sreenitti/anaconda3/include -arch arm64 -fPIC -O2 -isystem /Users/sreenitti/anaconda3/include -arch arm64 -DHAVE_PTHREAD=1 -I. -Igrpc_root -Igrpc_root/include -Ithird_party/protobuf/src -I/Users/sreenitti/anaconda3/include/python3.11 -c third_party/protobuf/src/google/protobuf/compiler/java/java_field.cc -o build/temp.macosx-11.1-arm64-cpython-311/third_party/protobuf/src/google/protobuf/compiler/java/java_field.o -std=c++14 -fno-wrapv -frtti\n",
      "  \u001b[31m   \u001b[0m clang -DNDEBUG -fwrapv -O2 -Wall -fPIC -O2 -isystem /Users/sreenitti/anaconda3/include -arch arm64 -fPIC -O2 -isystem /Users/sreenitti/anaconda3/include -arch arm64 -DHAVE_PTHREAD=1 -I. -Igrpc_root -Igrpc_root/include -Ithird_party/protobuf/src -I/Users/sreenitti/anaconda3/include/python3.11 -c third_party/protobuf/src/google/protobuf/compiler/java/java_primitive_field.cc -o build/temp.macosx-11.1-arm64-cpython-311/third_party/protobuf/src/google/protobuf/compiler/java/java_primitive_field.o -std=c++14 -fno-wrapv -frtti\n",
      "  \u001b[31m   \u001b[0m clang -DNDEBUG -fwrapv -O2 -Wall -fPIC -O2 -isystem /Users/sreenitti/anaconda3/include -arch arm64 -fPIC -O2 -isystem /Users/sreenitti/anaconda3/include -arch arm64 -DHAVE_PTHREAD=1 -I. -Igrpc_root -Igrpc_root/include -Ithird_party/protobuf/src -I/Users/sreenitti/anaconda3/include/python3.11 -c third_party/protobuf/src/google/protobuf/compiler/java/java_helpers.cc -o build/temp.macosx-11.1-arm64-cpython-311/third_party/protobuf/src/google/protobuf/compiler/java/java_helpers.o -std=c++14 -fno-wrapv -frtti\n",
      "  \u001b[31m   \u001b[0m clang -DNDEBUG -fwrapv -O2 -Wall -fPIC -O2 -isystem /Users/sreenitti/anaconda3/include -arch arm64 -fPIC -O2 -isystem /Users/sreenitti/anaconda3/include -arch arm64 -DHAVE_PTHREAD=1 -I. -Igrpc_root -Igrpc_root/include -Ithird_party/protobuf/src -I/Users/sreenitti/anaconda3/include/python3.11 -c third_party/protobuf/src/google/protobuf/compiler/js/js_generator.cc -o build/temp.macosx-11.1-arm64-cpython-311/third_party/protobuf/src/google/protobuf/compiler/js/js_generator.o -std=c++14 -fno-wrapv -frtti\n",
      "  \u001b[31m   \u001b[0m clang -DNDEBUG -fwrapv -O2 -Wall -fPIC -O2 -isystem /Users/sreenitti/anaconda3/include -arch arm64 -fPIC -O2 -isystem /Users/sreenitti/anaconda3/include -arch arm64 -DHAVE_PTHREAD=1 -I. -Igrpc_root -Igrpc_root/include -Ithird_party/protobuf/src -I/Users/sreenitti/anaconda3/include/python3.11 -c third_party/protobuf/src/google/protobuf/compiler/cpp/cpp_message_field.cc -o build/temp.macosx-11.1-arm64-cpython-311/third_party/protobuf/src/google/protobuf/compiler/cpp/cpp_message_field.o -std=c++14 -fno-wrapv -frtti\n",
      "  \u001b[31m   \u001b[0m clang -DNDEBUG -fwrapv -O2 -Wall -fPIC -O2 -isystem /Users/sreenitti/anaconda3/include -arch arm64 -fPIC -O2 -isystem /Users/sreenitti/anaconda3/include -arch arm64 -DHAVE_PTHREAD=1 -I. -Igrpc_root -Igrpc_root/include -Ithird_party/protobuf/src -I/Users/sreenitti/anaconda3/include/python3.11 -c third_party/protobuf/src/google/protobuf/compiler/cpp/cpp_generator.cc -o build/temp.macosx-11.1-arm64-cpython-311/third_party/protobuf/src/google/protobuf/compiler/cpp/cpp_generator.o -std=c++14 -fno-wrapv -frtti\n",
      "  \u001b[31m   \u001b[0m clang -DNDEBUG -fwrapv -O2 -Wall -fPIC -O2 -isystem /Users/sreenitti/anaconda3/include -arch arm64 -fPIC -O2 -isystem /Users/sreenitti/anaconda3/include -arch arm64 -DHAVE_PTHREAD=1 -I. -Igrpc_root -Igrpc_root/include -Ithird_party/protobuf/src -I/Users/sreenitti/anaconda3/include/python3.11 -c third_party/protobuf/src/google/protobuf/compiler/java/java_file.cc -o build/temp.macosx-11.1-arm64-cpython-311/third_party/protobuf/src/google/protobuf/compiler/java/java_file.o -std=c++14 -fno-wrapv -frtti\n",
      "  \u001b[31m   \u001b[0m clang -DNDEBUG -fwrapv -O2 -Wall -fPIC -O2 -isystem /Users/sreenitti/anaconda3/include -arch arm64 -fPIC -O2 -isystem /Users/sreenitti/anaconda3/include -arch arm64 -DHAVE_PTHREAD=1 -I. -Igrpc_root -Igrpc_root/include -Ithird_party/protobuf/src -I/Users/sreenitti/anaconda3/include/python3.11 -c third_party/protobuf/src/google/protobuf/compiler/java/java_message_builder_lite.cc -o build/temp.macosx-11.1-arm64-cpython-311/third_party/protobuf/src/google/protobuf/compiler/java/java_message_builder_lite.o -std=c++14 -fno-wrapv -frtti\n",
      "  \u001b[31m   \u001b[0m clang -DNDEBUG -fwrapv -O2 -Wall -fPIC -O2 -isystem /Users/sreenitti/anaconda3/include -arch arm64 -fPIC -O2 -isystem /Users/sreenitti/anaconda3/include -arch arm64 -DHAVE_PTHREAD=1 -I. -Igrpc_root -Igrpc_root/include -Ithird_party/protobuf/src -I/Users/sreenitti/anaconda3/include/python3.11 -c third_party/protobuf/src/google/protobuf/compiler/java/java_primitive_field_lite.cc -o build/temp.macosx-11.1-arm64-cpython-311/third_party/protobuf/src/google/protobuf/compiler/java/java_primitive_field_lite.o -std=c++14 -fno-wrapv -frtti\n",
      "  \u001b[31m   \u001b[0m clang -DNDEBUG -fwrapv -O2 -Wall -fPIC -O2 -isystem /Users/sreenitti/anaconda3/include -arch arm64 -fPIC -O2 -isystem /Users/sreenitti/anaconda3/include -arch arm64 -DHAVE_PTHREAD=1 -I. -Igrpc_root -Igrpc_root/include -Ithird_party/protobuf/src -I/Users/sreenitti/anaconda3/include/python3.11 -c third_party/protobuf/src/google/protobuf/compiler/objectivec/objectivec_file.cc -o build/temp.macosx-11.1-arm64-cpython-311/third_party/protobuf/src/google/protobuf/compiler/objectivec/objectivec_file.o -std=c++14 -fno-wrapv -frtti\n",
      "  \u001b[31m   \u001b[0m clang -DNDEBUG -fwrapv -O2 -Wall -fPIC -O2 -isystem /Users/sreenitti/anaconda3/include -arch arm64 -fPIC -O2 -isystem /Users/sreenitti/anaconda3/include -arch arm64 -DHAVE_PTHREAD=1 -I. -Igrpc_root -Igrpc_root/include -Ithird_party/protobuf/src -I/Users/sreenitti/anaconda3/include/python3.11 -c third_party/protobuf/src/google/protobuf/compiler/java/java_kotlin_generator.cc -o build/temp.macosx-11.1-arm64-cpython-311/third_party/protobuf/src/google/protobuf/compiler/java/java_kotlin_generator.o -std=c++14 -fno-wrapv -frtti\n",
      "  \u001b[31m   \u001b[0m clang -DNDEBUG -fwrapv -O2 -Wall -fPIC -O2 -isystem /Users/sreenitti/anaconda3/include -arch arm64 -fPIC -O2 -isystem /Users/sreenitti/anaconda3/include -arch arm64 -DHAVE_PTHREAD=1 -I. -Igrpc_root -Igrpc_root/include -Ithird_party/protobuf/src -I/Users/sreenitti/anaconda3/include/python3.11 -c third_party/protobuf/src/google/protobuf/compiler/cpp/cpp_helpers.cc -o build/temp.macosx-11.1-arm64-cpython-311/third_party/protobuf/src/google/protobuf/compiler/cpp/cpp_helpers.o -std=c++14 -fno-wrapv -frtti\n",
      "  \u001b[31m   \u001b[0m clang -DNDEBUG -fwrapv -O2 -Wall -fPIC -O2 -isystem /Users/sreenitti/anaconda3/include -arch arm64 -fPIC -O2 -isystem /Users/sreenitti/anaconda3/include -arch arm64 -DHAVE_PTHREAD=1 -I. -Igrpc_root -Igrpc_root/include -Ithird_party/protobuf/src -I/Users/sreenitti/anaconda3/include/python3.11 -c third_party/protobuf/src/google/protobuf/compiler/cpp/cpp_padding_optimizer.cc -o build/temp.macosx-11.1-arm64-cpython-311/third_party/protobuf/src/google/protobuf/compiler/cpp/cpp_padding_optimizer.o -std=c++14 -fno-wrapv -frtti\n",
      "  \u001b[31m   \u001b[0m clang -DNDEBUG -fwrapv -O2 -Wall -fPIC -O2 -isystem /Users/sreenitti/anaconda3/include -arch arm64 -fPIC -O2 -isystem /Users/sreenitti/anaconda3/include -arch arm64 -DHAVE_PTHREAD=1 -I. -Igrpc_root -Igrpc_root/include -Ithird_party/protobuf/src -I/Users/sreenitti/anaconda3/include/python3.11 -c third_party/protobuf/src/google/protobuf/compiler/java/java_message_field.cc -o build/temp.macosx-11.1-arm64-cpython-311/third_party/protobuf/src/google/protobuf/compiler/java/java_message_field.o -std=c++14 -fno-wrapv -frtti\n",
      "  \u001b[31m   \u001b[0m clang -DNDEBUG -fwrapv -O2 -Wall -fPIC -O2 -isystem /Users/sreenitti/anaconda3/include -arch arm64 -fPIC -O2 -isystem /Users/sreenitti/anaconda3/include -arch arm64 -DHAVE_PTHREAD=1 -I. -Igrpc_root -Igrpc_root/include -Ithird_party/protobuf/src -I/Users/sreenitti/anaconda3/include/python3.11 -c third_party/protobuf/src/google/protobuf/compiler/java/java_service.cc -o build/temp.macosx-11.1-arm64-cpython-311/third_party/protobuf/src/google/protobuf/compiler/java/java_service.o -std=c++14 -fno-wrapv -frtti\n",
      "  \u001b[31m   \u001b[0m clang -DNDEBUG -fwrapv -O2 -Wall -fPIC -O2 -isystem /Users/sreenitti/anaconda3/include -arch arm64 -fPIC -O2 -isystem /Users/sreenitti/anaconda3/include -arch arm64 -DHAVE_PTHREAD=1 -I. -Igrpc_root -Igrpc_root/include -Ithird_party/protobuf/src -I/Users/sreenitti/anaconda3/include/python3.11 -c third_party/protobuf/src/google/protobuf/compiler/java/java_map_field.cc -o build/temp.macosx-11.1-arm64-cpython-311/third_party/protobuf/src/google/protobuf/compiler/java/java_map_field.o -std=c++14 -fno-wrapv -frtti\n",
      "  \u001b[31m   \u001b[0m clang -DNDEBUG -fwrapv -O2 -Wall -fPIC -O2 -isystem /Users/sreenitti/anaconda3/include -arch arm64 -fPIC -O2 -isystem /Users/sreenitti/anaconda3/include -arch arm64 -DHAVE_PTHREAD=1 -I. -Igrpc_root -Igrpc_root/include -Ithird_party/protobuf/src -I/Users/sreenitti/anaconda3/include/python3.11 -c third_party/protobuf/src/google/protobuf/compiler/java/java_generator.cc -o build/temp.macosx-11.1-arm64-cpython-311/third_party/protobuf/src/google/protobuf/compiler/java/java_generator.o -std=c++14 -fno-wrapv -frtti\n",
      "  \u001b[31m   \u001b[0m clang -DNDEBUG -fwrapv -O2 -Wall -fPIC -O2 -isystem /Users/sreenitti/anaconda3/include -arch arm64 -fPIC -O2 -isystem /Users/sreenitti/anaconda3/include -arch arm64 -DHAVE_PTHREAD=1 -I. -Igrpc_root -Igrpc_root/include -Ithird_party/protobuf/src -I/Users/sreenitti/anaconda3/include/python3.11 -c third_party/protobuf/src/google/protobuf/compiler/objectivec/objectivec_generator.cc -o build/temp.macosx-11.1-arm64-cpython-311/third_party/protobuf/src/google/protobuf/compiler/objectivec/objectivec_generator.o -std=c++14 -fno-wrapv -frtti\n",
      "  \u001b[31m   \u001b[0m clang -DNDEBUG -fwrapv -O2 -Wall -fPIC -O2 -isystem /Users/sreenitti/anaconda3/include -arch arm64 -fPIC -O2 -isystem /Users/sreenitti/anaconda3/include -arch arm64 -DHAVE_PTHREAD=1 -I. -Igrpc_root -Igrpc_root/include -Ithird_party/protobuf/src -I/Users/sreenitti/anaconda3/include/python3.11 -c third_party/protobuf/src/google/protobuf/compiler/java/java_message_field_lite.cc -o build/temp.macosx-11.1-arm64-cpython-311/third_party/protobuf/src/google/protobuf/compiler/java/java_message_field_lite.o -std=c++14 -fno-wrapv -frtti\n",
      "  \u001b[31m   \u001b[0m clang -DNDEBUG -fwrapv -O2 -Wall -fPIC -O2 -isystem /Users/sreenitti/anaconda3/include -arch arm64 -fPIC -O2 -isystem /Users/sreenitti/anaconda3/include -arch arm64 -DHAVE_PTHREAD=1 -I. -Igrpc_root -Igrpc_root/include -Ithird_party/protobuf/src -I/Users/sreenitti/anaconda3/include/python3.11 -c third_party/protobuf/src/google/protobuf/compiler/cpp/cpp_parse_function_generator.cc -o build/temp.macosx-11.1-arm64-cpython-311/third_party/protobuf/src/google/protobuf/compiler/cpp/cpp_parse_function_generator.o -std=c++14 -fno-wrapv -frtti\n",
      "  \u001b[31m   \u001b[0m clang -DNDEBUG -fwrapv -O2 -Wall -fPIC -O2 -isystem /Users/sreenitti/anaconda3/include -arch arm64 -fPIC -O2 -isystem /Users/sreenitti/anaconda3/include -arch arm64 -DHAVE_PTHREAD=1 -I. -Igrpc_root -Igrpc_root/include -Ithird_party/protobuf/src -I/Users/sreenitti/anaconda3/include/python3.11 -c third_party/protobuf/src/google/protobuf/compiler/java/java_shared_code_generator.cc -o build/temp.macosx-11.1-arm64-cpython-311/third_party/protobuf/src/google/protobuf/compiler/java/java_shared_code_generator.o -std=c++14 -fno-wrapv -frtti\n",
      "  \u001b[31m   \u001b[0m clang -DNDEBUG -fwrapv -O2 -Wall -fPIC -O2 -isystem /Users/sreenitti/anaconda3/include -arch arm64 -fPIC -O2 -isystem /Users/sreenitti/anaconda3/include -arch arm64 -DHAVE_PTHREAD=1 -I. -Igrpc_root -Igrpc_root/include -Ithird_party/protobuf/src -I/Users/sreenitti/anaconda3/include/python3.11 -c third_party/protobuf/src/google/protobuf/compiler/java/java_map_field_lite.cc -o build/temp.macosx-11.1-arm64-cpython-311/third_party/protobuf/src/google/protobuf/compiler/java/java_map_field_lite.o -std=c++14 -fno-wrapv -frtti\n",
      "  \u001b[31m   \u001b[0m clang -DNDEBUG -fwrapv -O2 -Wall -fPIC -O2 -isystem /Users/sreenitti/anaconda3/include -arch arm64 -fPIC -O2 -isystem /Users/sreenitti/anaconda3/include -arch arm64 -DHAVE_PTHREAD=1 -I. -Igrpc_root -Igrpc_root/include -Ithird_party/protobuf/src -I/Users/sreenitti/anaconda3/include/python3.11 -c third_party/protobuf/src/google/protobuf/compiler/objectivec/objectivec_oneof.cc -o build/temp.macosx-11.1-arm64-cpython-311/third_party/protobuf/src/google/protobuf/compiler/objectivec/objectivec_oneof.o -std=c++14 -fno-wrapv -frtti\n",
      "  \u001b[31m   \u001b[0m clang -DNDEBUG -fwrapv -O2 -Wall -fPIC -O2 -isystem /Users/sreenitti/anaconda3/include -arch arm64 -fPIC -O2 -isystem /Users/sreenitti/anaconda3/include -arch arm64 -DHAVE_PTHREAD=1 -I. -Igrpc_root -Igrpc_root/include -Ithird_party/protobuf/src -I/Users/sreenitti/anaconda3/include/python3.11 -c third_party/protobuf/src/google/protobuf/compiler/objectivec/objectivec_helpers.cc -o build/temp.macosx-11.1-arm64-cpython-311/third_party/protobuf/src/google/protobuf/compiler/objectivec/objectivec_helpers.o -std=c++14 -fno-wrapv -frtti\n",
      "  \u001b[31m   \u001b[0m clang -DNDEBUG -fwrapv -O2 -Wall -fPIC -O2 -isystem /Users/sreenitti/anaconda3/include -arch arm64 -fPIC -O2 -isystem /Users/sreenitti/anaconda3/include -arch arm64 -DHAVE_PTHREAD=1 -I. -Igrpc_root -Igrpc_root/include -Ithird_party/protobuf/src -I/Users/sreenitti/anaconda3/include/python3.11 -c third_party/protobuf/src/google/protobuf/compiler/java/java_message_lite.cc -o build/temp.macosx-11.1-arm64-cpython-311/third_party/protobuf/src/google/protobuf/compiler/java/java_message_lite.o -std=c++14 -fno-wrapv -frtti\n",
      "  \u001b[31m   \u001b[0m clang -DNDEBUG -fwrapv -O2 -Wall -fPIC -O2 -isystem /Users/sreenitti/anaconda3/include -arch arm64 -fPIC -O2 -isystem /Users/sreenitti/anaconda3/include -arch arm64 -DHAVE_PTHREAD=1 -I. -Igrpc_root -Igrpc_root/include -Ithird_party/protobuf/src -I/Users/sreenitti/anaconda3/include/python3.11 -c third_party/protobuf/src/google/protobuf/compiler/js/well_known_types_embed.cc -o build/temp.macosx-11.1-arm64-cpython-311/third_party/protobuf/src/google/protobuf/compiler/js/well_known_types_embed.o -std=c++14 -fno-wrapv -frtti\n",
      "  \u001b[31m   \u001b[0m clang -DNDEBUG -fwrapv -O2 -Wall -fPIC -O2 -isystem /Users/sreenitti/anaconda3/include -arch arm64 -fPIC -O2 -isystem /Users/sreenitti/anaconda3/include -arch arm64 -DHAVE_PTHREAD=1 -I. -Igrpc_root -Igrpc_root/include -Ithird_party/protobuf/src -I/Users/sreenitti/anaconda3/include/python3.11 -c third_party/protobuf/src/google/protobuf/compiler/objectivec/objectivec_enum.cc -o build/temp.macosx-11.1-arm64-cpython-311/third_party/protobuf/src/google/protobuf/compiler/objectivec/objectivec_enum.o -std=c++14 -fno-wrapv -frtti\n",
      "  \u001b[31m   \u001b[0m clang -DNDEBUG -fwrapv -O2 -Wall -fPIC -O2 -isystem /Users/sreenitti/anaconda3/include -arch arm64 -fPIC -O2 -isystem /Users/sreenitti/anaconda3/include -arch arm64 -DHAVE_PTHREAD=1 -I. -Igrpc_root -Igrpc_root/include -Ithird_party/protobuf/src -I/Users/sreenitti/anaconda3/include/python3.11 -c third_party/protobuf/src/google/protobuf/compiler/python/python_generator.cc -o build/temp.macosx-11.1-arm64-cpython-311/third_party/protobuf/src/google/protobuf/compiler/python/python_generator.o -std=c++14 -fno-wrapv -frtti\n",
      "  \u001b[31m   \u001b[0m clang -DNDEBUG -fwrapv -O2 -Wall -fPIC -O2 -isystem /Users/sreenitti/anaconda3/include -arch arm64 -fPIC -O2 -isystem /Users/sreenitti/anaconda3/include -arch arm64 -DHAVE_PTHREAD=1 -I. -Igrpc_root -Igrpc_root/include -Ithird_party/protobuf/src -I/Users/sreenitti/anaconda3/include/python3.11 -c third_party/protobuf/src/google/protobuf/compiler/java/java_string_field.cc -o build/temp.macosx-11.1-arm64-cpython-311/third_party/protobuf/src/google/protobuf/compiler/java/java_string_field.o -std=c++14 -fno-wrapv -frtti\n",
      "  \u001b[31m   \u001b[0m clang -DNDEBUG -fwrapv -O2 -Wall -fPIC -O2 -isystem /Users/sreenitti/anaconda3/include -arch arm64 -fPIC -O2 -isystem /Users/sreenitti/anaconda3/include -arch arm64 -DHAVE_PTHREAD=1 -I. -Igrpc_root -Igrpc_root/include -Ithird_party/protobuf/src -I/Users/sreenitti/anaconda3/include/python3.11 -c third_party/protobuf/src/google/protobuf/compiler/objectivec/objectivec_primitive_field.cc -o build/temp.macosx-11.1-arm64-cpython-311/third_party/protobuf/src/google/protobuf/compiler/objectivec/objectivec_primitive_field.o -std=c++14 -fno-wrapv -frtti\n",
      "  \u001b[31m   \u001b[0m clang -DNDEBUG -fwrapv -O2 -Wall -fPIC -O2 -isystem /Users/sreenitti/anaconda3/include -arch arm64 -fPIC -O2 -isystem /Users/sreenitti/anaconda3/include -arch arm64 -DHAVE_PTHREAD=1 -I. -Igrpc_root -Igrpc_root/include -Ithird_party/protobuf/src -I/Users/sreenitti/anaconda3/include/python3.11 -c third_party/protobuf/src/google/protobuf/compiler/java/java_message.cc -o build/temp.macosx-11.1-arm64-cpython-311/third_party/protobuf/src/google/protobuf/compiler/java/java_message.o -std=c++14 -fno-wrapv -frtti\n",
      "  \u001b[31m   \u001b[0m clang -DNDEBUG -fwrapv -O2 -Wall -fPIC -O2 -isystem /Users/sreenitti/anaconda3/include -arch arm64 -fPIC -O2 -isystem /Users/sreenitti/anaconda3/include -arch arm64 -DHAVE_PTHREAD=1 -I. -Igrpc_root -Igrpc_root/include -Ithird_party/protobuf/src -I/Users/sreenitti/anaconda3/include/python3.11 -c third_party/protobuf/src/google/protobuf/compiler/cpp/cpp_primitive_field.cc -o build/temp.macosx-11.1-arm64-cpython-311/third_party/protobuf/src/google/protobuf/compiler/cpp/cpp_primitive_field.o -std=c++14 -fno-wrapv -frtti\n",
      "  \u001b[31m   \u001b[0m clang -DNDEBUG -fwrapv -O2 -Wall -fPIC -O2 -isystem /Users/sreenitti/anaconda3/include -arch arm64 -fPIC -O2 -isystem /Users/sreenitti/anaconda3/include -arch arm64 -DHAVE_PTHREAD=1 -I. -Igrpc_root -Igrpc_root/include -Ithird_party/protobuf/src -I/Users/sreenitti/anaconda3/include/python3.11 -c third_party/protobuf/src/google/protobuf/compiler/objectivec/objectivec_enum_field.cc -o build/temp.macosx-11.1-arm64-cpython-311/third_party/protobuf/src/google/protobuf/compiler/objectivec/objectivec_enum_field.o -std=c++14 -fno-wrapv -frtti\n",
      "  \u001b[31m   \u001b[0m clang -DNDEBUG -fwrapv -O2 -Wall -fPIC -O2 -isystem /Users/sreenitti/anaconda3/include -arch arm64 -fPIC -O2 -isystem /Users/sreenitti/anaconda3/include -arch arm64 -DHAVE_PTHREAD=1 -I. -Igrpc_root -Igrpc_root/include -Ithird_party/protobuf/src -I/Users/sreenitti/anaconda3/include/python3.11 -c third_party/protobuf/src/google/protobuf/compiler/parser.cc -o build/temp.macosx-11.1-arm64-cpython-311/third_party/protobuf/src/google/protobuf/compiler/parser.o -std=c++14 -fno-wrapv -frtti\n",
      "  \u001b[31m   \u001b[0m clang -DNDEBUG -fwrapv -O2 -Wall -fPIC -O2 -isystem /Users/sreenitti/anaconda3/include -arch arm64 -fPIC -O2 -isystem /Users/sreenitti/anaconda3/include -arch arm64 -DHAVE_PTHREAD=1 -I. -Igrpc_root -Igrpc_root/include -Ithird_party/protobuf/src -I/Users/sreenitti/anaconda3/include/python3.11 -c third_party/protobuf/src/google/protobuf/compiler/java/java_name_resolver.cc -o build/temp.macosx-11.1-arm64-cpython-311/third_party/protobuf/src/google/protobuf/compiler/java/java_name_resolver.o -std=c++14 -fno-wrapv -frtti\n",
      "  \u001b[31m   \u001b[0m clang -DNDEBUG -fwrapv -O2 -Wall -fPIC -O2 -isystem /Users/sreenitti/anaconda3/include -arch arm64 -fPIC -O2 -isystem /Users/sreenitti/anaconda3/include -arch arm64 -DHAVE_PTHREAD=1 -I. -Igrpc_root -Igrpc_root/include -Ithird_party/protobuf/src -I/Users/sreenitti/anaconda3/include/python3.11 -c third_party/protobuf/src/google/protobuf/compiler/java/java_string_field_lite.cc -o build/temp.macosx-11.1-arm64-cpython-311/third_party/protobuf/src/google/protobuf/compiler/java/java_string_field_lite.o -std=c++14 -fno-wrapv -frtti\n",
      "  \u001b[31m   \u001b[0m clang -DNDEBUG -fwrapv -O2 -Wall -fPIC -O2 -isystem /Users/sreenitti/anaconda3/include -arch arm64 -fPIC -O2 -isystem /Users/sreenitti/anaconda3/include -arch arm64 -DHAVE_PTHREAD=1 -I. -Igrpc_root -Igrpc_root/include -Ithird_party/protobuf/src -I/Users/sreenitti/anaconda3/include/python3.11 -c third_party/protobuf/src/google/protobuf/compiler/objectivec/objectivec_map_field.cc -o build/temp.macosx-11.1-arm64-cpython-311/third_party/protobuf/src/google/protobuf/compiler/objectivec/objectivec_map_field.o -std=c++14 -fno-wrapv -frtti\n",
      "  \u001b[31m   \u001b[0m clang -DNDEBUG -fwrapv -O2 -Wall -fPIC -O2 -isystem /Users/sreenitti/anaconda3/include -arch arm64 -fPIC -O2 -isystem /Users/sreenitti/anaconda3/include -arch arm64 -DHAVE_PTHREAD=1 -I. -Igrpc_root -Igrpc_root/include -Ithird_party/protobuf/src -I/Users/sreenitti/anaconda3/include/python3.11 -c third_party/protobuf/src/google/protobuf/compiler/ruby/ruby_generator.cc -o build/temp.macosx-11.1-arm64-cpython-311/third_party/protobuf/src/google/protobuf/compiler/ruby/ruby_generator.o -std=c++14 -fno-wrapv -frtti\n",
      "  \u001b[31m   \u001b[0m clang -DNDEBUG -fwrapv -O2 -Wall -fPIC -O2 -isystem /Users/sreenitti/anaconda3/include -arch arm64 -fPIC -O2 -isystem /Users/sreenitti/anaconda3/include -arch arm64 -DHAVE_PTHREAD=1 -I. -Igrpc_root -Igrpc_root/include -Ithird_party/protobuf/src -I/Users/sreenitti/anaconda3/include/python3.11 -c third_party/protobuf/src/google/protobuf/compiler/objectivec/objectivec_extension.cc -o build/temp.macosx-11.1-arm64-cpython-311/third_party/protobuf/src/google/protobuf/compiler/objectivec/objectivec_extension.o -std=c++14 -fno-wrapv -frtti\n",
      "  \u001b[31m   \u001b[0m clang -DNDEBUG -fwrapv -O2 -Wall -fPIC -O2 -isystem /Users/sreenitti/anaconda3/include -arch arm64 -fPIC -O2 -isystem /Users/sreenitti/anaconda3/include -arch arm64 -DHAVE_PTHREAD=1 -I. -Igrpc_root -Igrpc_root/include -Ithird_party/protobuf/src -I/Users/sreenitti/anaconda3/include/python3.11 -c third_party/protobuf/src/google/protobuf/descriptor_database.cc -o build/temp.macosx-11.1-arm64-cpython-311/third_party/protobuf/src/google/protobuf/descriptor_database.o -std=c++14 -fno-wrapv -frtti\n",
      "  \u001b[31m   \u001b[0m clang -DNDEBUG -fwrapv -O2 -Wall -fPIC -O2 -isystem /Users/sreenitti/anaconda3/include -arch arm64 -fPIC -O2 -isystem /Users/sreenitti/anaconda3/include -arch arm64 -DHAVE_PTHREAD=1 -I. -Igrpc_root -Igrpc_root/include -Ithird_party/protobuf/src -I/Users/sreenitti/anaconda3/include/python3.11 -c third_party/protobuf/src/google/protobuf/field_mask.pb.cc -o build/temp.macosx-11.1-arm64-cpython-311/third_party/protobuf/src/google/protobuf/field_mask.pb.o -std=c++14 -fno-wrapv -frtti\n",
      "  \u001b[31m   \u001b[0m clang -DNDEBUG -fwrapv -O2 -Wall -fPIC -O2 -isystem /Users/sreenitti/anaconda3/include -arch arm64 -fPIC -O2 -isystem /Users/sreenitti/anaconda3/include -arch arm64 -DHAVE_PTHREAD=1 -I. -Igrpc_root -Igrpc_root/include -Ithird_party/protobuf/src -I/Users/sreenitti/anaconda3/include/python3.11 -c third_party/protobuf/src/google/protobuf/generated_message_tctable_full.cc -o build/temp.macosx-11.1-arm64-cpython-311/third_party/protobuf/src/google/protobuf/generated_message_tctable_full.o -std=c++14 -fno-wrapv -frtti\n",
      "  \u001b[31m   \u001b[0m clang -DNDEBUG -fwrapv -O2 -Wall -fPIC -O2 -isystem /Users/sreenitti/anaconda3/include -arch arm64 -fPIC -O2 -isystem /Users/sreenitti/anaconda3/include -arch arm64 -DHAVE_PTHREAD=1 -I. -Igrpc_root -Igrpc_root/include -Ithird_party/protobuf/src -I/Users/sreenitti/anaconda3/include/python3.11 -c third_party/protobuf/src/google/protobuf/io/gzip_stream.cc -o build/temp.macosx-11.1-arm64-cpython-311/third_party/protobuf/src/google/protobuf/io/gzip_stream.o -std=c++14 -fno-wrapv -frtti\n",
      "  \u001b[31m   \u001b[0m clang -DNDEBUG -fwrapv -O2 -Wall -fPIC -O2 -isystem /Users/sreenitti/anaconda3/include -arch arm64 -fPIC -O2 -isystem /Users/sreenitti/anaconda3/include -arch arm64 -DHAVE_PTHREAD=1 -I. -Igrpc_root -Igrpc_root/include -Ithird_party/protobuf/src -I/Users/sreenitti/anaconda3/include/python3.11 -c third_party/protobuf/src/google/protobuf/io/io_win32.cc -o build/temp.macosx-11.1-arm64-cpython-311/third_party/protobuf/src/google/protobuf/io/io_win32.o -std=c++14 -fno-wrapv -frtti\n",
      "  \u001b[31m   \u001b[0m clang -DNDEBUG -fwrapv -O2 -Wall -fPIC -O2 -isystem /Users/sreenitti/anaconda3/include -arch arm64 -fPIC -O2 -isystem /Users/sreenitti/anaconda3/include -arch arm64 -DHAVE_PTHREAD=1 -I. -Igrpc_root -Igrpc_root/include -Ithird_party/protobuf/src -I/Users/sreenitti/anaconda3/include/python3.11 -c third_party/protobuf/src/google/protobuf/io/printer.cc -o build/temp.macosx-11.1-arm64-cpython-311/third_party/protobuf/src/google/protobuf/io/printer.o -std=c++14 -fno-wrapv -frtti\n",
      "  \u001b[31m   \u001b[0m clang -DNDEBUG -fwrapv -O2 -Wall -fPIC -O2 -isystem /Users/sreenitti/anaconda3/include -arch arm64 -fPIC -O2 -isystem /Users/sreenitti/anaconda3/include -arch arm64 -DHAVE_PTHREAD=1 -I. -Igrpc_root -Igrpc_root/include -Ithird_party/protobuf/src -I/Users/sreenitti/anaconda3/include/python3.11 -c third_party/protobuf/src/google/protobuf/compiler/objectivec/objectivec_message.cc -o build/temp.macosx-11.1-arm64-cpython-311/third_party/protobuf/src/google/protobuf/compiler/objectivec/objectivec_message.o -std=c++14 -fno-wrapv -frtti\n",
      "  \u001b[31m   \u001b[0m clang -DNDEBUG -fwrapv -O2 -Wall -fPIC -O2 -isystem /Users/sreenitti/anaconda3/include -arch arm64 -fPIC -O2 -isystem /Users/sreenitti/anaconda3/include -arch arm64 -DHAVE_PTHREAD=1 -I. -Igrpc_root -Igrpc_root/include -Ithird_party/protobuf/src -I/Users/sreenitti/anaconda3/include/python3.11 -c third_party/protobuf/src/google/protobuf/generated_enum_util.cc -o build/temp.macosx-11.1-arm64-cpython-311/third_party/protobuf/src/google/protobuf/generated_enum_util.o -std=c++14 -fno-wrapv -frtti\n",
      "  \u001b[31m   \u001b[0m clang -DNDEBUG -fwrapv -O2 -Wall -fPIC -O2 -isystem /Users/sreenitti/anaconda3/include -arch arm64 -fPIC -O2 -isystem /Users/sreenitti/anaconda3/include -arch arm64 -DHAVE_PTHREAD=1 -I. -Igrpc_root -Igrpc_root/include -Ithird_party/protobuf/src -I/Users/sreenitti/anaconda3/include/python3.11 -c third_party/protobuf/src/google/protobuf/compiler/subprocess.cc -o build/temp.macosx-11.1-arm64-cpython-311/third_party/protobuf/src/google/protobuf/compiler/subprocess.o -std=c++14 -fno-wrapv -frtti\n",
      "  \u001b[31m   \u001b[0m clang -DNDEBUG -fwrapv -O2 -Wall -fPIC -O2 -isystem /Users/sreenitti/anaconda3/include -arch arm64 -fPIC -O2 -isystem /Users/sreenitti/anaconda3/include -arch arm64 -DHAVE_PTHREAD=1 -I. -Igrpc_root -Igrpc_root/include -Ithird_party/protobuf/src -I/Users/sreenitti/anaconda3/include/python3.11 -c third_party/protobuf/src/google/protobuf/compiler/objectivec/objectivec_field.cc -o build/temp.macosx-11.1-arm64-cpython-311/third_party/protobuf/src/google/protobuf/compiler/objectivec/objectivec_field.o -std=c++14 -fno-wrapv -frtti\n",
      "  \u001b[31m   \u001b[0m clang -DNDEBUG -fwrapv -O2 -Wall -fPIC -O2 -isystem /Users/sreenitti/anaconda3/include -arch arm64 -fPIC -O2 -isystem /Users/sreenitti/anaconda3/include -arch arm64 -DHAVE_PTHREAD=1 -I. -Igrpc_root -Igrpc_root/include -Ithird_party/protobuf/src -I/Users/sreenitti/anaconda3/include/python3.11 -c third_party/protobuf/src/google/protobuf/generated_message_tctable_lite.cc -o build/temp.macosx-11.1-arm64-cpython-311/third_party/protobuf/src/google/protobuf/generated_message_tctable_lite.o -std=c++14 -fno-wrapv -frtti\n",
      "  \u001b[31m   \u001b[0m clang -DNDEBUG -fwrapv -O2 -Wall -fPIC -O2 -isystem /Users/sreenitti/anaconda3/include -arch arm64 -fPIC -O2 -isystem /Users/sreenitti/anaconda3/include -arch arm64 -DHAVE_PTHREAD=1 -I. -Igrpc_root -Igrpc_root/include -Ithird_party/protobuf/src -I/Users/sreenitti/anaconda3/include/python3.11 -c third_party/protobuf/src/google/protobuf/compiler/php/php_generator.cc -o build/temp.macosx-11.1-arm64-cpython-311/third_party/protobuf/src/google/protobuf/compiler/php/php_generator.o -std=c++14 -fno-wrapv -frtti\n",
      "  \u001b[31m   \u001b[0m clang -DNDEBUG -fwrapv -O2 -Wall -fPIC -O2 -isystem /Users/sreenitti/anaconda3/include -arch arm64 -fPIC -O2 -isystem /Users/sreenitti/anaconda3/include -arch arm64 -DHAVE_PTHREAD=1 -I. -Igrpc_root -Igrpc_root/include -Ithird_party/protobuf/src -I/Users/sreenitti/anaconda3/include/python3.11 -c third_party/protobuf/src/google/protobuf/io/strtod.cc -o build/temp.macosx-11.1-arm64-cpython-311/third_party/protobuf/src/google/protobuf/io/strtod.o -std=c++14 -fno-wrapv -frtti\n",
      "  \u001b[31m   \u001b[0m clang -DNDEBUG -fwrapv -O2 -Wall -fPIC -O2 -isystem /Users/sreenitti/anaconda3/include -arch arm64 -fPIC -O2 -isystem /Users/sreenitti/anaconda3/include -arch arm64 -DHAVE_PTHREAD=1 -I. -Igrpc_root -Igrpc_root/include -Ithird_party/protobuf/src -I/Users/sreenitti/anaconda3/include/python3.11 -c third_party/protobuf/src/google/protobuf/generated_message_bases.cc -o build/temp.macosx-11.1-arm64-cpython-311/third_party/protobuf/src/google/protobuf/generated_message_bases.o -std=c++14 -fno-wrapv -frtti\n",
      "  \u001b[31m   \u001b[0m clang -DNDEBUG -fwrapv -O2 -Wall -fPIC -O2 -isystem /Users/sreenitti/anaconda3/include -arch arm64 -fPIC -O2 -isystem /Users/sreenitti/anaconda3/include -arch arm64 -DHAVE_PTHREAD=1 -I. -Igrpc_root -Igrpc_root/include -Ithird_party/protobuf/src -I/Users/sreenitti/anaconda3/include/python3.11 -c third_party/protobuf/src/google/protobuf/compiler/zip_writer.cc -o build/temp.macosx-11.1-arm64-cpython-311/third_party/protobuf/src/google/protobuf/compiler/zip_writer.o -std=c++14 -fno-wrapv -frtti\n",
      "  \u001b[31m   \u001b[0m clang -DNDEBUG -fwrapv -O2 -Wall -fPIC -O2 -isystem /Users/sreenitti/anaconda3/include -arch arm64 -fPIC -O2 -isystem /Users/sreenitti/anaconda3/include -arch arm64 -DHAVE_PTHREAD=1 -I. -Igrpc_root -Igrpc_root/include -Ithird_party/protobuf/src -I/Users/sreenitti/anaconda3/include/python3.11 -c third_party/protobuf/src/google/protobuf/io/tokenizer.cc -o build/temp.macosx-11.1-arm64-cpython-311/third_party/protobuf/src/google/protobuf/io/tokenizer.o -std=c++14 -fno-wrapv -frtti\n",
      "  \u001b[31m   \u001b[0m clang -DNDEBUG -fwrapv -O2 -Wall -fPIC -O2 -isystem /Users/sreenitti/anaconda3/include -arch arm64 -fPIC -O2 -isystem /Users/sreenitti/anaconda3/include -arch arm64 -DHAVE_PTHREAD=1 -I. -Igrpc_root -Igrpc_root/include -Ithird_party/protobuf/src -I/Users/sreenitti/anaconda3/include/python3.11 -c third_party/protobuf/src/google/protobuf/generated_message_util.cc -o build/temp.macosx-11.1-arm64-cpython-311/third_party/protobuf/src/google/protobuf/generated_message_util.o -std=c++14 -fno-wrapv -frtti\n",
      "  \u001b[31m   \u001b[0m clang -DNDEBUG -fwrapv -O2 -Wall -fPIC -O2 -isystem /Users/sreenitti/anaconda3/include -arch arm64 -fPIC -O2 -isystem /Users/sreenitti/anaconda3/include -arch arm64 -DHAVE_PTHREAD=1 -I. -Igrpc_root -Igrpc_root/include -Ithird_party/protobuf/src -I/Users/sreenitti/anaconda3/include/python3.11 -c third_party/protobuf/src/google/protobuf/duration.pb.cc -o build/temp.macosx-11.1-arm64-cpython-311/third_party/protobuf/src/google/protobuf/duration.pb.o -std=c++14 -fno-wrapv -frtti\n",
      "  \u001b[31m   \u001b[0m clang -DNDEBUG -fwrapv -O2 -Wall -fPIC -O2 -isystem /Users/sreenitti/anaconda3/include -arch arm64 -fPIC -O2 -isystem /Users/sreenitti/anaconda3/include -arch arm64 -DHAVE_PTHREAD=1 -I. -Igrpc_root -Igrpc_root/include -Ithird_party/protobuf/src -I/Users/sreenitti/anaconda3/include/python3.11 -c third_party/protobuf/src/google/protobuf/generated_message_reflection.cc -o build/temp.macosx-11.1-arm64-cpython-311/third_party/protobuf/src/google/protobuf/generated_message_reflection.o -std=c++14 -fno-wrapv -frtti\n",
      "  \u001b[31m   \u001b[0m clang -DNDEBUG -fwrapv -O2 -Wall -fPIC -O2 -isystem /Users/sreenitti/anaconda3/include -arch arm64 -fPIC -O2 -isystem /Users/sreenitti/anaconda3/include -arch arm64 -DHAVE_PTHREAD=1 -I. -Igrpc_root -Igrpc_root/include -Ithird_party/protobuf/src -I/Users/sreenitti/anaconda3/include/python3.11 -c third_party/protobuf/src/google/protobuf/io/zero_copy_stream_impl.cc -o build/temp.macosx-11.1-arm64-cpython-311/third_party/protobuf/src/google/protobuf/io/zero_copy_stream_impl.o -std=c++14 -fno-wrapv -frtti\n",
      "  \u001b[31m   \u001b[0m clang -DNDEBUG -fwrapv -O2 -Wall -fPIC -O2 -isystem /Users/sreenitti/anaconda3/include -arch arm64 -fPIC -O2 -isystem /Users/sreenitti/anaconda3/include -arch arm64 -DHAVE_PTHREAD=1 -I. -Igrpc_root -Igrpc_root/include -Ithird_party/protobuf/src -I/Users/sreenitti/anaconda3/include/python3.11 -c third_party/protobuf/src/google/protobuf/descriptor.cc -o build/temp.macosx-11.1-arm64-cpython-311/third_party/protobuf/src/google/protobuf/descriptor.o -std=c++14 -fno-wrapv -frtti\n",
      "  \u001b[31m   \u001b[0m clang -DNDEBUG -fwrapv -O2 -Wall -fPIC -O2 -isystem /Users/sreenitti/anaconda3/include -arch arm64 -fPIC -O2 -isystem /Users/sreenitti/anaconda3/include -arch arm64 -DHAVE_PTHREAD=1 -I. -Igrpc_root -Igrpc_root/include -Ithird_party/protobuf/src -I/Users/sreenitti/anaconda3/include/python3.11 -c third_party/protobuf/src/google/protobuf/compiler/objectivec/objectivec_message_field.cc -o build/temp.macosx-11.1-arm64-cpython-311/third_party/protobuf/src/google/protobuf/compiler/objectivec/objectivec_message_field.o -std=c++14 -fno-wrapv -frtti\n",
      "  \u001b[31m   \u001b[0m clang -DNDEBUG -fwrapv -O2 -Wall -fPIC -O2 -isystem /Users/sreenitti/anaconda3/include -arch arm64 -fPIC -O2 -isystem /Users/sreenitti/anaconda3/include -arch arm64 -DHAVE_PTHREAD=1 -I. -Igrpc_root -Igrpc_root/include -Ithird_party/protobuf/src -I/Users/sreenitti/anaconda3/include/python3.11 -c third_party/protobuf/src/google/protobuf/io/zero_copy_stream.cc -o build/temp.macosx-11.1-arm64-cpython-311/third_party/protobuf/src/google/protobuf/io/zero_copy_stream.o -std=c++14 -fno-wrapv -frtti\n",
      "  \u001b[31m   \u001b[0m clang -DNDEBUG -fwrapv -O2 -Wall -fPIC -O2 -isystem /Users/sreenitti/anaconda3/include -arch arm64 -fPIC -O2 -isystem /Users/sreenitti/anaconda3/include -arch arm64 -DHAVE_PTHREAD=1 -I. -Igrpc_root -Igrpc_root/include -Ithird_party/protobuf/src -I/Users/sreenitti/anaconda3/include/python3.11 -c third_party/protobuf/src/google/protobuf/io/zero_copy_stream_impl_lite.cc -o build/temp.macosx-11.1-arm64-cpython-311/third_party/protobuf/src/google/protobuf/io/zero_copy_stream_impl_lite.o -std=c++14 -fno-wrapv -frtti\n",
      "  \u001b[31m   \u001b[0m clang -DNDEBUG -fwrapv -O2 -Wall -fPIC -O2 -isystem /Users/sreenitti/anaconda3/include -arch arm64 -fPIC -O2 -isystem /Users/sreenitti/anaconda3/include -arch arm64 -DHAVE_PTHREAD=1 -I. -Igrpc_root -Igrpc_root/include -Ithird_party/protobuf/src -I/Users/sreenitti/anaconda3/include/python3.11 -c third_party/protobuf/src/google/protobuf/dynamic_message.cc -o build/temp.macosx-11.1-arm64-cpython-311/third_party/protobuf/src/google/protobuf/dynamic_message.o -std=c++14 -fno-wrapv -frtti\n",
      "  \u001b[31m   \u001b[0m clang -DNDEBUG -fwrapv -O2 -Wall -fPIC -O2 -isystem /Users/sreenitti/anaconda3/include -arch arm64 -fPIC -O2 -isystem /Users/sreenitti/anaconda3/include -arch arm64 -DHAVE_PTHREAD=1 -I. -Igrpc_root -Igrpc_root/include -Ithird_party/protobuf/src -I/Users/sreenitti/anaconda3/include/python3.11 -c third_party/protobuf/src/google/protobuf/parse_context.cc -o build/temp.macosx-11.1-arm64-cpython-311/third_party/protobuf/src/google/protobuf/parse_context.o -std=c++14 -fno-wrapv -frtti\n",
      "  \u001b[31m   \u001b[0m clang -DNDEBUG -fwrapv -O2 -Wall -fPIC -O2 -isystem /Users/sreenitti/anaconda3/include -arch arm64 -fPIC -O2 -isystem /Users/sreenitti/anaconda3/include -arch arm64 -DHAVE_PTHREAD=1 -I. -Igrpc_root -Igrpc_root/include -Ithird_party/protobuf/src -I/Users/sreenitti/anaconda3/include/python3.11 -c third_party/protobuf/src/google/protobuf/map.cc -o build/temp.macosx-11.1-arm64-cpython-311/third_party/protobuf/src/google/protobuf/map.o -std=c++14 -fno-wrapv -frtti\n",
      "  \u001b[31m   \u001b[0m clang -DNDEBUG -fwrapv -O2 -Wall -fPIC -O2 -isystem /Users/sreenitti/anaconda3/include -arch arm64 -fPIC -O2 -isystem /Users/sreenitti/anaconda3/include -arch arm64 -DHAVE_PTHREAD=1 -I. -Igrpc_root -Igrpc_root/include -Ithird_party/protobuf/src -I/Users/sreenitti/anaconda3/include/python3.11 -c third_party/protobuf/src/google/protobuf/struct.pb.cc -o build/temp.macosx-11.1-arm64-cpython-311/third_party/protobuf/src/google/protobuf/struct.pb.o -std=c++14 -fno-wrapv -frtti\n",
      "  \u001b[31m   \u001b[0m clang -DNDEBUG -fwrapv -O2 -Wall -fPIC -O2 -isystem /Users/sreenitti/anaconda3/include -arch arm64 -fPIC -O2 -isystem /Users/sreenitti/anaconda3/include -arch arm64 -DHAVE_PTHREAD=1 -I. -Igrpc_root -Igrpc_root/include -Ithird_party/protobuf/src -I/Users/sreenitti/anaconda3/include/python3.11 -c third_party/protobuf/src/google/protobuf/compiler/plugin.cc -o build/temp.macosx-11.1-arm64-cpython-311/third_party/protobuf/src/google/protobuf/compiler/plugin.o -std=c++14 -fno-wrapv -frtti\n",
      "  \u001b[31m   \u001b[0m clang -DNDEBUG -fwrapv -O2 -Wall -fPIC -O2 -isystem /Users/sreenitti/anaconda3/include -arch arm64 -fPIC -O2 -isystem /Users/sreenitti/anaconda3/include -arch arm64 -DHAVE_PTHREAD=1 -I. -Igrpc_root -Igrpc_root/include -Ithird_party/protobuf/src -I/Users/sreenitti/anaconda3/include/python3.11 -c third_party/protobuf/src/google/protobuf/implicit_weak_message.cc -o build/temp.macosx-11.1-arm64-cpython-311/third_party/protobuf/src/google/protobuf/implicit_weak_message.o -std=c++14 -fno-wrapv -frtti\n",
      "  \u001b[31m   \u001b[0m clang -DNDEBUG -fwrapv -O2 -Wall -fPIC -O2 -isystem /Users/sreenitti/anaconda3/include -arch arm64 -fPIC -O2 -isystem /Users/sreenitti/anaconda3/include -arch arm64 -DHAVE_PTHREAD=1 -I. -Igrpc_root -Igrpc_root/include -Ithird_party/protobuf/src -I/Users/sreenitti/anaconda3/include/python3.11 -c third_party/protobuf/src/google/protobuf/reflection_ops.cc -o build/temp.macosx-11.1-arm64-cpython-311/third_party/protobuf/src/google/protobuf/reflection_ops.o -std=c++14 -fno-wrapv -frtti\n",
      "  \u001b[31m   \u001b[0m clang -DNDEBUG -fwrapv -O2 -Wall -fPIC -O2 -isystem /Users/sreenitti/anaconda3/include -arch arm64 -fPIC -O2 -isystem /Users/sreenitti/anaconda3/include -arch arm64 -DHAVE_PTHREAD=1 -I. -Igrpc_root -Igrpc_root/include -Ithird_party/protobuf/src -I/Users/sreenitti/anaconda3/include/python3.11 -c third_party/protobuf/src/google/protobuf/map_field.cc -o build/temp.macosx-11.1-arm64-cpython-311/third_party/protobuf/src/google/protobuf/map_field.o -std=c++14 -fno-wrapv -frtti\n",
      "  \u001b[31m   \u001b[0m clang -DNDEBUG -fwrapv -O2 -Wall -fPIC -O2 -isystem /Users/sreenitti/anaconda3/include -arch arm64 -fPIC -O2 -isystem /Users/sreenitti/anaconda3/include -arch arm64 -DHAVE_PTHREAD=1 -I. -Igrpc_root -Igrpc_root/include -Ithird_party/protobuf/src -I/Users/sreenitti/anaconda3/include/python3.11 -c third_party/protobuf/src/google/protobuf/generated_message_table_driven.cc -o build/temp.macosx-11.1-arm64-cpython-311/third_party/protobuf/src/google/protobuf/generated_message_table_driven.o -std=c++14 -fno-wrapv -frtti\n",
      "  \u001b[31m   \u001b[0m clang -DNDEBUG -fwrapv -O2 -Wall -fPIC -O2 -isystem /Users/sreenitti/anaconda3/include -arch arm64 -fPIC -O2 -isystem /Users/sreenitti/anaconda3/include -arch arm64 -DHAVE_PTHREAD=1 -I. -Igrpc_root -Igrpc_root/include -Ithird_party/protobuf/src -I/Users/sreenitti/anaconda3/include/python3.11 -c third_party/protobuf/src/google/protobuf/empty.pb.cc -o build/temp.macosx-11.1-arm64-cpython-311/third_party/protobuf/src/google/protobuf/empty.pb.o -std=c++14 -fno-wrapv -frtti\n",
      "  \u001b[31m   \u001b[0m clang -DNDEBUG -fwrapv -O2 -Wall -fPIC -O2 -isystem /Users/sreenitti/anaconda3/include -arch arm64 -fPIC -O2 -isystem /Users/sreenitti/anaconda3/include -arch arm64 -DHAVE_PTHREAD=1 -I. -Igrpc_root -Igrpc_root/include -Ithird_party/protobuf/src -I/Users/sreenitti/anaconda3/include/python3.11 -c third_party/protobuf/src/google/protobuf/inlined_string_field.cc -o build/temp.macosx-11.1-arm64-cpython-311/third_party/protobuf/src/google/protobuf/inlined_string_field.o -std=c++14 -fno-wrapv -frtti\n",
      "  \u001b[31m   \u001b[0m clang -DNDEBUG -fwrapv -O2 -Wall -fPIC -O2 -isystem /Users/sreenitti/anaconda3/include -arch arm64 -fPIC -O2 -isystem /Users/sreenitti/anaconda3/include -arch arm64 -DHAVE_PTHREAD=1 -I. -Igrpc_root -Igrpc_root/include -Ithird_party/protobuf/src -I/Users/sreenitti/anaconda3/include/python3.11 -c third_party/protobuf/src/google/protobuf/compiler/plugin.pb.cc -o build/temp.macosx-11.1-arm64-cpython-311/third_party/protobuf/src/google/protobuf/compiler/plugin.pb.o -std=c++14 -fno-wrapv -frtti\n",
      "  \u001b[31m   \u001b[0m clang -DNDEBUG -fwrapv -O2 -Wall -fPIC -O2 -isystem /Users/sreenitti/anaconda3/include -arch arm64 -fPIC -O2 -isystem /Users/sreenitti/anaconda3/include -arch arm64 -DHAVE_PTHREAD=1 -I. -Igrpc_root -Igrpc_root/include -Ithird_party/protobuf/src -I/Users/sreenitti/anaconda3/include/python3.11 -c third_party/protobuf/src/google/protobuf/io/coded_stream.cc -o build/temp.macosx-11.1-arm64-cpython-311/third_party/protobuf/src/google/protobuf/io/coded_stream.o -std=c++14 -fno-wrapv -frtti\n",
      "  \u001b[31m   \u001b[0m clang -DNDEBUG -fwrapv -O2 -Wall -fPIC -O2 -isystem /Users/sreenitti/anaconda3/include -arch arm64 -fPIC -O2 -isystem /Users/sreenitti/anaconda3/include -arch arm64 -DHAVE_PTHREAD=1 -I. -Igrpc_root -Igrpc_root/include -Ithird_party/protobuf/src -I/Users/sreenitti/anaconda3/include/python3.11 -c third_party/protobuf/src/google/protobuf/extension_set.cc -o build/temp.macosx-11.1-arm64-cpython-311/third_party/protobuf/src/google/protobuf/extension_set.o -std=c++14 -fno-wrapv -frtti\n",
      "  \u001b[31m   \u001b[0m clang -DNDEBUG -fwrapv -O2 -Wall -fPIC -O2 -isystem /Users/sreenitti/anaconda3/include -arch arm64 -fPIC -O2 -isystem /Users/sreenitti/anaconda3/include -arch arm64 -DHAVE_PTHREAD=1 -I. -Igrpc_root -Igrpc_root/include -Ithird_party/protobuf/src -I/Users/sreenitti/anaconda3/include/python3.11 -c third_party/protobuf/src/google/protobuf/stubs/bytestream.cc -o build/temp.macosx-11.1-arm64-cpython-311/third_party/protobuf/src/google/protobuf/stubs/bytestream.o -std=c++14 -fno-wrapv -frtti\n",
      "  \u001b[31m   \u001b[0m clang -DNDEBUG -fwrapv -O2 -Wall -fPIC -O2 -isystem /Users/sreenitti/anaconda3/include -arch arm64 -fPIC -O2 -isystem /Users/sreenitti/anaconda3/include -arch arm64 -DHAVE_PTHREAD=1 -I. -Igrpc_root -Igrpc_root/include -Ithird_party/protobuf/src -I/Users/sreenitti/anaconda3/include/python3.11 -c third_party/protobuf/src/google/protobuf/repeated_field.cc -o build/temp.macosx-11.1-arm64-cpython-311/third_party/protobuf/src/google/protobuf/repeated_field.o -std=c++14 -fno-wrapv -frtti\n",
      "  \u001b[31m   \u001b[0m clang -DNDEBUG -fwrapv -O2 -Wall -fPIC -O2 -isystem /Users/sreenitti/anaconda3/include -arch arm64 -fPIC -O2 -isystem /Users/sreenitti/anaconda3/include -arch arm64 -DHAVE_PTHREAD=1 -I. -Igrpc_root -Igrpc_root/include -Ithird_party/protobuf/src -I/Users/sreenitti/anaconda3/include/python3.11 -c third_party/protobuf/src/google/protobuf/message.cc -o build/temp.macosx-11.1-arm64-cpython-311/third_party/protobuf/src/google/protobuf/message.o -std=c++14 -fno-wrapv -frtti\n",
      "  \u001b[31m   \u001b[0m clang -DNDEBUG -fwrapv -O2 -Wall -fPIC -O2 -isystem /Users/sreenitti/anaconda3/include -arch arm64 -fPIC -O2 -isystem /Users/sreenitti/anaconda3/include -arch arm64 -DHAVE_PTHREAD=1 -I. -Igrpc_root -Igrpc_root/include -Ithird_party/protobuf/src -I/Users/sreenitti/anaconda3/include/python3.11 -c third_party/protobuf/src/google/protobuf/stubs/common.cc -o build/temp.macosx-11.1-arm64-cpython-311/third_party/protobuf/src/google/protobuf/stubs/common.o -std=c++14 -fno-wrapv -frtti\n",
      "  \u001b[31m   \u001b[0m clang -DNDEBUG -fwrapv -O2 -Wall -fPIC -O2 -isystem /Users/sreenitti/anaconda3/include -arch arm64 -fPIC -O2 -isystem /Users/sreenitti/anaconda3/include -arch arm64 -DHAVE_PTHREAD=1 -I. -Igrpc_root -Igrpc_root/include -Ithird_party/protobuf/src -I/Users/sreenitti/anaconda3/include/python3.11 -c third_party/protobuf/src/google/protobuf/stubs/stringpiece.cc -o build/temp.macosx-11.1-arm64-cpython-311/third_party/protobuf/src/google/protobuf/stubs/stringpiece.o -std=c++14 -fno-wrapv -frtti\n",
      "  \u001b[31m   \u001b[0m clang -DNDEBUG -fwrapv -O2 -Wall -fPIC -O2 -isystem /Users/sreenitti/anaconda3/include -arch arm64 -fPIC -O2 -isystem /Users/sreenitti/anaconda3/include -arch arm64 -DHAVE_PTHREAD=1 -I. -Igrpc_root -Igrpc_root/include -Ithird_party/protobuf/src -I/Users/sreenitti/anaconda3/include/python3.11 -c third_party/protobuf/src/google/protobuf/text_format.cc -o build/temp.macosx-11.1-arm64-cpython-311/third_party/protobuf/src/google/protobuf/text_format.o -std=c++14 -fno-wrapv -frtti\n",
      "  \u001b[31m   \u001b[0m clang -DNDEBUG -fwrapv -O2 -Wall -fPIC -O2 -isystem /Users/sreenitti/anaconda3/include -arch arm64 -fPIC -O2 -isystem /Users/sreenitti/anaconda3/include -arch arm64 -DHAVE_PTHREAD=1 -I. -Igrpc_root -Igrpc_root/include -Ithird_party/protobuf/src -I/Users/sreenitti/anaconda3/include/python3.11 -c third_party/protobuf/src/google/protobuf/generated_message_table_driven_lite.cc -o build/temp.macosx-11.1-arm64-cpython-311/third_party/protobuf/src/google/protobuf/generated_message_table_driven_lite.o -std=c++14 -fno-wrapv -frtti\n",
      "  \u001b[31m   \u001b[0m clang -DNDEBUG -fwrapv -O2 -Wall -fPIC -O2 -isystem /Users/sreenitti/anaconda3/include -arch arm64 -fPIC -O2 -isystem /Users/sreenitti/anaconda3/include -arch arm64 -DHAVE_PTHREAD=1 -I. -Igrpc_root -Igrpc_root/include -Ithird_party/protobuf/src -I/Users/sreenitti/anaconda3/include/python3.11 -c third_party/protobuf/src/google/protobuf/stubs/int128.cc -o build/temp.macosx-11.1-arm64-cpython-311/third_party/protobuf/src/google/protobuf/stubs/int128.o -std=c++14 -fno-wrapv -frtti\n",
      "  \u001b[31m   \u001b[0m clang -DNDEBUG -fwrapv -O2 -Wall -fPIC -O2 -isystem /Users/sreenitti/anaconda3/include -arch arm64 -fPIC -O2 -isystem /Users/sreenitti/anaconda3/include -arch arm64 -DHAVE_PTHREAD=1 -I. -Igrpc_root -Igrpc_root/include -Ithird_party/protobuf/src -I/Users/sreenitti/anaconda3/include/python3.11 -c third_party/protobuf/src/google/protobuf/stubs/stringprintf.cc -o build/temp.macosx-11.1-arm64-cpython-311/third_party/protobuf/src/google/protobuf/stubs/stringprintf.o -std=c++14 -fno-wrapv -frtti\n",
      "  \u001b[31m   \u001b[0m clang -DNDEBUG -fwrapv -O2 -Wall -fPIC -O2 -isystem /Users/sreenitti/anaconda3/include -arch arm64 -fPIC -O2 -isystem /Users/sreenitti/anaconda3/include -arch arm64 -DHAVE_PTHREAD=1 -I. -Igrpc_root -Igrpc_root/include -Ithird_party/protobuf/src -I/Users/sreenitti/anaconda3/include/python3.11 -c third_party/protobuf/src/google/protobuf/repeated_ptr_field.cc -o build/temp.macosx-11.1-arm64-cpython-311/third_party/protobuf/src/google/protobuf/repeated_ptr_field.o -std=c++14 -fno-wrapv -frtti\n",
      "  \u001b[31m   \u001b[0m clang -DNDEBUG -fwrapv -O2 -Wall -fPIC -O2 -isystem /Users/sreenitti/anaconda3/include -arch arm64 -fPIC -O2 -isystem /Users/sreenitti/anaconda3/include -arch arm64 -DHAVE_PTHREAD=1 -I. -Igrpc_root -Igrpc_root/include -Ithird_party/protobuf/src -I/Users/sreenitti/anaconda3/include/python3.11 -c third_party/protobuf/src/google/protobuf/message_lite.cc -o build/temp.macosx-11.1-arm64-cpython-311/third_party/protobuf/src/google/protobuf/message_lite.o -std=c++14 -fno-wrapv -frtti\n",
      "  \u001b[31m   \u001b[0m clang -DNDEBUG -fwrapv -O2 -Wall -fPIC -O2 -isystem /Users/sreenitti/anaconda3/include -arch arm64 -fPIC -O2 -isystem /Users/sreenitti/anaconda3/include -arch arm64 -DHAVE_PTHREAD=1 -I. -Igrpc_root -Igrpc_root/include -Ithird_party/protobuf/src -I/Users/sreenitti/anaconda3/include/python3.11 -c third_party/protobuf/src/google/protobuf/stubs/structurally_valid.cc -o build/temp.macosx-11.1-arm64-cpython-311/third_party/protobuf/src/google/protobuf/stubs/structurally_valid.o -std=c++14 -fno-wrapv -frtti\n",
      "  \u001b[31m   \u001b[0m clang -DNDEBUG -fwrapv -O2 -Wall -fPIC -O2 -isystem /Users/sreenitti/anaconda3/include -arch arm64 -fPIC -O2 -isystem /Users/sreenitti/anaconda3/include -arch arm64 -DHAVE_PTHREAD=1 -I. -Igrpc_root -Igrpc_root/include -Ithird_party/protobuf/src -I/Users/sreenitti/anaconda3/include/python3.11 -c third_party/protobuf/src/google/protobuf/stubs/status.cc -o build/temp.macosx-11.1-arm64-cpython-311/third_party/protobuf/src/google/protobuf/stubs/status.o -std=c++14 -fno-wrapv -frtti\n",
      "  \u001b[31m   \u001b[0m clang -DNDEBUG -fwrapv -O2 -Wall -fPIC -O2 -isystem /Users/sreenitti/anaconda3/include -arch arm64 -fPIC -O2 -isystem /Users/sreenitti/anaconda3/include -arch arm64 -DHAVE_PTHREAD=1 -I. -Igrpc_root -Igrpc_root/include -Ithird_party/protobuf/src -I/Users/sreenitti/anaconda3/include/python3.11 -c third_party/protobuf/src/google/protobuf/extension_set_heavy.cc -o build/temp.macosx-11.1-arm64-cpython-311/third_party/protobuf/src/google/protobuf/extension_set_heavy.o -std=c++14 -fno-wrapv -frtti\n",
      "  \u001b[31m   \u001b[0m clang -DNDEBUG -fwrapv -O2 -Wall -fPIC -O2 -isystem /Users/sreenitti/anaconda3/include -arch arm64 -fPIC -O2 -isystem /Users/sreenitti/anaconda3/include -arch arm64 -DHAVE_PTHREAD=1 -I. -Igrpc_root -Igrpc_root/include -Ithird_party/protobuf/src -I/Users/sreenitti/anaconda3/include/python3.11 -c third_party/protobuf/src/google/protobuf/service.cc -o build/temp.macosx-11.1-arm64-cpython-311/third_party/protobuf/src/google/protobuf/service.o -std=c++14 -fno-wrapv -frtti\n",
      "  \u001b[31m   \u001b[0m clang -DNDEBUG -fwrapv -O2 -Wall -fPIC -O2 -isystem /Users/sreenitti/anaconda3/include -arch arm64 -fPIC -O2 -isystem /Users/sreenitti/anaconda3/include -arch arm64 -DHAVE_PTHREAD=1 -I. -Igrpc_root -Igrpc_root/include -Ithird_party/protobuf/src -I/Users/sreenitti/anaconda3/include/python3.11 -c third_party/protobuf/src/google/protobuf/stubs/strutil.cc -o build/temp.macosx-11.1-arm64-cpython-311/third_party/protobuf/src/google/protobuf/stubs/strutil.o -std=c++14 -fno-wrapv -frtti\n",
      "  \u001b[31m   \u001b[0m clang -DNDEBUG -fwrapv -O2 -Wall -fPIC -O2 -isystem /Users/sreenitti/anaconda3/include -arch arm64 -fPIC -O2 -isystem /Users/sreenitti/anaconda3/include -arch arm64 -DHAVE_PTHREAD=1 -I. -Igrpc_root -Igrpc_root/include -Ithird_party/protobuf/src -I/Users/sreenitti/anaconda3/include/python3.11 -c third_party/protobuf/src/google/protobuf/stubs/statusor.cc -o build/temp.macosx-11.1-arm64-cpython-311/third_party/protobuf/src/google/protobuf/stubs/statusor.o -std=c++14 -fno-wrapv -frtti\n",
      "  \u001b[31m   \u001b[0m clang -DNDEBUG -fwrapv -O2 -Wall -fPIC -O2 -isystem /Users/sreenitti/anaconda3/include -arch arm64 -fPIC -O2 -isystem /Users/sreenitti/anaconda3/include -arch arm64 -DHAVE_PTHREAD=1 -I. -Igrpc_root -Igrpc_root/include -Ithird_party/protobuf/src -I/Users/sreenitti/anaconda3/include/python3.11 -c third_party/protobuf/src/google/protobuf/util/field_mask_util.cc -o build/temp.macosx-11.1-arm64-cpython-311/third_party/protobuf/src/google/protobuf/util/field_mask_util.o -std=c++14 -fno-wrapv -frtti\n",
      "  \u001b[31m   \u001b[0m clang -DNDEBUG -fwrapv -O2 -Wall -fPIC -O2 -isystem /Users/sreenitti/anaconda3/include -arch arm64 -fPIC -O2 -isystem /Users/sreenitti/anaconda3/include -arch arm64 -DHAVE_PTHREAD=1 -I. -Igrpc_root -Igrpc_root/include -Ithird_party/protobuf/src -I/Users/sreenitti/anaconda3/include/python3.11 -c third_party/protobuf/src/google/protobuf/source_context.pb.cc -o build/temp.macosx-11.1-arm64-cpython-311/third_party/protobuf/src/google/protobuf/source_context.pb.o -std=c++14 -fno-wrapv -frtti\n",
      "  \u001b[31m   \u001b[0m clang -DNDEBUG -fwrapv -O2 -Wall -fPIC -O2 -isystem /Users/sreenitti/anaconda3/include -arch arm64 -fPIC -O2 -isystem /Users/sreenitti/anaconda3/include -arch arm64 -DHAVE_PTHREAD=1 -I. -Igrpc_root -Igrpc_root/include -Ithird_party/protobuf/src -I/Users/sreenitti/anaconda3/include/python3.11 -c third_party/protobuf/src/google/protobuf/util/internal/json_objectwriter.cc -o build/temp.macosx-11.1-arm64-cpython-311/third_party/protobuf/src/google/protobuf/util/internal/json_objectwriter.o -std=c++14 -fno-wrapv -frtti\n",
      "  \u001b[31m   \u001b[0m clang -DNDEBUG -fwrapv -O2 -Wall -fPIC -O2 -isystem /Users/sreenitti/anaconda3/include -arch arm64 -fPIC -O2 -isystem /Users/sreenitti/anaconda3/include -arch arm64 -DHAVE_PTHREAD=1 -I. -Igrpc_root -Igrpc_root/include -Ithird_party/protobuf/src -I/Users/sreenitti/anaconda3/include/python3.11 -c third_party/protobuf/src/google/protobuf/util/internal/type_info.cc -o build/temp.macosx-11.1-arm64-cpython-311/third_party/protobuf/src/google/protobuf/util/internal/type_info.o -std=c++14 -fno-wrapv -frtti\n",
      "  \u001b[31m   \u001b[0m third_party/protobuf/src/google/protobuf/stubs/strutil.cc:506:11: warning: 'sprintf' is deprecated: This function is provided for compatibility reasons only.  Due to security concerns inherent in the design of sprintf(3), it is highly recommended that you use snprintf(3) instead. [-Wdeprecated-declarations]\n",
      "  \u001b[31m   \u001b[0m           sprintf(dest + used, (use_hex ? \"\\\\x%02x\" : \"\\\\%03o\"),\n",
      "  \u001b[31m   \u001b[0m           ^\n",
      "  \u001b[31m   \u001b[0m /Library/Developer/CommandLineTools/SDKs/MacOSX.sdk/usr/include/stdio.h:180:1: note: 'sprintf' has been explicitly marked deprecated here\n",
      "  \u001b[31m   \u001b[0m __deprecated_msg(\"This function is provided for compatibility reasons only.  Due to security concerns inherent in the design of sprintf(3), it is highly recommended that you use snprintf(3) instead.\")\n",
      "  \u001b[31m   \u001b[0m ^\n",
      "  \u001b[31m   \u001b[0m /Library/Developer/CommandLineTools/SDKs/MacOSX.sdk/usr/include/sys/cdefs.h:215:48: note: expanded from macro '__deprecated_msg'\n",
      "  \u001b[31m   \u001b[0m         #define __deprecated_msg(_msg) __attribute__((__deprecated__(_msg)))\n",
      "  \u001b[31m   \u001b[0m                                                       ^\n",
      "  \u001b[31m   \u001b[0m clang -DNDEBUG -fwrapv -O2 -Wall -fPIC -O2 -isystem /Users/sreenitti/anaconda3/include -arch arm64 -fPIC -O2 -isystem /Users/sreenitti/anaconda3/include -arch arm64 -DHAVE_PTHREAD=1 -I. -Igrpc_root -Igrpc_root/include -Ithird_party/protobuf/src -I/Users/sreenitti/anaconda3/include/python3.11 -c third_party/protobuf/src/google/protobuf/timestamp.pb.cc -o build/temp.macosx-11.1-arm64-cpython-311/third_party/protobuf/src/google/protobuf/timestamp.pb.o -std=c++14 -fno-wrapv -frtti\n",
      "  \u001b[31m   \u001b[0m clang -DNDEBUG -fwrapv -O2 -Wall -fPIC -O2 -isystem /Users/sreenitti/anaconda3/include -arch arm64 -fPIC -O2 -isystem /Users/sreenitti/anaconda3/include -arch arm64 -DHAVE_PTHREAD=1 -I. -Igrpc_root -Igrpc_root/include -Ithird_party/protobuf/src -I/Users/sreenitti/anaconda3/include/python3.11 -c third_party/protobuf/src/google/protobuf/wire_format.cc -o build/temp.macosx-11.1-arm64-cpython-311/third_party/protobuf/src/google/protobuf/wire_format.o -std=c++14 -fno-wrapv -frtti\n",
      "  \u001b[31m   \u001b[0m 1 warning generated.\n",
      "  \u001b[31m   \u001b[0m clang -DNDEBUG -fwrapv -O2 -Wall -fPIC -O2 -isystem /Users/sreenitti/anaconda3/include -arch arm64 -fPIC -O2 -isystem /Users/sreenitti/anaconda3/include -arch arm64 -DHAVE_PTHREAD=1 -I. -Igrpc_root -Igrpc_root/include -Ithird_party/protobuf/src -I/Users/sreenitti/anaconda3/include/python3.11 -c third_party/protobuf/src/google/protobuf/stubs/substitute.cc -o build/temp.macosx-11.1-arm64-cpython-311/third_party/protobuf/src/google/protobuf/stubs/substitute.o -std=c++14 -fno-wrapv -frtti\n",
      "  \u001b[31m   \u001b[0m clang -DNDEBUG -fwrapv -O2 -Wall -fPIC -O2 -isystem /Users/sreenitti/anaconda3/include -arch arm64 -fPIC -O2 -isystem /Users/sreenitti/anaconda3/include -arch arm64 -DHAVE_PTHREAD=1 -I. -Igrpc_root -Igrpc_root/include -Ithird_party/protobuf/src -I/Users/sreenitti/anaconda3/include/python3.11 -c third_party/protobuf/src/google/protobuf/descriptor.pb.cc -o build/temp.macosx-11.1-arm64-cpython-311/third_party/protobuf/src/google/protobuf/descriptor.pb.o -std=c++14 -fno-wrapv -frtti\n",
      "  \u001b[31m   \u001b[0m clang -DNDEBUG -fwrapv -O2 -Wall -fPIC -O2 -isystem /Users/sreenitti/anaconda3/include -arch arm64 -fPIC -O2 -isystem /Users/sreenitti/anaconda3/include -arch arm64 -DHAVE_PTHREAD=1 -I. -Igrpc_root -Igrpc_root/include -Ithird_party/protobuf/src -I/Users/sreenitti/anaconda3/include/python3.11 -c third_party/protobuf/src/google/protobuf/util/internal/json_stream_parser.cc -o build/temp.macosx-11.1-arm64-cpython-311/third_party/protobuf/src/google/protobuf/util/internal/json_stream_parser.o -std=c++14 -fno-wrapv -frtti\n",
      "  \u001b[31m   \u001b[0m clang -DNDEBUG -fwrapv -O2 -Wall -fPIC -O2 -isystem /Users/sreenitti/anaconda3/include -arch arm64 -fPIC -O2 -isystem /Users/sreenitti/anaconda3/include -arch arm64 -DHAVE_PTHREAD=1 -I. -Igrpc_root -Igrpc_root/include -Ithird_party/protobuf/src -I/Users/sreenitti/anaconda3/include/python3.11 -c third_party/protobuf/src/google/protobuf/util/internal/datapiece.cc -o build/temp.macosx-11.1-arm64-cpython-311/third_party/protobuf/src/google/protobuf/util/internal/datapiece.o -std=c++14 -fno-wrapv -frtti\n",
      "  \u001b[31m   \u001b[0m clang -DNDEBUG -fwrapv -O2 -Wall -fPIC -O2 -isystem /Users/sreenitti/anaconda3/include -arch arm64 -fPIC -O2 -isystem /Users/sreenitti/anaconda3/include -arch arm64 -DHAVE_PTHREAD=1 -I. -Igrpc_root -Igrpc_root/include -Ithird_party/protobuf/src -I/Users/sreenitti/anaconda3/include/python3.11 -c third_party/protobuf/src/google/protobuf/type.pb.cc -o build/temp.macosx-11.1-arm64-cpython-311/third_party/protobuf/src/google/protobuf/type.pb.o -std=c++14 -fno-wrapv -frtti\n",
      "  \u001b[31m   \u001b[0m clang -DNDEBUG -fwrapv -O2 -Wall -fPIC -O2 -isystem /Users/sreenitti/anaconda3/include -arch arm64 -fPIC -O2 -isystem /Users/sreenitti/anaconda3/include -arch arm64 -DHAVE_PTHREAD=1 -I. -Igrpc_root -Igrpc_root/include -Ithird_party/protobuf/src -I/Users/sreenitti/anaconda3/include/python3.11 -c third_party/protobuf/src/google/protobuf/stubs/time.cc -o build/temp.macosx-11.1-arm64-cpython-311/third_party/protobuf/src/google/protobuf/stubs/time.o -std=c++14 -fno-wrapv -frtti\n",
      "  \u001b[31m   \u001b[0m clang -DNDEBUG -fwrapv -O2 -Wall -fPIC -O2 -isystem /Users/sreenitti/anaconda3/include -arch arm64 -fPIC -O2 -isystem /Users/sreenitti/anaconda3/include -arch arm64 -DHAVE_PTHREAD=1 -I. -Igrpc_root -Igrpc_root/include -Ithird_party/protobuf/src -I/Users/sreenitti/anaconda3/include/python3.11 -c third_party/protobuf/src/google/protobuf/util/internal/utility.cc -o build/temp.macosx-11.1-arm64-cpython-311/third_party/protobuf/src/google/protobuf/util/internal/utility.o -std=c++14 -fno-wrapv -frtti\n",
      "  \u001b[31m   \u001b[0m clang -DNDEBUG -fwrapv -O2 -Wall -fPIC -O2 -isystem /Users/sreenitti/anaconda3/include -arch arm64 -fPIC -O2 -isystem /Users/sreenitti/anaconda3/include -arch arm64 -DHAVE_PTHREAD=1 -I. -Igrpc_root -Igrpc_root/include -Ithird_party/protobuf/src -I/Users/sreenitti/anaconda3/include/python3.11 -c third_party/protobuf/src/google/protobuf/util/internal/object_writer.cc -o build/temp.macosx-11.1-arm64-cpython-311/third_party/protobuf/src/google/protobuf/util/internal/object_writer.o -std=c++14 -fno-wrapv -frtti\n",
      "  \u001b[31m   \u001b[0m clang -DNDEBUG -fwrapv -O2 -Wall -fPIC -O2 -isystem /Users/sreenitti/anaconda3/include -arch arm64 -fPIC -O2 -isystem /Users/sreenitti/anaconda3/include -arch arm64 -DHAVE_PTHREAD=1 -I. -Igrpc_root -Igrpc_root/include -Ithird_party/protobuf/src -I/Users/sreenitti/anaconda3/include/python3.11 -c third_party/protobuf/src/google/protobuf/unknown_field_set.cc -o build/temp.macosx-11.1-arm64-cpython-311/third_party/protobuf/src/google/protobuf/unknown_field_set.o -std=c++14 -fno-wrapv -frtti\n",
      "  \u001b[31m   \u001b[0m clang -DNDEBUG -fwrapv -O2 -Wall -fPIC -O2 -isystem /Users/sreenitti/anaconda3/include -arch arm64 -fPIC -O2 -isystem /Users/sreenitti/anaconda3/include -arch arm64 -DHAVE_PTHREAD=1 -I. -Igrpc_root -Igrpc_root/include -Ithird_party/protobuf/src -I/Users/sreenitti/anaconda3/include/python3.11 -c third_party/protobuf/src/google/protobuf/util/json_util.cc -o build/temp.macosx-11.1-arm64-cpython-311/third_party/protobuf/src/google/protobuf/util/json_util.o -std=c++14 -fno-wrapv -frtti\n",
      "  \u001b[31m   \u001b[0m clang -DNDEBUG -fwrapv -O2 -Wall -fPIC -O2 -isystem /Users/sreenitti/anaconda3/include -arch arm64 -fPIC -O2 -isystem /Users/sreenitti/anaconda3/include -arch arm64 -DHAVE_PTHREAD=1 -I. -Igrpc_root -Igrpc_root/include -Ithird_party/protobuf/src -I/Users/sreenitti/anaconda3/include/python3.11 -c third_party/protobuf/src/google/protobuf/util/internal/default_value_objectwriter.cc -o build/temp.macosx-11.1-arm64-cpython-311/third_party/protobuf/src/google/protobuf/util/internal/default_value_objectwriter.o -std=c++14 -fno-wrapv -frtti\n",
      "  \u001b[31m   \u001b[0m clang -DNDEBUG -fwrapv -O2 -Wall -fPIC -O2 -isystem /Users/sreenitti/anaconda3/include -arch arm64 -fPIC -O2 -isystem /Users/sreenitti/anaconda3/include -arch arm64 -DHAVE_PTHREAD=1 -I. -Igrpc_root -Igrpc_root/include -Ithird_party/protobuf/src -I/Users/sreenitti/anaconda3/include/python3.11 -c third_party/protobuf/src/google/protobuf/wire_format_lite.cc -o build/temp.macosx-11.1-arm64-cpython-311/third_party/protobuf/src/google/protobuf/wire_format_lite.o -std=c++14 -fno-wrapv -frtti\n",
      "  \u001b[31m   \u001b[0m clang -DNDEBUG -fwrapv -O2 -Wall -fPIC -O2 -isystem /Users/sreenitti/anaconda3/include -arch arm64 -fPIC -O2 -isystem /Users/sreenitti/anaconda3/include -arch arm64 -DHAVE_PTHREAD=1 -I. -Igrpc_root -Igrpc_root/include -Ithird_party/protobuf/src -I/Users/sreenitti/anaconda3/include/python3.11 -c third_party/protobuf/src/google/protobuf/util/internal/proto_writer.cc -o build/temp.macosx-11.1-arm64-cpython-311/third_party/protobuf/src/google/protobuf/util/internal/proto_writer.o -std=c++14 -fno-wrapv -frtti\n",
      "  \u001b[31m   \u001b[0m clang -DNDEBUG -fwrapv -O2 -Wall -fPIC -O2 -isystem /Users/sreenitti/anaconda3/include -arch arm64 -fPIC -O2 -isystem /Users/sreenitti/anaconda3/include -arch arm64 -DHAVE_PTHREAD=1 -I. -Igrpc_root -Igrpc_root/include -Ithird_party/protobuf/src -I/Users/sreenitti/anaconda3/include/python3.11 -c third_party/protobuf/src/google/protobuf/wrappers.pb.cc -o build/temp.macosx-11.1-arm64-cpython-311/third_party/protobuf/src/google/protobuf/wrappers.pb.o -std=c++14 -fno-wrapv -frtti\n",
      "  \u001b[31m   \u001b[0m clang -DNDEBUG -fwrapv -O2 -Wall -fPIC -O2 -isystem /Users/sreenitti/anaconda3/include -arch arm64 -fPIC -O2 -isystem /Users/sreenitti/anaconda3/include -arch arm64 -DHAVE_PTHREAD=1 -I. -Igrpc_root -Igrpc_root/include -Ithird_party/protobuf/src -I/Users/sreenitti/anaconda3/include/python3.11 -c third_party/protobuf/src/google/protobuf/util/delimited_message_util.cc -o build/temp.macosx-11.1-arm64-cpython-311/third_party/protobuf/src/google/protobuf/util/delimited_message_util.o -std=c++14 -fno-wrapv -frtti\n",
      "  \u001b[31m   \u001b[0m clang -DNDEBUG -fwrapv -O2 -Wall -fPIC -O2 -isystem /Users/sreenitti/anaconda3/include -arch arm64 -fPIC -O2 -isystem /Users/sreenitti/anaconda3/include -arch arm64 -DHAVE_PTHREAD=1 -I. -Igrpc_root -Igrpc_root/include -Ithird_party/protobuf/src -I/Users/sreenitti/anaconda3/include/python3.11 -c third_party/protobuf/src/google/protobuf/util/message_differencer.cc -o build/temp.macosx-11.1-arm64-cpython-311/third_party/protobuf/src/google/protobuf/util/message_differencer.o -std=c++14 -fno-wrapv -frtti\n",
      "  \u001b[31m   \u001b[0m clang -DNDEBUG -fwrapv -O2 -Wall -fPIC -O2 -isystem /Users/sreenitti/anaconda3/include -arch arm64 -fPIC -O2 -isystem /Users/sreenitti/anaconda3/include -arch arm64 -DHAVE_PTHREAD=1 -I. -Igrpc_root -Igrpc_root/include -Ithird_party/protobuf/src -I/Users/sreenitti/anaconda3/include/python3.11 -c third_party/protobuf/src/google/protobuf/util/field_comparator.cc -o build/temp.macosx-11.1-arm64-cpython-311/third_party/protobuf/src/google/protobuf/util/field_comparator.o -std=c++14 -fno-wrapv -frtti\n",
      "  \u001b[31m   \u001b[0m clang -DNDEBUG -fwrapv -O2 -Wall -fPIC -O2 -isystem /Users/sreenitti/anaconda3/include -arch arm64 -fPIC -O2 -isystem /Users/sreenitti/anaconda3/include -arch arm64 -DHAVE_PTHREAD=1 -I. -Igrpc_root -Igrpc_root/include -Ithird_party/protobuf/src -I/Users/sreenitti/anaconda3/include/python3.11 -c third_party/protobuf/src/google/protobuf/util/internal/error_listener.cc -o build/temp.macosx-11.1-arm64-cpython-311/third_party/protobuf/src/google/protobuf/util/internal/error_listener.o -std=c++14 -fno-wrapv -frtti\n",
      "  \u001b[31m   \u001b[0m clang -DNDEBUG -fwrapv -O2 -Wall -fPIC -O2 -isystem /Users/sreenitti/anaconda3/include -arch arm64 -fPIC -O2 -isystem /Users/sreenitti/anaconda3/include -arch arm64 -DHAVE_PTHREAD=1 -I. -Igrpc_root -Igrpc_root/include -Ithird_party/protobuf/src -I/Users/sreenitti/anaconda3/include/python3.11 -c third_party/protobuf/src/google/protobuf/util/internal/protostream_objectsource.cc -o build/temp.macosx-11.1-arm64-cpython-311/third_party/protobuf/src/google/protobuf/util/internal/protostream_objectsource.o -std=c++14 -fno-wrapv -frtti\n",
      "  \u001b[31m   \u001b[0m clang -DNDEBUG -fwrapv -O2 -Wall -fPIC -O2 -isystem /Users/sreenitti/anaconda3/include -arch arm64 -fPIC -O2 -isystem /Users/sreenitti/anaconda3/include -arch arm64 -DHAVE_PTHREAD=1 -I. -Igrpc_root -Igrpc_root/include -Ithird_party/protobuf/src -I/Users/sreenitti/anaconda3/include/python3.11 -c third_party/protobuf/src/google/protobuf/util/internal/field_mask_utility.cc -o build/temp.macosx-11.1-arm64-cpython-311/third_party/protobuf/src/google/protobuf/util/internal/field_mask_utility.o -std=c++14 -fno-wrapv -frtti\n",
      "  \u001b[31m   \u001b[0m clang -DNDEBUG -fwrapv -O2 -Wall -fPIC -O2 -isystem /Users/sreenitti/anaconda3/include -arch arm64 -fPIC -O2 -isystem /Users/sreenitti/anaconda3/include -arch arm64 -DHAVE_PTHREAD=1 -I. -Igrpc_root -Igrpc_root/include -Ithird_party/protobuf/src -I/Users/sreenitti/anaconda3/include/python3.11 -c third_party/protobuf/src/google/protobuf/util/internal/protostream_objectwriter.cc -o build/temp.macosx-11.1-arm64-cpython-311/third_party/protobuf/src/google/protobuf/util/internal/protostream_objectwriter.o -std=c++14 -fno-wrapv -frtti\n",
      "  \u001b[31m   \u001b[0m clang -DNDEBUG -fwrapv -O2 -Wall -fPIC -O2 -isystem /Users/sreenitti/anaconda3/include -arch arm64 -fPIC -O2 -isystem /Users/sreenitti/anaconda3/include -arch arm64 -DHAVE_PTHREAD=1 -I. -Igrpc_root -Igrpc_root/include -Ithird_party/protobuf/src -I/Users/sreenitti/anaconda3/include/python3.11 -c third_party/protobuf/src/google/protobuf/util/internal/json_escaping.cc -o build/temp.macosx-11.1-arm64-cpython-311/third_party/protobuf/src/google/protobuf/util/internal/json_escaping.o -std=c++14 -fno-wrapv -frtti\n",
      "  \u001b[31m   \u001b[0m clang -DNDEBUG -fwrapv -O2 -Wall -fPIC -O2 -isystem /Users/sreenitti/anaconda3/include -arch arm64 -fPIC -O2 -isystem /Users/sreenitti/anaconda3/include -arch arm64 -DHAVE_PTHREAD=1 -I. -Igrpc_root -Igrpc_root/include -Ithird_party/protobuf/src -I/Users/sreenitti/anaconda3/include/python3.11 -c third_party/protobuf/src/google/protobuf/util/time_util.cc -o build/temp.macosx-11.1-arm64-cpython-311/third_party/protobuf/src/google/protobuf/util/time_util.o -std=c++14 -fno-wrapv -frtti\n",
      "  \u001b[31m   \u001b[0m clang -DNDEBUG -fwrapv -O2 -Wall -fPIC -O2 -isystem /Users/sreenitti/anaconda3/include -arch arm64 -fPIC -O2 -isystem /Users/sreenitti/anaconda3/include -arch arm64 -DHAVE_PTHREAD=1 -I. -Igrpc_root -Igrpc_root/include -Ithird_party/protobuf/src -I/Users/sreenitti/anaconda3/include/python3.11 -c third_party/protobuf/src/google/protobuf/util/type_resolver_util.cc -o build/temp.macosx-11.1-arm64-cpython-311/third_party/protobuf/src/google/protobuf/util/type_resolver_util.o -std=c++14 -fno-wrapv -frtti\n",
      "  \u001b[31m   \u001b[0m error: command '/usr/bin/clang' failed with exit code 1\n",
      "  \u001b[31m   \u001b[0m \u001b[31m[end of output]\u001b[0m\n",
      "  \n",
      "  \u001b[1;35mnote\u001b[0m: This error originates from a subprocess, and is likely not a problem with pip.\n",
      "\u001b[31m  ERROR: Failed building wheel for grpcio-tools\u001b[0m\u001b[31m\n",
      "\u001b[0m\u001b[?25h  Running setup.py clean for grpcio-tools\n"
     ]
    },
    {
     "name": "stdout",
     "output_type": "stream",
     "text": [
      "Failed to build sentencepiece grpcio-tools\n",
      "\u001b[31mERROR: Could not build wheels for sentencepiece, grpcio-tools, which is required to install pyproject.toml-based projects\u001b[0m\u001b[31m\n",
      "\u001b[0m\n",
      "\u001b[1m[\u001b[0m\u001b[34;49mnotice\u001b[0m\u001b[1;39;49m]\u001b[0m\u001b[39;49m A new release of pip is available: \u001b[0m\u001b[31;49m23.3\u001b[0m\u001b[39;49m -> \u001b[0m\u001b[32;49m24.0\u001b[0m\n",
      "\u001b[1m[\u001b[0m\u001b[34;49mnotice\u001b[0m\u001b[1;39;49m]\u001b[0m\u001b[39;49m To update, run: \u001b[0m\u001b[32;49mpip install --upgrade pip\u001b[0m\n"
     ]
    }
   ],
   "source": [
    "!pip install -r ../req.txt"
   ]
  },
  {
   "cell_type": "code",
   "execution_count": 2,
   "id": "34a46168",
   "metadata": {},
   "outputs": [
    {
     "name": "stdout",
     "output_type": "stream",
     "text": [
      "Requirement already satisfied: grpcio-tools in /Users/sreenitti/anaconda3/lib/python3.11/site-packages (1.62.1)\n",
      "Collecting protobuf<5.0dev,>=4.21.6 (from grpcio-tools)\n",
      "  Using cached protobuf-4.25.3-cp37-abi3-macosx_10_9_universal2.whl.metadata (541 bytes)\n",
      "Requirement already satisfied: grpcio>=1.62.1 in /Users/sreenitti/anaconda3/lib/python3.11/site-packages (from grpcio-tools) (1.62.1)\n",
      "Requirement already satisfied: setuptools in /Users/sreenitti/anaconda3/lib/python3.11/site-packages (from grpcio-tools) (68.0.0)\n",
      "Using cached protobuf-4.25.3-cp37-abi3-macosx_10_9_universal2.whl (394 kB)\n",
      "Installing collected packages: protobuf\n",
      "  Attempting uninstall: protobuf\n",
      "    Found existing installation: protobuf 3.20.3\n",
      "    Uninstalling protobuf-3.20.3:\n",
      "      Successfully uninstalled protobuf-3.20.3\n",
      "\u001b[31mERROR: pip's dependency resolver does not currently take into account all the packages that are installed. This behaviour is the source of the following dependency conflicts.\n",
      "tensorflow-macos 2.14.0 requires wrapt<1.15,>=1.11.0, but you have wrapt 1.16.0 which is incompatible.\n",
      "streamlit 1.16.0 requires protobuf<4,>=3.12, but you have protobuf 4.25.3 which is incompatible.\u001b[0m\u001b[31m\n",
      "\u001b[0mSuccessfully installed protobuf-4.25.3\n",
      "\n",
      "\u001b[1m[\u001b[0m\u001b[34;49mnotice\u001b[0m\u001b[1;39;49m]\u001b[0m\u001b[39;49m A new release of pip is available: \u001b[0m\u001b[31;49m23.3\u001b[0m\u001b[39;49m -> \u001b[0m\u001b[32;49m24.0\u001b[0m\n",
      "\u001b[1m[\u001b[0m\u001b[34;49mnotice\u001b[0m\u001b[1;39;49m]\u001b[0m\u001b[39;49m To update, run: \u001b[0m\u001b[32;49mpip install --upgrade pip\u001b[0m\n"
     ]
    }
   ],
   "source": [
    "!pip install grpcio-tools"
   ]
  },
  {
   "cell_type": "code",
   "execution_count": 8,
   "id": "20ef3ad1-93ca-4db4-8c39-b358aaefb40d",
   "metadata": {},
   "outputs": [
    {
     "ename": "ModuleNotFoundError",
     "evalue": "No module named 'ipywidgets'",
     "output_type": "error",
     "traceback": [
      "\u001b[0;31m---------------------------------------------------------------------------\u001b[0m",
      "\u001b[0;31mModuleNotFoundError\u001b[0m                       Traceback (most recent call last)",
      "Cell \u001b[0;32mIn[8], line 4\u001b[0m\n\u001b[1;32m      1\u001b[0m \u001b[38;5;28;01mfrom\u001b[39;00m \u001b[38;5;21;01mglob\u001b[39;00m \u001b[38;5;28;01mimport\u001b[39;00m glob\n\u001b[1;32m      2\u001b[0m \u001b[38;5;28;01mimport\u001b[39;00m \u001b[38;5;21;01mre\u001b[39;00m\n\u001b[0;32m----> 4\u001b[0m \u001b[38;5;28;01mimport\u001b[39;00m \u001b[38;5;21;01mipywidgets\u001b[39;00m \u001b[38;5;28;01mas\u001b[39;00m \u001b[38;5;21;01mwidgets\u001b[39;00m\n\u001b[1;32m      5\u001b[0m \u001b[38;5;28;01mfrom\u001b[39;00m \u001b[38;5;21;01mIPython\u001b[39;00m\u001b[38;5;21;01m.\u001b[39;00m\u001b[38;5;21;01mdisplay\u001b[39;00m \u001b[38;5;28;01mimport\u001b[39;00m display, HTML, Javascript, clear_output\n\u001b[1;32m      7\u001b[0m \u001b[38;5;28;01mfrom\u001b[39;00m \u001b[38;5;21;01mlangchain\u001b[39;00m\u001b[38;5;21;01m.\u001b[39;00m\u001b[38;5;21;01mdocument_loaders\u001b[39;00m \u001b[38;5;28;01mimport\u001b[39;00m DirectoryLoader\n",
      "\u001b[0;31mModuleNotFoundError\u001b[0m: No module named 'ipywidgets'"
     ]
    }
   ],
   "source": [
    "from glob import glob\n",
    "import re\n",
    "\n",
    "import ipywidgets as widgets\n",
    "from IPython.display import display, HTML, Javascript, clear_output\n",
    "\n",
    "from langchain.document_loaders import DirectoryLoader\n",
    "from langchain.schema import Document\n",
    "from langchain.vectorstores import Qdrant\n",
    "from langchain.embeddings import HuggingFaceEmbeddings\n",
    "from transformers import LlamaForCausalLM, LlamaTokenizer, GenerationConfig\n",
    "from peft import PeftModel"
   ]
  },
  {
   "cell_type": "code",
   "execution_count": null,
   "id": "b36c3673-6541-41e3-85ec-a1aec9156a79",
   "metadata": {},
   "outputs": [
    {
     "name": "stdout",
     "output_type": "stream",
     "text": [
      "Loading transformer embeddings...\n"
     ]
    },
    {
     "ename": "ImportError",
     "evalue": "Could not import sentence_transformers python package. Please install it with `pip install sentence-transformers`.",
     "output_type": "error",
     "traceback": [
      "\u001b[0;31m---------------------------------------------------------------------------\u001b[0m",
      "\u001b[0;31mImportError\u001b[0m                               Traceback (most recent call last)",
      "File \u001b[0;32m~/anaconda3/lib/python3.11/site-packages/langchain_community/embeddings/huggingface.py:59\u001b[0m, in \u001b[0;36mHuggingFaceEmbeddings.__init__\u001b[0;34m(self, **kwargs)\u001b[0m\n\u001b[1;32m     58\u001b[0m \u001b[38;5;28;01mtry\u001b[39;00m:\n\u001b[0;32m---> 59\u001b[0m     \u001b[38;5;28;01mimport\u001b[39;00m \u001b[38;5;21;01msentence_transformers\u001b[39;00m\n\u001b[1;32m     61\u001b[0m \u001b[38;5;28;01mexcept\u001b[39;00m \u001b[38;5;167;01mImportError\u001b[39;00m \u001b[38;5;28;01mas\u001b[39;00m exc:\n",
      "File \u001b[0;32m~/anaconda3/lib/python3.11/site-packages/sentence_transformers/__init__.py:3\u001b[0m\n\u001b[1;32m      2\u001b[0m __MODEL_HUB_ORGANIZATION__ \u001b[38;5;241m=\u001b[39m \u001b[38;5;124m\"\u001b[39m\u001b[38;5;124msentence-transformers\u001b[39m\u001b[38;5;124m\"\u001b[39m\n\u001b[0;32m----> 3\u001b[0m \u001b[38;5;28;01mfrom\u001b[39;00m \u001b[38;5;21;01m.\u001b[39;00m\u001b[38;5;21;01mdatasets\u001b[39;00m \u001b[38;5;28;01mimport\u001b[39;00m SentencesDataset, ParallelSentencesDataset\n\u001b[1;32m      4\u001b[0m \u001b[38;5;28;01mfrom\u001b[39;00m \u001b[38;5;21;01m.\u001b[39;00m\u001b[38;5;21;01mLoggingHandler\u001b[39;00m \u001b[38;5;28;01mimport\u001b[39;00m LoggingHandler\n",
      "File \u001b[0;32m~/anaconda3/lib/python3.11/site-packages/sentence_transformers/datasets/__init__.py:1\u001b[0m\n\u001b[0;32m----> 1\u001b[0m \u001b[38;5;28;01mfrom\u001b[39;00m \u001b[38;5;21;01m.\u001b[39;00m\u001b[38;5;21;01mDenoisingAutoEncoderDataset\u001b[39;00m \u001b[38;5;28;01mimport\u001b[39;00m DenoisingAutoEncoderDataset\n\u001b[1;32m      2\u001b[0m \u001b[38;5;28;01mfrom\u001b[39;00m \u001b[38;5;21;01m.\u001b[39;00m\u001b[38;5;21;01mNoDuplicatesDataLoader\u001b[39;00m \u001b[38;5;28;01mimport\u001b[39;00m NoDuplicatesDataLoader\n",
      "File \u001b[0;32m~/anaconda3/lib/python3.11/site-packages/sentence_transformers/datasets/DenoisingAutoEncoderDataset.py:5\u001b[0m\n\u001b[1;32m      4\u001b[0m \u001b[38;5;28;01mimport\u001b[39;00m \u001b[38;5;21;01mnumpy\u001b[39;00m \u001b[38;5;28;01mas\u001b[39;00m \u001b[38;5;21;01mnp\u001b[39;00m\n\u001b[0;32m----> 5\u001b[0m \u001b[38;5;28;01mfrom\u001b[39;00m \u001b[38;5;21;01mtransformers\u001b[39;00m\u001b[38;5;21;01m.\u001b[39;00m\u001b[38;5;21;01mutils\u001b[39;00m\u001b[38;5;21;01m.\u001b[39;00m\u001b[38;5;21;01mimport_utils\u001b[39;00m \u001b[38;5;28;01mimport\u001b[39;00m is_nltk_available, NLTK_IMPORT_ERROR\n\u001b[1;32m      8\u001b[0m \u001b[38;5;28;01mclass\u001b[39;00m \u001b[38;5;21;01mDenoisingAutoEncoderDataset\u001b[39;00m(Dataset):\n",
      "\u001b[0;31mImportError\u001b[0m: cannot import name 'is_nltk_available' from 'transformers.utils.import_utils' (/Users/sreenitti/anaconda3/lib/python3.11/site-packages/transformers/utils/import_utils.py)",
      "\nThe above exception was the direct cause of the following exception:\n",
      "\u001b[0;31mImportError\u001b[0m                               Traceback (most recent call last)",
      "Cell \u001b[0;32mIn[10], line 2\u001b[0m\n\u001b[1;32m      1\u001b[0m \u001b[38;5;28mprint\u001b[39m(\u001b[38;5;124m\"\u001b[39m\u001b[38;5;124mLoading transformer embeddings...\u001b[39m\u001b[38;5;124m\"\u001b[39m)\n\u001b[0;32m----> 2\u001b[0m embeddings \u001b[38;5;241m=\u001b[39m HuggingFaceEmbeddings(model_name\u001b[38;5;241m=\u001b[39m\u001b[38;5;124m\"\u001b[39m\u001b[38;5;124msentence-transformers/all-mpnet-base-v2\u001b[39m\u001b[38;5;124m\"\u001b[39m)\n\u001b[1;32m      4\u001b[0m \u001b[38;5;28mprint\u001b[39m(\u001b[38;5;124m\"\u001b[39m\u001b[38;5;124mLoading Vicuna tokenizer\u001b[39m\u001b[38;5;124m\"\u001b[39m)\n\u001b[1;32m      5\u001b[0m tokenizer \u001b[38;5;241m=\u001b[39m LlamaTokenizer\u001b[38;5;241m.\u001b[39mfrom_pretrained(\u001b[38;5;124m\"\u001b[39m\u001b[38;5;124meachadea/vicuna-13b-1.1\u001b[39m\u001b[38;5;124m\"\u001b[39m)\n",
      "File \u001b[0;32m~/anaconda3/lib/python3.11/site-packages/langchain_community/embeddings/huggingface.py:62\u001b[0m, in \u001b[0;36mHuggingFaceEmbeddings.__init__\u001b[0;34m(self, **kwargs)\u001b[0m\n\u001b[1;32m     59\u001b[0m     \u001b[38;5;28;01mimport\u001b[39;00m \u001b[38;5;21;01msentence_transformers\u001b[39;00m\n\u001b[1;32m     61\u001b[0m \u001b[38;5;28;01mexcept\u001b[39;00m \u001b[38;5;167;01mImportError\u001b[39;00m \u001b[38;5;28;01mas\u001b[39;00m exc:\n\u001b[0;32m---> 62\u001b[0m     \u001b[38;5;28;01mraise\u001b[39;00m \u001b[38;5;167;01mImportError\u001b[39;00m(\n\u001b[1;32m     63\u001b[0m         \u001b[38;5;124m\"\u001b[39m\u001b[38;5;124mCould not import sentence_transformers python package. \u001b[39m\u001b[38;5;124m\"\u001b[39m\n\u001b[1;32m     64\u001b[0m         \u001b[38;5;124m\"\u001b[39m\u001b[38;5;124mPlease install it with `pip install sentence-transformers`.\u001b[39m\u001b[38;5;124m\"\u001b[39m\n\u001b[1;32m     65\u001b[0m     ) \u001b[38;5;28;01mfrom\u001b[39;00m \u001b[38;5;21;01mexc\u001b[39;00m\n\u001b[1;32m     67\u001b[0m \u001b[38;5;28mself\u001b[39m\u001b[38;5;241m.\u001b[39mclient \u001b[38;5;241m=\u001b[39m sentence_transformers\u001b[38;5;241m.\u001b[39mSentenceTransformer(\n\u001b[1;32m     68\u001b[0m     \u001b[38;5;28mself\u001b[39m\u001b[38;5;241m.\u001b[39mmodel_name, cache_folder\u001b[38;5;241m=\u001b[39m\u001b[38;5;28mself\u001b[39m\u001b[38;5;241m.\u001b[39mcache_folder, \u001b[38;5;241m*\u001b[39m\u001b[38;5;241m*\u001b[39m\u001b[38;5;28mself\u001b[39m\u001b[38;5;241m.\u001b[39mmodel_kwargs\n\u001b[1;32m     69\u001b[0m )\n",
      "\u001b[0;31mImportError\u001b[0m: Could not import sentence_transformers python package. Please install it with `pip install sentence-transformers`."
     ]
    }
   ],
   "source": [
    "print(\"Loading transformer embeddings...\")\n",
    "embeddings = HuggingFaceEmbeddings(model_name=\"sentence-transformers/all-mpnet-base-v2\")\n",
    "\n",
    "print(\"Loading Vicuna tokenizer\")\n",
    "tokenizer = LlamaTokenizer.from_pretrained(\"eachadea/vicuna-13b-1.1\")\n",
    "\n",
    "print(\"Loading Vicuna model\")\n",
    "model = LlamaForCausalLM.from_pretrained(\"eachadea/vicuna-13b-1.1\", load_in_8bit=True, device_map=\"auto\")\n",
    "model = PeftModel.from_pretrained(model, \"kmnis/DocScribe\")\n",
    "\n",
    "# clear_output()"
   ]
  },
  {
   "cell_type": "code",
   "execution_count": null,
   "id": "2a64c5ff",
   "metadata": {},
   "outputs": [
    {
     "name": "stdout",
     "output_type": "stream",
     "text": [
      "Requirement already satisfied: sentence-transformers in /Users/sreenitti/anaconda3/lib/python3.11/site-packages (2.5.1)\n",
      "Requirement already satisfied: transformers<5.0.0,>=4.32.0 in /Users/sreenitti/anaconda3/lib/python3.11/site-packages (from sentence-transformers) (4.40.0.dev0)\n",
      "Requirement already satisfied: tqdm in /Users/sreenitti/anaconda3/lib/python3.11/site-packages (from sentence-transformers) (4.66.2)\n",
      "Requirement already satisfied: torch>=1.11.0 in /Users/sreenitti/anaconda3/lib/python3.11/site-packages (from sentence-transformers) (2.2.1)\n",
      "Requirement already satisfied: numpy in /Users/sreenitti/anaconda3/lib/python3.11/site-packages (from sentence-transformers) (1.26.4)\n",
      "Requirement already satisfied: scikit-learn in /Users/sreenitti/anaconda3/lib/python3.11/site-packages (from sentence-transformers) (1.3.0)\n",
      "Requirement already satisfied: scipy in /Users/sreenitti/anaconda3/lib/python3.11/site-packages (from sentence-transformers) (1.11.1)\n",
      "Requirement already satisfied: huggingface-hub>=0.15.1 in /Users/sreenitti/anaconda3/lib/python3.11/site-packages (from sentence-transformers) (0.21.4)\n",
      "Requirement already satisfied: Pillow in /Users/sreenitti/anaconda3/lib/python3.11/site-packages (from sentence-transformers) (9.4.0)\n",
      "Requirement already satisfied: filelock in /Users/sreenitti/anaconda3/lib/python3.11/site-packages (from huggingface-hub>=0.15.1->sentence-transformers) (3.9.0)\n",
      "Requirement already satisfied: fsspec>=2023.5.0 in /Users/sreenitti/anaconda3/lib/python3.11/site-packages (from huggingface-hub>=0.15.1->sentence-transformers) (2024.3.1)\n",
      "Requirement already satisfied: requests in /Users/sreenitti/anaconda3/lib/python3.11/site-packages (from huggingface-hub>=0.15.1->sentence-transformers) (2.31.0)\n",
      "Requirement already satisfied: pyyaml>=5.1 in /Users/sreenitti/anaconda3/lib/python3.11/site-packages (from huggingface-hub>=0.15.1->sentence-transformers) (6.0)\n",
      "Requirement already satisfied: typing-extensions>=3.7.4.3 in /Users/sreenitti/anaconda3/lib/python3.11/site-packages (from huggingface-hub>=0.15.1->sentence-transformers) (4.9.0)\n",
      "Requirement already satisfied: packaging>=20.9 in /Users/sreenitti/anaconda3/lib/python3.11/site-packages (from huggingface-hub>=0.15.1->sentence-transformers) (23.2)\n",
      "Requirement already satisfied: sympy in /Users/sreenitti/anaconda3/lib/python3.11/site-packages (from torch>=1.11.0->sentence-transformers) (1.11.1)\n",
      "Requirement already satisfied: networkx in /Users/sreenitti/anaconda3/lib/python3.11/site-packages (from torch>=1.11.0->sentence-transformers) (3.1)\n",
      "Requirement already satisfied: jinja2 in /Users/sreenitti/anaconda3/lib/python3.11/site-packages (from torch>=1.11.0->sentence-transformers) (3.1.2)\n",
      "Requirement already satisfied: regex!=2019.12.17 in /Users/sreenitti/anaconda3/lib/python3.11/site-packages (from transformers<5.0.0,>=4.32.0->sentence-transformers) (2023.12.25)\n",
      "Requirement already satisfied: tokenizers<0.19,>=0.14 in /Users/sreenitti/anaconda3/lib/python3.11/site-packages (from transformers<5.0.0,>=4.32.0->sentence-transformers) (0.15.2)\n",
      "Requirement already satisfied: safetensors>=0.4.1 in /Users/sreenitti/anaconda3/lib/python3.11/site-packages (from transformers<5.0.0,>=4.32.0->sentence-transformers) (0.4.2)\n",
      "Requirement already satisfied: joblib>=1.1.1 in /Users/sreenitti/anaconda3/lib/python3.11/site-packages (from scikit-learn->sentence-transformers) (1.3.2)\n",
      "Requirement already satisfied: threadpoolctl>=2.0.0 in /Users/sreenitti/anaconda3/lib/python3.11/site-packages (from scikit-learn->sentence-transformers) (2.2.0)\n",
      "Requirement already satisfied: MarkupSafe>=2.0 in /Users/sreenitti/anaconda3/lib/python3.11/site-packages (from jinja2->torch>=1.11.0->sentence-transformers) (2.1.1)\n",
      "Requirement already satisfied: charset-normalizer<4,>=2 in /Users/sreenitti/anaconda3/lib/python3.11/site-packages (from requests->huggingface-hub>=0.15.1->sentence-transformers) (3.3.2)\n",
      "Requirement already satisfied: idna<4,>=2.5 in /Users/sreenitti/anaconda3/lib/python3.11/site-packages (from requests->huggingface-hub>=0.15.1->sentence-transformers) (3.6)\n",
      "Requirement already satisfied: urllib3<3,>=1.21.1 in /Users/sreenitti/anaconda3/lib/python3.11/site-packages (from requests->huggingface-hub>=0.15.1->sentence-transformers) (1.26.18)\n",
      "Requirement already satisfied: certifi>=2017.4.17 in /Users/sreenitti/anaconda3/lib/python3.11/site-packages (from requests->huggingface-hub>=0.15.1->sentence-transformers) (2024.2.2)\n",
      "Requirement already satisfied: mpmath>=0.19 in /Users/sreenitti/anaconda3/lib/python3.11/site-packages (from sympy->torch>=1.11.0->sentence-transformers) (1.3.0)\n",
      "\n",
      "\u001b[1m[\u001b[0m\u001b[34;49mnotice\u001b[0m\u001b[1;39;49m]\u001b[0m\u001b[39;49m A new release of pip is available: \u001b[0m\u001b[31;49m23.3\u001b[0m\u001b[39;49m -> \u001b[0m\u001b[32;49m24.0\u001b[0m\n",
      "\u001b[1m[\u001b[0m\u001b[34;49mnotice\u001b[0m\u001b[1;39;49m]\u001b[0m\u001b[39;49m To update, run: \u001b[0m\u001b[32;49mpip install --upgrade pip\u001b[0m\n"
     ]
    }
   ],
   "source": [
    "!pip install sentence-transformers"
   ]
  },
  {
   "cell_type": "code",
   "execution_count": null,
   "id": "b2015d20-2b92-4e91-aaa6-05820642228d",
   "metadata": {
    "ExecuteTime": {
     "end_time": "2023-05-04T11:12:54.073509Z",
     "start_time": "2023-05-04T11:12:54.070689Z"
    }
   },
   "outputs": [],
   "source": [
    "def run_all_cells_below(ev):\n",
    "    display(\n",
    "        Javascript(\n",
    "            'IPython.notebook.execute_cell_range(IPython.notebook.get_selected_index()+1, IPython.notebook.ncells())'\n",
    "        )\n",
    "    )"
   ]
  },
  {
   "cell_type": "code",
   "execution_count": null,
   "id": "fd51d383-6eb8-4611-9e8d-c827b4f9f275",
   "metadata": {},
   "outputs": [],
   "source": [
    "def custom_splitter(documents):\n",
    "    docs = []\n",
    "    for d in documents:\n",
    "        doc = []\n",
    "        text = d.page_content\n",
    "        matches = re.findall(\"[,]*[A-Z ]*[,]+[A-Z ]+:[ ]*[,]*[ ]*\", text)\n",
    "        matches.reverse()\n",
    "        for i, m in enumerate(matches):\n",
    "            t = text.rsplit(m, 1)\n",
    "            assert len(t) == 2\n",
    "            m = re.sub(\"[^a-zA-Z ]\", \"\", m).strip()\n",
    "            doc.append(Document(page_content=m + \": \" + t[1], metadata=d.metadata))\n",
    "            text = t[0]\n",
    "\n",
    "            if i == len(matches) - 1:\n",
    "                doc.append(Document(page_content=t[0].strip(), metadata=d.metadata))\n",
    "        doc.reverse()\n",
    "        docs += doc\n",
    "    return docs"
   ]
  },
  {
   "cell_type": "code",
   "execution_count": null,
   "id": "d25214e0-5d8b-4004-9fa2-411474e55324",
   "metadata": {
    "ExecuteTime": {
     "end_time": "2023-05-04T14:10:40.451118Z",
     "start_time": "2023-05-04T14:10:40.417376Z"
    }
   },
   "outputs": [
    {
     "data": {
      "application/vnd.jupyter.widget-view+json": {
       "model_id": "2dd7f3ae4a424cfb92eda71325d19637",
       "version_major": 2,
       "version_minor": 0
      },
      "text/plain": [
       "VBox(children=(HTML(value='<h2><center>Patient Medical Transcript Analyzer</center></h2>'), HTML(value=\"<i><ce…"
      ]
     },
     "metadata": {},
     "output_type": "display_data"
    }
   ],
   "source": [
    "user_query = widgets.Textarea(\n",
    "    value='Describe the medical history of the patient',\n",
    "    placeholder='Ask a question',\n",
    "    options=patient_names,\n",
    "    description='',\n",
    "    layout=widgets.Layout(width='50%', height='200px'),\n",
    "    rows=5,\n",
    ")\n",
    "\n",
    "analyze_btn = widgets.Button(\n",
    "    description='Analyze Transcript',\n",
    "    disabled=False,\n",
    "    button_style='info',\n",
    "    icon='submit'\n",
    ")\n",
    "\n",
    "upload_btn = widgets.Button(\n",
    "    description='Upload Transcript',\n",
    "    disabled=True,\n",
    "    button_style='info',\n",
    "    icon='submit'\n",
    ")\n",
    "\n",
    "h1 = widgets.HTML(\"<h2><center>Patient Medical Transcript Analyzer</center></h2>\")\n",
    "h2 = widgets.HTML(\"<i><center>Upload a pdf transcript to analyze.</center></i>\")\n",
    "\n",
    "analyze_btn.on_click(run_all_cells_below)\n",
    "\n",
    "h3 = widgets.HTML(\"<b>Please enter the patient's name and your query</b>\")\n",
    "display(widgets.VBox([h1, h2, h3, user_query, widgets.HBox([upload_btn, analyze_btn])]))"
   ]
  },
  {
   "cell_type": "code",
   "execution_count": null,
   "id": "12cb2d6f-8680-4ba0-97c6-b4cad42cf021",
   "metadata": {},
   "outputs": [
    {
     "name": "stdout",
     "output_type": "stream",
     "text": [
      "<s>### Instruction:\n",
      "Below is an abstract from the medical transcription of a patient. Write a response to answer the question. Answer only from the given abstract. If you can't find the answer in the abstract, say answer not found.\n",
      "\n",
      "### Abstract:\n",
      "PAST MEDICAL HISTORY: He has difficulty climbing stairs, difficulty with airline seats, tying shoes, used to public seating, difficulty walking, high cholesterol, and high blood pressure.  He has asthma and difficulty walking two blocks or going eight to ten steps.  He has sleep apnea and snoring.  He is a diabetic, on medication.  He has joint pain, knee pain, back pain, foot and ankle pain, leg and foot swelling.  He has hemorrhoids. CULTURES TAKEN: None.,PATIENT'S CONDITION: , Stable. REVIEW OF SYSTEMS: Negative for head, neck, heart, lungs, GI, GU, orthopedic, or skin.  He also is positive for gout.  He denies chest pain, heart attack, coronary artery disease, congestive heart failure, arrhythmia, atrial fibrillation, pacemaker, pulmonary embolism, or CVA.  He denies venous insufficiency or thrombophlebitis.  Denies shortness of breath, COPD, or emphysema.  Denies thyroid problems, hip pain, osteoarthritis, rheumatoid arthritis, GERD, hiatal hernia, peptic ulcer disease, gallstones, infected gallbladder, pancreatitis, fatty liver, hepatitis, rectal bleeding, polyps, incontinence of stool, urinary stress incontinence, or cancer.  He denies cellulitis, pseudotumor cerebri, meningitis, or encephalitis.\n",
      "\n",
      "### Question:\n",
      "Describe the medical history of the patient\n",
      "\n",
      "### Response:\n",
      "The patient has a history of difficulty climbing stairs, difficulty with airline seats, tying shoes, used to public seating, difficulty walking, high cholesterol, and high blood pressure. He also has asthma and difficulty walking two blocks or going eight to ten steps. The patient is a diabetic and has joint pain, knee pain, back pain, foot and ankle pain, leg and foot swelling, and hemorrhoids. Cult\n",
      "---------------------------------------------------------\n",
      "\n"
     ]
    }
   ],
   "source": [
    "if user_name.value and user_name.value.capitalize() not in patient_names:\n",
    "    clear_output()\n",
    "    display(HTML(f\"<b><p style='color: red'>No records found for the patient {user_name.value.vapitalize()}</p></b>\"))\n",
    "elif (not user_name.value) and (not user_query.value):\n",
    "    clear_output()\n",
    "    display(HTML(f\"<b><p style='color: red'>Please select a patient and enter a query</p></b>\"))\n",
    "elif not user_query.value:\n",
    "    clear_output()\n",
    "    display(HTML(f\"<b><p style='color: red'>Please enter a query</p></b>\"))\n",
    "elif user_name.value:\n",
    "    loader = DirectoryLoader('transcript-docs/', glob=f\"{user_name.value.capitalize()}/*.txt\")\n",
    "    documents = loader.load()\n",
    "    docs = custom_splitter(documents)\n",
    "    \n",
    "    qdrant = Qdrant.from_documents(\n",
    "        docs, embeddings, \n",
    "        location=\":memory:\",  # Local mode with in-memory storage only\n",
    "        collection_name=user_name.value,\n",
    "    )\n",
    "\n",
    "    search_results = qdrant.similarity_search_with_score(user_query.value, k=3)\n",
    "    relevant_prompts = \" \".join([r[0].page_content for r in search_results])\n",
    "    relevant_docs = [r[0].metadata[\"source\"] for r in search_results]\n",
    "\n",
    "    prompt = f\"\"\"### Instruction:\n",
    "Below is an abstract from the medical transcription of a patient. Write a response to answer the question. Answer only from the given abstract. If you can't find the answer in the abstract, say answer not found.\n",
    "\n",
    "### Abstract:\n",
    "{relevant_prompts}\n",
    "\n",
    "### Question:\n",
    "{user_query.value}\n",
    "\n",
    "### Response:\n",
    "\"\"\"\n",
    "\n",
    "    inputs = tokenizer(prompt, return_tensors=\"pt\")\n",
    "    input_ids = inputs[\"input_ids\"].cuda()\n",
    "\n",
    "    generation_config = GenerationConfig(temperature=0.6, top_p=0.95, repetition_penalty=1.15)\n",
    "\n",
    "    generation_output = model.generate(input_ids=input_ids, generation_config=generation_config,\n",
    "                                       return_dict_in_generate=True, output_scores=False, max_new_tokens=100)\n",
    "\n",
    "    for s in generation_output.sequences:\n",
    "        print(tokenizer.decode(s))\n",
    "        print(\"---------------------------------------------------------\\n\")"
   ]
  },
  {
   "cell_type": "markdown",
   "id": "cf98a244-d4f6-40d6-ad37-7b9796c8622c",
   "metadata": {},
   "source": [
    "### Transcript Analyzer"
   ]
  },
  {
   "cell_type": "code",
   "execution_count": null,
   "id": "d9168305-c4a0-432e-87f5-e1ba612380e7",
   "metadata": {},
   "outputs": [],
   "source": [
    "transcript = open(f\"transcript-docs/Shannon/Visit-1.txt\").read()"
   ]
  },
  {
   "cell_type": "code",
   "execution_count": null,
   "id": "618c8057-def9-4fa9-bcb9-3f66bd7e4bc7",
   "metadata": {},
   "outputs": [
    {
     "data": {
      "text/html": [
       "<b>Patient Demographic or Personal Information:</b>"
      ],
      "text/plain": [
       "<IPython.core.display.HTML object>"
      ]
     },
     "metadata": {},
     "output_type": "display_data"
    },
    {
     "name": "stdout",
     "output_type": "stream",
     "text": [
      "Patient Age: 42\n",
      "Patient Height: 5'9\"\n",
      "Patient Current Weight: 344 pounds\n",
      "\n"
     ]
    },
    {
     "data": {
      "text/html": [
       "<b>Chief Complaint:</b>"
      ],
      "text/plain": [
       "<IPython.core.display.HTML object>"
      ]
     },
     "metadata": {},
     "output_type": "display_data"
    },
    {
     "name": "stdout",
     "output_type": "stream",
     "text": [
      "The chief complaint is not explicitly stated in the provided transcript.\n",
      "\n"
     ]
    },
    {
     "data": {
      "text/html": [
       "<b>History of Present Illness:</b>"
      ],
      "text/plain": [
       "<IPython.core.display.HTML object>"
      ]
     },
     "metadata": {},
     "output_type": "display_data"
    },
    {
     "name": "stdout",
     "output_type": "stream",
     "text": [
      "The patient, ABC, is seeking consultation for laparoscopic gastric bypass due to being overweight for ten years and experiencing difficulties such as getting tired easily, not exercising, and having trouble losing weight.\n",
      "\n"
     ]
    },
    {
     "data": {
      "text/html": [
       "<b>Medical History:</b>"
      ],
      "text/plain": [
       "<IPython.core.display.HTML object>"
      ]
     },
     "metadata": {},
     "output_type": "display_data"
    },
    {
     "name": "stdout",
     "output_type": "stream",
     "text": [
      "The patient has a history of difficulty climbing stairs, difficulty with airline seats, tying shoes, using to public seating, difficulty walking, high cholesterol, high blood pressure, asthma, difficulty walking two blocks or going eight to ten steps, sleep apnea, snoring, joint pain, knee pain, back pain, foot and ankle pain, leg and foot swelling, hemorrhoids, and obesity.\n",
      "\n"
     ]
    },
    {
     "data": {
      "text/html": [
       "<b>Physical Examination:</b>"
      ],
      "text/plain": [
       "<IPython.core.display.HTML object>"
      ]
     },
     "metadata": {},
     "output_type": "display_data"
    },
    {
     "name": "stdout",
     "output_type": "stream",
     "text": [
      "The patient's physical examination revealed positive wheezing bilaterally, a regular heart rhythm and rate, and soft and supple neck. The abdomen was soft, and there was 1+ pitting edema.\n",
      "\n"
     ]
    },
    {
     "data": {
      "text/html": [
       "<b>Assessment and Plan:</b>"
      ],
      "text/plain": [
       "<IPython.core.display.HTML object>"
      ]
     },
     "metadata": {},
     "output_type": "display_data"
    },
    {
     "name": "stdout",
     "output_type": "stream",
     "text": [
      "Assessment and Plan: The patient has been recommended for laparoscopic gastric bypass surgery after undergoing a consultation. A detailed explanation of the risks and potential complications associated with the procedure was provided to the patient, and they expressed their willingness to proceed with the workup and evaluation process. They will require several tests and evaluations, including an upper endoscopy, a sleep study, and H. pylori testing. Once all necessary tests\n",
      "\n"
     ]
    }
   ],
   "source": [
    "sections = [\"Patient Demographic or Personal Information\", \"Chief Complaint\", \"History of Present Illness\", \"Medical History\", \"Review of Systems (ROS)\",\n",
    "            \"Physical Examination\", \"Diagnostic Tests\", \"Assessment and Plan\", \"Discharge Summary\", \"Medication Reconciliation\"]\n",
    "for s in sections:\n",
    "    prompt = f\"\"\"### Instruction:\n",
    "Below is a transcribed medical report of a patient. Write a response to answer the question. Answer only from the given abstract.\n",
    "\n",
    "### Report:\n",
    "{transcript}\n",
    "\n",
    "### Question:\n",
    "Find the part of this transcript that talks about {s} and summarize that part in two or less lines. If it's not mentioned anywhere, say Not Found.\n",
    "\n",
    "### Response:\n",
    "\"\"\"\n",
    "    inputs = tokenizer(prompt, return_tensors=\"pt\")\n",
    "    input_ids = inputs[\"input_ids\"].cuda()\n",
    "\n",
    "    generation_config = GenerationConfig(temperature=0.6, top_p=0.95, repetition_penalty=1.15)\n",
    "\n",
    "    generation_output = model.generate(input_ids=input_ids, generation_config=generation_config,\n",
    "                                       return_dict_in_generate=True, output_scores=False, max_new_tokens=100)\n",
    "\n",
    "    for out in generation_output.sequences:\n",
    "        out = tokenizer.decode(out)\n",
    "        out = out.split(\"### Response:\")[1].split(\"</s>\")[0].strip()\n",
    "        if \"not found\" not in out.lower() and \"not mention\" not in out.lower() and \"not include\" not in out.lower():\n",
    "            display(HTML(f\"<b>{s}:</b>\"))\n",
    "            print(out + \"\\n\")"
   ]
  },
  {
   "cell_type": "code",
   "execution_count": null,
   "id": "5707c390-9b03-4bde-ba1e-675b52a76c44",
   "metadata": {},
   "outputs": [],
   "source": []
  },
  {
   "cell_type": "markdown",
   "id": "25966d62-e20d-471c-bcd7-8948cc72d5e0",
   "metadata": {},
   "source": [
    "### Treatment Plan"
   ]
  },
  {
   "cell_type": "code",
   "execution_count": null,
   "id": "79627d11-5956-4e10-89af-83eb7d03e9ca",
   "metadata": {},
   "outputs": [],
   "source": [
    "def prompt_model(prompt):\n",
    "    inputs = tokenizer(prompt, return_tensors=\"pt\")\n",
    "    input_ids = inputs[\"input_ids\"].cuda()\n",
    "\n",
    "    generation_config = GenerationConfig(temperature=0.6, top_p=0.95, repetition_penalty=1.15)\n",
    "\n",
    "    generation_output = model.generate(input_ids=input_ids, generation_config=generation_config,\n",
    "                                       return_dict_in_generate=True, output_scores=False, max_new_tokens=500)\n",
    "\n",
    "    for out in generation_output.sequences:\n",
    "        out = tokenizer.decode(out)\n",
    "        out = out.split(\"### Response:\")[1].split(\"</s>\")[0].strip()\n",
    "        if \"not found\" not in out.lower() and \"not mention\" not in out.lower() and \"not include\" not in out.lower():\n",
    "            return out\n",
    "    return None"
   ]
  },
  {
   "cell_type": "code",
   "execution_count": null,
   "id": "7da95d54-0294-4176-a765-a2ce2dfde3ff",
   "metadata": {},
   "outputs": [
    {
     "data": {
      "text/html": [
       "<b>----- Extracted Symptoms -----</b>"
      ],
      "text/plain": [
       "<IPython.core.display.HTML object>"
      ]
     },
     "metadata": {},
     "output_type": "display_data"
    },
    {
     "name": "stdout",
     "output_type": "stream",
     "text": [
      "HISTORY OF PRESENT ILLNESS:\n",
      "\n",
      "* Overweight for ten years (since age 33)\n",
      "* Highest weight: 358 pounds\n",
      "* Lowest weight: 260 pounds\n",
      "* BMI: 51\n",
      "* Difficulty climbing stairs, difficulty with airline seats, tying shoes, etc.\n",
      "* Joint pain, knee pain, back pain, foot and ankle pain, leg and foot swelling, hemorrhoids\n",
      "* High cholesterol, high blood pressure, asthma, difficulty breathing, sleep apnea, snoring\n",
      "* Diabetic, on medication\n",
      "* Current smoker (stopped two weeks ago), occasional alcohol consumption (10-12 drinks per week)\n",
      "\n",
      "PAST MEDICAL HISTORY:\n",
      "\n",
      "* Orthopedic surgery\n",
      "\n",
      "SOCIAL H \n",
      "\n"
     ]
    },
    {
     "data": {
      "text/html": [
       "<b>----- Medical History -----</b>"
      ],
      "text/plain": [
       "<IPython.core.display.HTML object>"
      ]
     },
     "metadata": {},
     "output_type": "display_data"
    },
    {
     "name": "stdout",
     "output_type": "stream",
     "text": [
      "The patient's medical history includes difficulty climbing stairs, difficulty with airline seats, tying shoes, using to public seating, difficulty walking, high cholesterol, high blood pressure, asthma, difficulty walking two blocks or going eight to ten steps, having sleep apnea and snoring, being a diabetic, having joint pain, knee pain, back pain, foot and ankle pain, leg and foot swelling, hemorrhoids, obesity, heart disease, and diabetes in family history. \n",
      "\n"
     ]
    },
    {
     "data": {
      "text/html": [
       "<b>----- Diagnosis or Treatment Plan -----</b>"
      ],
      "text/plain": [
       "<IPython.core.display.HTML object>"
      ]
     },
     "metadata": {},
     "output_type": "display_data"
    },
    {
     "name": "stdout",
     "output_type": "stream",
     "text": [
      "Based on the provided information, it appears that the patient is experiencing multiple health issues related to their obesity, including joint pain, difficulty climbing stairs and walking, sleep apnea, high blood pressure, high cholesterol, and diabetes. A comprehensive treatment plan would likely involve lifestyle changes such as dietary modifications and increased physical activity, as well as management of any underlying conditions through medication and other treatments as appropriate. Additionally, addressing the patient's smoking habit and occasional alcohol consumption may also be important in improving their overall health and reducing the risk of further complications. \n",
      "\n"
     ]
    }
   ],
   "source": [
    "prompt = f\"\"\"### Instruction:\n",
    "Below is a transcribed medical report of a patient. Answer the below question truthfully and only from the given abstract.\n",
    "\n",
    "### Report:\n",
    "\\\"\\\"\\\"{transcript}\\\"\\\"\\\"\n",
    "\n",
    "### Question:\n",
    "Extract all the medical symptoms from this report. If it's not mentioned anywhere, say Not Found.\n",
    "\n",
    "### Response:\n",
    "\"\"\"\n",
    "symp = prompt_model(prompt)\n",
    "\n",
    "prompt = f\"\"\"### Instruction:\n",
    "Below is a transcribed medical report of a patient. Answer the below question truthfully and only from the given abstract.\n",
    "\n",
    "### Report:\n",
    "\\\"\\\"\\\"{transcript}\\\"\\\"\\\"\n",
    "\n",
    "### Question:\n",
    "Extract the medical history of the patient from this report. If it's not mentioned anywhere, say Not Found.\n",
    "\n",
    "### Response:\n",
    "\"\"\"\n",
    "hist = prompt_model(prompt)\n",
    "\n",
    "prompt = f\"\"\"### Instruction:\n",
    "Below are symptoms and medical history for a patient. Answer the below question truthfully and only from the given abstract.\n",
    "\n",
    "### Symptoms:\n",
    "\\\"\\\"\\\"{symp}\\\"\\\"\\\"\n",
    "\n",
    "### Medical History:\n",
    "\\\"\\\"\\\"{hist}\\\"\\\"\\\"\n",
    "\n",
    "### Question:\n",
    "Create a diagnosis or treatment plan for the patient based on their medical history and symptoms.\n",
    "\n",
    "### Response:\n",
    "\"\"\"\n",
    "treat = prompt_model(prompt)\n",
    "\n",
    "display(HTML(\"<b>----- Extracted Symptoms -----</b>\"))\n",
    "print(symp, \"\\n\")\n",
    "\n",
    "display(HTML(\"<b>----- Medical History -----</b>\"))\n",
    "print(hist, \"\\n\")\n",
    "\n",
    "display(HTML(\"<b>----- Diagnosis or Treatment Plan -----</b>\"))\n",
    "print(treat, \"\\n\")"
   ]
  },
  {
   "cell_type": "markdown",
   "id": "22116d78-43f1-4617-ae57-dedc4fd2407e",
   "metadata": {},
   "source": [
    "### Adverse Reactions"
   ]
  },
  {
   "cell_type": "code",
   "execution_count": null,
   "id": "0d1b27c8-2471-435d-a247-e63601f750af",
   "metadata": {},
   "outputs": [
    {
     "data": {
      "text/html": [
       "<b>----- Current Medications -----</b>"
      ],
      "text/plain": [
       "<IPython.core.display.HTML object>"
      ]
     },
     "metadata": {},
     "output_type": "display_data"
    },
    {
     "name": "stdout",
     "output_type": "stream",
     "text": [
      "Current Medications: Diovan (name unknown), Crestor, and Tricor \n",
      "\n"
     ]
    },
    {
     "data": {
      "text/html": [
       "<b>----- Medical History -----</b>"
      ],
      "text/plain": [
       "<IPython.core.display.HTML object>"
      ]
     },
     "metadata": {},
     "output_type": "display_data"
    },
    {
     "name": "stdout",
     "output_type": "stream",
     "text": [
      "The patient's medical history includes difficulty climbing stairs, difficulty with airline seats, tying shoes, using to public seating, difficulty walking, high cholesterol, high blood pressure, asthma, difficulty walking two blocks or going eight to ten steps, having sleep apnea and snoring, being a diabetic, having joint pain, knee pain, back pain, foot and ankle pain, leg and foot swelling, hemorrhoids, obesity, heart disease, and diabetes in family history. \n",
      "\n"
     ]
    },
    {
     "data": {
      "text/html": [
       "<b>----- Possible Adverse Reactions -----</b>"
      ],
      "text/plain": [
       "<IPython.core.display.HTML object>"
      ]
     },
     "metadata": {},
     "output_type": "display_data"
    },
    {
     "name": "stdout",
     "output_type": "stream",
     "text": [
      "Based on the provided medical history and current medications, there are several potential drug interactions or adverse reactions that should be considered. These include:\n",
      "\n",
      "1. Drug Interaction between Diovan and Crestor - Both of these medications are used to treat hypertension and may interact if taken together. It is important to monitor blood pressure levels closely if both drugs are prescribed.\n",
      "2. Adverse Reaction to Diovan - The patient's difficulty climbing stairs and difficulty with airline seats could be related to side effects of the medication Diovan. It is important to discuss this with the patient's healthcare provider.\n",
      "3. Adverse Reaction to Crestor - The patient's difficulty with airline seats could also be related to side effects of Crestor. It is important to discuss this with the patient's healthcare provider.\n",
      "4. Potential Adverse Reaction to Tricor - The \n",
      "\n"
     ]
    }
   ],
   "source": [
    "prompt = f\"\"\"### Instruction:\n",
    "Below is a transcribed medical report of a patient. Answer the below question truthfully and only from the given abstract.\n",
    "\n",
    "### Report:\n",
    "\\\"\\\"\\\"{transcript}\\\"\\\"\\\"\n",
    "\n",
    "### Question:\n",
    "Extract the patient's current medication from this report. If it's not mentioned anywhere, say Not Found.\n",
    "\n",
    "### Response:\n",
    "\"\"\"\n",
    "med = prompt_model(prompt)\n",
    "\n",
    "prompt = f\"\"\"### Instruction:\n",
    "Below are current medication and medical history for a patient. Answer the below question truthfully and only from the given abstract.\n",
    "\n",
    "### Current Medication:\n",
    "\\\"\\\"\\\"{med}\\\"\\\"\\\"\n",
    "\n",
    "### Medical History:\n",
    "\\\"\\\"\\\"{hist}\\\"\\\"\\\"\n",
    "\n",
    "### Question:\n",
    "Identify potential drug interactions or adverse reactions based on their medical history and current medications.\n",
    "\n",
    "### Response:\n",
    "\"\"\"\n",
    "react = prompt_model(prompt)\n",
    "\n",
    "display(HTML(\"<b>----- Current Medications -----</b>\"))\n",
    "print(med, \"\\n\")\n",
    "\n",
    "display(HTML(\"<b>----- Medical History -----</b>\"))\n",
    "print(hist, \"\\n\")\n",
    "\n",
    "display(HTML(\"<b>----- Possible Adverse Reactions -----</b>\"))\n",
    "print(react, \"\\n\")"
   ]
  },
  {
   "cell_type": "markdown",
   "id": "8195c91a-9f23-45a7-8e3b-d97de8de1017",
   "metadata": {},
   "source": [
    "### Risk of Developing Possible Future Medical Condition"
   ]
  },
  {
   "cell_type": "code",
   "execution_count": null,
   "id": "293e86d6-b1f4-4c2f-b485-f372a2f35fff",
   "metadata": {},
   "outputs": [
    {
     "data": {
      "text/html": [
       "<b>----- Demographic Information -----</b>"
      ],
      "text/plain": [
       "<IPython.core.display.HTML object>"
      ]
     },
     "metadata": {},
     "output_type": "display_data"
    },
    {
     "name": "stdout",
     "output_type": "stream",
     "text": [
      "Name: Shannon\n",
      "Age: 42\n",
      "BMI: 51 (344 pounds)\n",
      "Height: 5'9\" \n",
      "\n"
     ]
    },
    {
     "data": {
      "text/html": [
       "<b>----- Medical History -----</b>"
      ],
      "text/plain": [
       "<IPython.core.display.HTML object>"
      ]
     },
     "metadata": {},
     "output_type": "display_data"
    },
    {
     "name": "stdout",
     "output_type": "stream",
     "text": [
      "The patient's medical history includes difficulty climbing stairs, difficulty with airline seats, tying shoes, using to public seating, difficulty walking, high cholesterol, high blood pressure, asthma, difficulty walking two blocks or going eight to ten steps, having sleep apnea and snoring, being a diabetic, having joint pain, knee pain, back pain, foot and ankle pain, leg and foot swelling, hemorrhoids, obesity, heart disease, and diabetes in family history. \n",
      "\n"
     ]
    },
    {
     "data": {
      "text/html": [
       "<b>----- Possible Future Medical Conditions -----</b>"
      ],
      "text/plain": [
       "<IPython.core.display.HTML object>"
      ]
     },
     "metadata": {},
     "output_type": "display_data"
    },
    {
     "name": "stdout",
     "output_type": "stream",
     "text": [
      "As a doctor, I would say that this patient is at a very high risk of developing several medical conditions due to their medical history and demographic information. The patient has a BMI of 51 which puts them in the morbidly obese category, increasing their risk of developing conditions such as heart disease, stroke, type 2 diabetes, and certain types of cancer. Additionally, the patient's difficulty with physical activities such as climbing stairs, walking, and standing for long periods increases their risk of developing musculoskeletal disorders such as osteoarthritis. Furthermore, the patient's history of high cholesterol, high blood pressure, and sleep apnea also increase their risk of developing cardiovascular diseases and other chronic conditions. It is important that the patient works closely with their healthcare provider to manage these risks through lifestyle modifications and appropriate medications. \n",
      "\n"
     ]
    }
   ],
   "source": [
    "prompt = f\"\"\"### Instruction:\n",
    "Below is a transcribed medical report of a patient. Answer the below question truthfully and only from the given abstract.\n",
    "\n",
    "### Report:\n",
    "\\\"\\\"\\\"{transcript}\\\"\\\"\\\"\n",
    "\n",
    "### Question:\n",
    "Extract the patient's demographic information such as name, age, ethnicity, weight, etc from this report. If it's not mentioned anywhere, say Not Found.\n",
    "\n",
    "### Response:\n",
    "\"\"\"\n",
    "demo = prompt_model(prompt)\n",
    "\n",
    "prompt = f\"\"\"### Instruction:\n",
    "Below are the demographic information and medical history for a patient. Answer the below question truthfully and only from the given abstract.\n",
    "\n",
    "### Current Medication:\n",
    "\\\"\\\"\\\"{demo}\\\"\\\"\\\"\n",
    "\n",
    "### Medical History:\n",
    "\\\"\\\"\\\"{hist}\\\"\\\"\\\"\n",
    "\n",
    "### Question:\n",
    "Imagine you're a doctor. Predict the likelihood of the patient developing a particular medical condition based on their medical history and demographic information.\n",
    "\n",
    "### Response:\n",
    "\"\"\"\n",
    "cond = prompt_model(prompt)\n",
    "\n",
    "display(HTML(\"<b>----- Demographic Information -----</b>\"))\n",
    "print(demo, \"\\n\")\n",
    "\n",
    "display(HTML(\"<b>----- Medical History -----</b>\"))\n",
    "print(hist, \"\\n\")\n",
    "\n",
    "display(HTML(\"<b>----- Possible Future Medical Conditions -----</b>\"))\n",
    "print(cond, \"\\n\")"
   ]
  },
  {
   "cell_type": "markdown",
   "id": "64927f3e-6d73-475a-abdf-a84e17a93671",
   "metadata": {},
   "source": [
    "### Issues in the report and ways to improve it"
   ]
  },
  {
   "cell_type": "code",
   "execution_count": null,
   "id": "da1ca229-5bdc-4e10-aeff-e3d8e5dfc13a",
   "metadata": {},
   "outputs": [
    {
     "data": {
      "text/html": [
       "<b>----- Possible Errors and suggestions -----</b>"
      ],
      "text/plain": [
       "<IPython.core.display.HTML object>"
      ]
     },
     "metadata": {},
     "output_type": "display_data"
    },
    {
     "name": "stdout",
     "output_type": "stream",
     "text": [
      "There are several errors, inconsistencies, and issues in this report that can affect the accuracy and quality of care provided to the patient. Some of the identified issues are:\n",
      "\n",
      "1. Missing information: The report is missing some basic information such as the date of consultation, follow-up plans, and specific treatment recommendations. These details are essential for effective communication between healthcare providers and patients.\n",
      "2. Incomplete medical history: Although the report provides a detailed medical history, there are some sections that seem incomplete. For example, the social history section only mentions the patient’s current marital status and smoking habits but does not cover other important factors such as occupation, leisure activities, and family support.\n",
      "3. Conflicting information: There are some conflicting statements in the report. For instance, the patient claims that he has difficulty climbing stairs but later states that he can walk up to eight blocks without resting. This could indicate a discrepancy in the patient’s reported symptoms.\n",
      "4. Spelling and grammar errors: The report contains spelling and grammar errors that may compromise its clarity and professionalism. For example, “ideal body weight” is misspelled as “ideal bodily weight.”\n",
      "5. Unclear diagnoses: While the report lists various systems reviewed, it is unclear what specific diagnoses the patient may have based on the presented symptoms. It would be helpful if the report explicitly stated the suspected conditions and how they were ruled out.\n",
      "\n",
      "To address these issues, the following suggestions can be made:\n",
      "\n",
      "1. Ensure completeness: Healthcare professionals should ensure that all relevant information is included in the report, such as follow-up plans and specific treatment recommendations.\n",
      "2. Thorough documentation: Medical histories should be documented thoroughly, covering all aspects of the patient’s health, including social and occupational history.\n",
      "3. Clarify conflicts: Any conflicting information should be reconciled to avoid confusion and miscommunication.\n",
      "4. Proofread: Reports should be proofread carefully to eliminate spelling and grammar errors, ensuring professionalism and accuracy.\n",
      "5. Clear diagnoses: Healthcare professionals should clearly state the suspected conditions and how they were ruled out to provide clear guidance for further management.\n"
     ]
    }
   ],
   "source": [
    "prompt = f\"\"\"### Instruction:\n",
    "Below is a transcribed medical report of a patient. Answer the below question truthfully and only from the given abstract.\n",
    "\n",
    "### Report:\n",
    "\\\"\\\"\\\"{transcript}\\\"\\\"\\\"\n",
    "\n",
    "### Question:\n",
    "Analyze this report and identify any errors, inconsistencies, or other issues. Also, suggest ways to improve them\n",
    "\n",
    "### Response:\n",
    "\"\"\"\n",
    "err = prompt_model(prompt)\n",
    "display(HTML(\"<b>----- Possible Errors and suggestions -----</b>\"))\n",
    "print(err)"
   ]
  },
  {
   "cell_type": "markdown",
   "id": "4ff1b75a-765f-48fc-8b23-6bf7ec64ca43",
   "metadata": {},
   "source": [
    "### Automatic Medical Coding"
   ]
  },
  {
   "cell_type": "code",
   "execution_count": null,
   "id": "e73c9e4b-444e-4efd-9ed9-b9c76c9a952a",
   "metadata": {},
   "outputs": [
    {
     "data": {
      "text/html": [
       "<b>----- Medical Coding -----</b>"
      ],
      "text/plain": [
       "<IPython.core.display.HTML object>"
      ]
     },
     "metadata": {},
     "output_type": "display_data"
    },
    {
     "name": "stdout",
     "output_type": "stream",
     "text": [
      "The given report describes a patient seeking consultation for laparoscopic gastric bypass surgery. The patient is obese with a BMI of 51, has a history of unsuccessful weight loss attempts, and suffers from various medical conditions such as high cholesterol, high blood pressure, diabetes, joint pain, and sleep apnea. The patient reports a history of smoking and alcohol consumption, although he has recently quit smoking and reduced his alcohol intake.\n",
      "\n",
      "Based on the information provided in the report, the following ICD-10 codes could be assigned:\n",
      "\n",
      "* F33.2 (Overweight)\n",
      "* F33.9 (Obese)\n",
      "* N16.8 (Unspecified asthenia)\n",
      "* T81.9 (Other specified symptoms, not elsewhere classified)\n",
      "* R65.10 (Polycythemia)\n",
      "* D35.2 (High blood pressure, uncomplicated)\n",
      "* D40.2 (Sleep apnea syndrome)\n",
      "* K65.0 (Chronic bronchitis)\n",
      "* J45.9 (Chronic obstructive pulmonary disease, unspecified)\n",
      "* D35.6 (Hypertensive heart disease, left ventricular dysfunction)\n",
      "* D45.9 (Coronary atherosclerosis of native coronary artery without angina pectoris)\n",
      "* D42.8 (Congestive heart failure, left ventricular dysfunction)\n",
      "* D63.0 (Asthma, uncomplicated)\n",
      "* D63.1 (Asthma, status post bronchodilator therapy)\n",
      "* D63.2 (Asthma, with other concurrent medical condition)\n",
      "* D63.9 (Asthma, unspecified)\n",
      "* D11.4 (Hemorrhoids, external)\n",
      "* D11.5 (Hemorrhoids, internal)\n",
      "* D11.6 (Hemorrhoids, prolapse)\n",
      "* D11.8 (Hemorrhoidectomy)\n",
      "* D11.9 (Hemorrhoids, unspecified)\n",
      "* O\n"
     ]
    }
   ],
   "source": [
    "prompt = f\"\"\"### Instruction:\n",
    "Below is a transcribed medical report of a patient. Answer the below question truthfully and only from the given abstract.\n",
    "\n",
    "### Report:\n",
    "\\\"\\\"\\\"{transcript}\\\"\\\"\\\"\n",
    "\n",
    "### Question:\n",
    "Analyze this report and create ICD10 codes for it.\n",
    "\n",
    "### Response:\n",
    "\"\"\"\n",
    "code = prompt_model(prompt)\n",
    "display(HTML(\"<b>----- Medical Coding -----</b>\"))\n",
    "print(code)"
   ]
  },
  {
   "cell_type": "markdown",
   "id": "84cad7a7-e027-4060-97a0-813ce4ff500e",
   "metadata": {},
   "source": [
    "<b>--- TODO ---</b>"
   ]
  },
  {
   "cell_type": "code",
   "execution_count": null,
   "id": "c59cbfe6-3298-4bcf-9e84-a13440f70e92",
   "metadata": {},
   "outputs": [
    {
     "data": {
      "text/html": [
       "<b>----- Invoices and Claims generation -----</b>"
      ],
      "text/plain": [
       "<IPython.core.display.HTML object>"
      ]
     },
     "metadata": {},
     "output_type": "display_data"
    },
    {
     "name": "stdout",
     "output_type": "stream",
     "text": [
      "I am sorry, but generating an invoice and claim requires specific information about services provided and costs associated with them, which is not available in this transcript. This report provides general information about the patient's medical history, current condition, and planned treatment options, but it does not contain enough details to generate an invoice or claim.\n"
     ]
    }
   ],
   "source": [
    "prompt = f\"\"\"### Instruction:\n",
    "Below is a transcribed medical report of a patient. Answer the below question truthfully and only from the given abstract.\n",
    "\n",
    "### Report:\n",
    "\\\"\\\"\\\"{transcript}\\\"\\\"\\\"\n",
    "\n",
    "### Question:\n",
    "Generate an invoice and claims based on the data available in this report.\n",
    "\n",
    "### Response:\n",
    "\"\"\"\n",
    "inv = prompt_model(prompt)\n",
    "display(HTML(\"<b>----- Invoices and Claims generation -----</b>\"))\n",
    "print(inv)"
   ]
  },
  {
   "cell_type": "code",
   "execution_count": null,
   "id": "792b0907-fcc3-4ec8-96dd-f0fc8bca4a7f",
   "metadata": {},
   "outputs": [],
   "source": []
  },
  {
   "cell_type": "code",
   "execution_count": null,
   "id": "2515c9a6-5fd2-4e58-8374-63373ae0ffef",
   "metadata": {},
   "outputs": [],
   "source": []
  }
 ],
 "metadata": {
  "environment": {
   "kernel": "py310",
   "name": "common-cu110.m107",
   "type": "gcloud",
   "uri": "gcr.io/deeplearning-platform-release/base-cu110:m107"
  },
  "kernelspec": {
   "display_name": "Python 3 (ipykernel)",
   "language": "python",
   "name": "python3"
  },
  "language_info": {
   "codemirror_mode": {
    "name": "ipython",
    "version": 3
   },
   "file_extension": ".py",
   "mimetype": "text/x-python",
   "name": "python",
   "nbconvert_exporter": "python",
   "pygments_lexer": "ipython3",
   "version": "3.11.5"
  }
 },
 "nbformat": 4,
 "nbformat_minor": 5
}
